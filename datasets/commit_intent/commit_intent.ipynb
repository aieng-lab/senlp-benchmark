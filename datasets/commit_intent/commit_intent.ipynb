{
 "cells": [
  {
   "cell_type": "code",
   "execution_count": 1,
   "metadata": {},
   "outputs": [],
   "source": [
    "import pandas as pd\n",
    "import matplotlib.pyplot as plt\n",
    "import seaborn as sns"
   ]
  },
  {
   "cell_type": "markdown",
   "metadata": {},
   "source": [
    "### Load the data:"
   ]
  },
  {
   "cell_type": "code",
   "execution_count": 2,
   "metadata": {},
   "outputs": [],
   "source": [
    "df = pd.read_csv(\"./all_changes_gt.csv.gz\", index_col=\"Unnamed: 0\")"
   ]
  },
  {
   "cell_type": "code",
   "execution_count": 3,
   "metadata": {},
   "outputs": [
    {
     "name": "stdout",
     "output_type": "stream",
     "text": [
      "Number of instances: 2533\n"
     ]
    }
   ],
   "source": [
    "print(\"Number of instances:\", df.shape[0])"
   ]
  },
  {
   "cell_type": "code",
   "execution_count": 4,
   "metadata": {},
   "outputs": [
    {
     "data": {
      "text/html": [
       "<div>\n",
       "<style scoped>\n",
       "    .dataframe tbody tr th:only-of-type {\n",
       "        vertical-align: middle;\n",
       "    }\n",
       "\n",
       "    .dataframe tbody tr th {\n",
       "        vertical-align: top;\n",
       "    }\n",
       "\n",
       "    .dataframe thead th {\n",
       "        text-align: right;\n",
       "    }\n",
       "</style>\n",
       "<table border=\"1\" class=\"dataframe\">\n",
       "  <thead>\n",
       "    <tr style=\"text-align: right;\">\n",
       "      <th></th>\n",
       "      <th>project</th>\n",
       "      <th>revision_hash</th>\n",
       "      <th>committer_date</th>\n",
       "      <th>message</th>\n",
       "      <th>lines_added</th>\n",
       "      <th>lines_deleted</th>\n",
       "      <th>files_modified</th>\n",
       "      <th>num_hunks</th>\n",
       "      <th>current_CLOC_file</th>\n",
       "      <th>current_LOC_file</th>\n",
       "      <th>...</th>\n",
       "      <th>delta_PMD_MDBASBNC</th>\n",
       "      <th>delta_PMD_RSINC</th>\n",
       "      <th>delta_PMD_SEJBFSBF</th>\n",
       "      <th>delta_PMD_JUSS</th>\n",
       "      <th>delta_PMD_SBIWC</th>\n",
       "      <th>delta_Minor</th>\n",
       "      <th>delta_Major</th>\n",
       "      <th>delta_Critical</th>\n",
       "      <th>message_no_newlines</th>\n",
       "      <th>label</th>\n",
       "    </tr>\n",
       "  </thead>\n",
       "  <tbody>\n",
       "    <tr>\n",
       "      <th>110251</th>\n",
       "      <td>struts</td>\n",
       "      <td>fab687a07e8d873c82465b29188100debf61097f</td>\n",
       "      <td>2016-02-15 12:28:01</td>\n",
       "      <td>fix patch WW-4558\\n\\ncontentType override igno...</td>\n",
       "      <td>3</td>\n",
       "      <td>3</td>\n",
       "      <td>1</td>\n",
       "      <td>3</td>\n",
       "      <td>0.0</td>\n",
       "      <td>542.0</td>\n",
       "      <td>...</td>\n",
       "      <td>0</td>\n",
       "      <td>0</td>\n",
       "      <td>0</td>\n",
       "      <td>0</td>\n",
       "      <td>0</td>\n",
       "      <td>0.0</td>\n",
       "      <td>0.0</td>\n",
       "      <td>0.0</td>\n",
       "      <td>fix patch WW-4558  contentType override ignore...</td>\n",
       "      <td>0</td>\n",
       "    </tr>\n",
       "    <tr>\n",
       "      <th>7409</th>\n",
       "      <td>cayenne</td>\n",
       "      <td>fe82b47e79f281dffec189039ce2e1e734c7c10f</td>\n",
       "      <td>2016-02-26 08:38:57</td>\n",
       "      <td>CAY-2051 | Applying new Reverse Engineering to...</td>\n",
       "      <td>2537</td>\n",
       "      <td>1440</td>\n",
       "      <td>76</td>\n",
       "      <td>217</td>\n",
       "      <td>0.0</td>\n",
       "      <td>14841.0</td>\n",
       "      <td>...</td>\n",
       "      <td>0</td>\n",
       "      <td>0</td>\n",
       "      <td>0</td>\n",
       "      <td>0</td>\n",
       "      <td>0</td>\n",
       "      <td>36.0</td>\n",
       "      <td>13.0</td>\n",
       "      <td>4.0</td>\n",
       "      <td>CAY-2051 | Applying new Reverse Engineering to...</td>\n",
       "      <td>0</td>\n",
       "    </tr>\n",
       "    <tr>\n",
       "      <th>4204</th>\n",
       "      <td>calcite</td>\n",
       "      <td>cdc1d960a2422d14dc7c25c856cb57103006f4a0</td>\n",
       "      <td>2017-03-14 16:39:54</td>\n",
       "      <td>[CALCITE-1683] Druid Specific Filter Transpose...</td>\n",
       "      <td>118</td>\n",
       "      <td>17</td>\n",
       "      <td>6</td>\n",
       "      <td>20</td>\n",
       "      <td>0.0</td>\n",
       "      <td>2488.0</td>\n",
       "      <td>...</td>\n",
       "      <td>0</td>\n",
       "      <td>0</td>\n",
       "      <td>0</td>\n",
       "      <td>0</td>\n",
       "      <td>0</td>\n",
       "      <td>4.0</td>\n",
       "      <td>0.0</td>\n",
       "      <td>0.0</td>\n",
       "      <td>[CALCITE-1683] Druid Specific Filter Transpose...</td>\n",
       "      <td>0</td>\n",
       "    </tr>\n",
       "    <tr>\n",
       "      <th>76937</th>\n",
       "      <td>mina-sshd</td>\n",
       "      <td>28a8ae258b08c6b41ab64ac25f2331168dc0415a</td>\n",
       "      <td>2013-12-03 20:32:11</td>\n",
       "      <td>SSHD-254 Suppress 'Authentication with partial...</td>\n",
       "      <td>1</td>\n",
       "      <td>1</td>\n",
       "      <td>1</td>\n",
       "      <td>1</td>\n",
       "      <td>0.0</td>\n",
       "      <td>669.0</td>\n",
       "      <td>...</td>\n",
       "      <td>0</td>\n",
       "      <td>0</td>\n",
       "      <td>0</td>\n",
       "      <td>0</td>\n",
       "      <td>0</td>\n",
       "      <td>0.0</td>\n",
       "      <td>0.0</td>\n",
       "      <td>0.0</td>\n",
       "      <td>SSHD-254 Suppress 'Authentication with partial...</td>\n",
       "      <td>2</td>\n",
       "    </tr>\n",
       "    <tr>\n",
       "      <th>24443</th>\n",
       "      <td>commons-lang</td>\n",
       "      <td>03645a1ec13a33d15d10270be759ddeaf9a5f7b5</td>\n",
       "      <td>2014-01-13 23:01:23</td>\n",
       "      <td>LANG-949 and LANG-950\\n\\n</td>\n",
       "      <td>61</td>\n",
       "      <td>29</td>\n",
       "      <td>2</td>\n",
       "      <td>20</td>\n",
       "      <td>0.0</td>\n",
       "      <td>1424.0</td>\n",
       "      <td>...</td>\n",
       "      <td>0</td>\n",
       "      <td>0</td>\n",
       "      <td>0</td>\n",
       "      <td>0</td>\n",
       "      <td>0</td>\n",
       "      <td>-1.0</td>\n",
       "      <td>0.0</td>\n",
       "      <td>0.0</td>\n",
       "      <td>LANG-949 and LANG-950</td>\n",
       "      <td>0</td>\n",
       "    </tr>\n",
       "  </tbody>\n",
       "</table>\n",
       "<p>5 rows × 2193 columns</p>\n",
       "</div>"
      ],
      "text/plain": [
       "             project                             revision_hash  \\\n",
       "110251        struts  fab687a07e8d873c82465b29188100debf61097f   \n",
       "7409         cayenne  fe82b47e79f281dffec189039ce2e1e734c7c10f   \n",
       "4204         calcite  cdc1d960a2422d14dc7c25c856cb57103006f4a0   \n",
       "76937      mina-sshd  28a8ae258b08c6b41ab64ac25f2331168dc0415a   \n",
       "24443   commons-lang  03645a1ec13a33d15d10270be759ddeaf9a5f7b5   \n",
       "\n",
       "             committer_date  \\\n",
       "110251  2016-02-15 12:28:01   \n",
       "7409    2016-02-26 08:38:57   \n",
       "4204    2017-03-14 16:39:54   \n",
       "76937   2013-12-03 20:32:11   \n",
       "24443   2014-01-13 23:01:23   \n",
       "\n",
       "                                                  message  lines_added  \\\n",
       "110251  fix patch WW-4558\\n\\ncontentType override igno...            3   \n",
       "7409    CAY-2051 | Applying new Reverse Engineering to...         2537   \n",
       "4204    [CALCITE-1683] Druid Specific Filter Transpose...          118   \n",
       "76937   SSHD-254 Suppress 'Authentication with partial...            1   \n",
       "24443                           LANG-949 and LANG-950\\n\\n           61   \n",
       "\n",
       "        lines_deleted  files_modified  num_hunks  current_CLOC_file  \\\n",
       "110251              3               1          3                0.0   \n",
       "7409             1440              76        217                0.0   \n",
       "4204               17               6         20                0.0   \n",
       "76937               1               1          1                0.0   \n",
       "24443              29               2         20                0.0   \n",
       "\n",
       "        current_LOC_file  ...  delta_PMD_MDBASBNC  delta_PMD_RSINC  \\\n",
       "110251             542.0  ...                   0                0   \n",
       "7409             14841.0  ...                   0                0   \n",
       "4204              2488.0  ...                   0                0   \n",
       "76937              669.0  ...                   0                0   \n",
       "24443             1424.0  ...                   0                0   \n",
       "\n",
       "        delta_PMD_SEJBFSBF  delta_PMD_JUSS  delta_PMD_SBIWC  delta_Minor  \\\n",
       "110251                   0               0                0          0.0   \n",
       "7409                     0               0                0         36.0   \n",
       "4204                     0               0                0          4.0   \n",
       "76937                    0               0                0          0.0   \n",
       "24443                    0               0                0         -1.0   \n",
       "\n",
       "        delta_Major  delta_Critical  \\\n",
       "110251          0.0             0.0   \n",
       "7409           13.0             4.0   \n",
       "4204            0.0             0.0   \n",
       "76937           0.0             0.0   \n",
       "24443           0.0             0.0   \n",
       "\n",
       "                                      message_no_newlines  label  \n",
       "110251  fix patch WW-4558  contentType override ignore...      0  \n",
       "7409    CAY-2051 | Applying new Reverse Engineering to...      0  \n",
       "4204    [CALCITE-1683] Druid Specific Filter Transpose...      0  \n",
       "76937   SSHD-254 Suppress 'Authentication with partial...      2  \n",
       "24443                             LANG-949 and LANG-950        0  \n",
       "\n",
       "[5 rows x 2193 columns]"
      ]
     },
     "execution_count": 4,
     "metadata": {},
     "output_type": "execute_result"
    }
   ],
   "source": [
    "df.sample(5)"
   ]
  },
  {
   "cell_type": "code",
   "execution_count": 5,
   "metadata": {},
   "outputs": [],
   "source": [
    "df.rename(columns={\"revision_hash\": \"id\", \"message\": \"text\"}, inplace=True)"
   ]
  },
  {
   "cell_type": "markdown",
   "metadata": {},
   "source": [
    "### Clean the data:"
   ]
  },
  {
   "cell_type": "code",
   "execution_count": 6,
   "metadata": {},
   "outputs": [
    {
     "name": "stdout",
     "output_type": "stream",
     "text": [
      "Number of missing texts: 0\n"
     ]
    }
   ],
   "source": [
    "print(\"Number of missing texts:\", df[\"text\"].isnull().sum())"
   ]
  },
  {
   "cell_type": "code",
   "execution_count": 7,
   "metadata": {},
   "outputs": [
    {
     "name": "stdout",
     "output_type": "stream",
     "text": [
      "Number of missing labels: 0\n"
     ]
    }
   ],
   "source": [
    "print(\"Number of missing labels:\", df[\"label\"].isnull().sum())"
   ]
  },
  {
   "cell_type": "code",
   "execution_count": 8,
   "metadata": {},
   "outputs": [
    {
     "name": "stdout",
     "output_type": "stream",
     "text": [
      "Number of duplicated texts: 57 (2.25%)\n"
     ]
    }
   ],
   "source": [
    "print(f\"Number of duplicated texts: {df[\"text\"].duplicated().sum()} ({df[\"text\"].duplicated().sum()/df.shape[0]:.2%})\")"
   ]
  },
  {
   "cell_type": "markdown",
   "metadata": {},
   "source": [
    "### Analyze distributions:"
   ]
  },
  {
   "cell_type": "code",
   "execution_count": 9,
   "metadata": {},
   "outputs": [
    {
     "data": {
      "image/png": "[encoded data removed]",
      "text/plain": [
       "<Figure size 600x400 with 1 Axes>"
      ]
     },
     "metadata": {},
     "output_type": "display_data"
    }
   ],
   "source": [
    "plt.figure(figsize=(6, 4))\n",
    "sns.histplot(df[\"text\"].str.len(), element=\"step\", fill=False)\n",
    "plt.xlim([0, df[\"text\"].str.len().quantile(.99)])\n",
    "plt.title(\"Text lenght distribution (p=99%)\")\n",
    "plt.show()"
   ]
  },
  {
   "cell_type": "code",
   "execution_count": 10,
   "metadata": {},
   "outputs": [
    {
     "data": {
      "text/plain": [
       "label\n",
       "1    0.40\n",
       "0    0.33\n",
       "2    0.27\n",
       "Name: proportion, dtype: float64"
      ]
     },
     "execution_count": 10,
     "metadata": {},
     "output_type": "execute_result"
    }
   ],
   "source": [
    "df[\"label\"].value_counts(dropna=False, normalize=True).round(2)"
   ]
  },
  {
   "cell_type": "markdown",
   "metadata": {},
   "source": [
    "- Perfective = 1\n",
    "- Corrective = 2 \n",
    "- Other = 0"
   ]
  },
  {
   "cell_type": "markdown",
   "metadata": {},
   "source": [
    "### Persist datasets:"
   ]
  },
  {
   "cell_type": "code",
   "execution_count": 11,
   "metadata": {},
   "outputs": [],
   "source": [
    "df[[\"id\", \"text\", \"label\"]].to_parquet(\"./commit_intent.parquet\", index=False)"
   ]
  },
  {
   "cell_type": "code",
   "execution_count": 12,
   "metadata": {},
   "outputs": [
    {
     "name": "stdout",
     "output_type": "stream",
     "text": [
      "Number of instances in the persisted dataset: 2533\n"
     ]
    }
   ],
   "source": [
    "print(\"Number of instances in the persisted dataset:\", df.shape[0])"
   ]
  },
  {
   "cell_type": "code",
   "execution_count": null,
   "metadata": {},
   "outputs": [],
   "source": []
  }
 ],
 "metadata": {
  "kernelspec": {
   "display_name": "senlp",
   "language": "python",
   "name": "python3"
  },
  "language_info": {
   "codemirror_mode": {
    "name": "ipython",
    "version": 3
   },
   "file_extension": ".py",
   "mimetype": "text/x-python",
   "name": "python",
   "nbconvert_exporter": "python",
   "pygments_lexer": "ipython3",
   "version": "3.12.3"
  }
 },
 "nbformat": 4,
 "nbformat_minor": 2
}
