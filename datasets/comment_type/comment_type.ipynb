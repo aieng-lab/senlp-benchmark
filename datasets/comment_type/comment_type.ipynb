{
 "cells": [
  {
   "cell_type": "code",
   "execution_count": 1,
   "metadata": {},
   "outputs": [],
   "source": [
    "import pandas as pd\n",
    "import matplotlib.pyplot as plt\n",
    "import seaborn as sns"
   ]
  },
  {
   "cell_type": "markdown",
   "metadata": {},
   "source": [
    "### Load the data:"
   ]
  },
  {
   "cell_type": "code",
   "execution_count": 2,
   "metadata": {},
   "outputs": [],
   "source": [
    "splits = {\n",
    "    \"java_train\": \"data/java_train-00000-of-00001.parquet\",\n",
    "    \"java_test\": \"data/java_test-00000-of-00001.parquet\",\n",
    "    \"python_train\": \"data/python_train-00000-of-00001.parquet\",\n",
    "    \"python_test\": \"data/python_test-00000-of-00001.parquet\",\n",
    "    \"pharo_train\": \"data/pharo_train-00000-of-00001.parquet\",\n",
    "    \"pharo_test\": \"data/pharo_test-00000-of-00001.parquet\"\n",
    "}\n",
    "\n",
    "java_train_df = pd.read_parquet(\"hf://datasets/NLBSE/nlbse25-code-comment-classification/\" + splits[\"java_train\"])\n",
    "java_test_df = pd.read_parquet(\"hf://datasets/NLBSE/nlbse25-code-comment-classification/\" + splits[\"java_test\"])\n",
    "python_train_df = pd.read_parquet(\"hf://datasets/NLBSE/nlbse25-code-comment-classification/\" + splits[\"python_train\"])\n",
    "python_test_df = pd.read_parquet(\"hf://datasets/NLBSE/nlbse25-code-comment-classification/\" + splits[\"python_test\"])\n",
    "pharo_train_df = pd.read_parquet(\"hf://datasets/NLBSE/nlbse25-code-comment-classification/\" + splits[\"pharo_train\"])\n",
    "pharo_test_df = pd.read_parquet(\"hf://datasets/NLBSE/nlbse25-code-comment-classification/\" + splits[\"pharo_test\"])"
   ]
  },
  {
   "cell_type": "code",
   "execution_count": 3,
   "metadata": {},
   "outputs": [
    {
     "name": "stdout",
     "output_type": "stream",
     "text": [
      "Number of instances in the java train dataset: 7614\n",
      "Number of instances in the java test dataset: 1725\n",
      "Number of instances in the python train dataset: 1884\n",
      "Number of instances in the python test dataset: 406\n",
      "Number of instances in the pharo train dataset: 1298\n",
      "Number of instances in the pharo test dataset: 289\n"
     ]
    }
   ],
   "source": [
    "print(\"Number of instances in the java train dataset:\", java_train_df.shape[0])\n",
    "print(\"Number of instances in the java test dataset:\", java_test_df.shape[0])\n",
    "print(\"Number of instances in the python train dataset:\", python_train_df.shape[0])\n",
    "print(\"Number of instances in the python test dataset:\", python_test_df.shape[0])\n",
    "print(\"Number of instances in the pharo train dataset:\", pharo_train_df.shape[0])\n",
    "print(\"Number of instances in the pharo test dataset:\", pharo_test_df.shape[0])"
   ]
  },
  {
   "cell_type": "code",
   "execution_count": 4,
   "metadata": {},
   "outputs": [
    {
     "data": {
      "text/html": [
       "<div>\n",
       "<style scoped>\n",
       "    .dataframe tbody tr th:only-of-type {\n",
       "        vertical-align: middle;\n",
       "    }\n",
       "\n",
       "    .dataframe tbody tr th {\n",
       "        vertical-align: top;\n",
       "    }\n",
       "\n",
       "    .dataframe thead th {\n",
       "        text-align: right;\n",
       "    }\n",
       "</style>\n",
       "<table border=\"1\" class=\"dataframe\">\n",
       "  <thead>\n",
       "    <tr style=\"text-align: right;\">\n",
       "      <th></th>\n",
       "      <th>index</th>\n",
       "      <th>class</th>\n",
       "      <th>comment_sentence</th>\n",
       "      <th>partition</th>\n",
       "      <th>combo</th>\n",
       "      <th>labels</th>\n",
       "    </tr>\n",
       "  </thead>\n",
       "  <tbody>\n",
       "    <tr>\n",
       "      <th>4164</th>\n",
       "      <td>7046</td>\n",
       "      <td>CleanerTask.java</td>\n",
       "      <td>restore the interrupt</td>\n",
       "      <td>0</td>\n",
       "      <td>restore the interrupt | CleanerTask.java</td>\n",
       "      <td>[1, 0, 0, 0, 0, 0, 0]</td>\n",
       "    </tr>\n",
       "    <tr>\n",
       "      <th>4277</th>\n",
       "      <td>7162</td>\n",
       "      <td>VTooltip.java</td>\n",
       "      <td>* Returns the unique id of the tooltip el...</td>\n",
       "      <td>0</td>\n",
       "      <td>* Returns the unique id of the tooltip el...</td>\n",
       "      <td>[1, 0, 0, 0, 0, 0, 0]</td>\n",
       "    </tr>\n",
       "    <tr>\n",
       "      <th>3637</th>\n",
       "      <td>6500</td>\n",
       "      <td>AutoconfEditor.java</td>\n",
       "      <td>* @return a scanner for creating Autoconf...</td>\n",
       "      <td>0</td>\n",
       "      <td>* @return a scanner for creating Autoconf...</td>\n",
       "      <td>[0, 0, 0, 1, 0, 0, 0]</td>\n",
       "    </tr>\n",
       "    <tr>\n",
       "      <th>7320</th>\n",
       "      <td>10356</td>\n",
       "      <td>TestFileSystem.java</td>\n",
       "      <td>// multiple invocations of FileSystem.get ...</td>\n",
       "      <td>0</td>\n",
       "      <td>// multiple invocations of FileSystem.get ...</td>\n",
       "      <td>[1, 0, 0, 0, 0, 0, 0]</td>\n",
       "    </tr>\n",
       "    <tr>\n",
       "      <th>97</th>\n",
       "      <td>171</td>\n",
       "      <td>ErasureCodingPolicyManager.java</td>\n",
       "      <td>this class is instantiated by the fsnamesystem.</td>\n",
       "      <td>0</td>\n",
       "      <td>this class is instantiated by the fsnamesystem...</td>\n",
       "      <td>[0, 0, 0, 1, 1, 0, 0]</td>\n",
       "    </tr>\n",
       "  </tbody>\n",
       "</table>\n",
       "</div>"
      ],
      "text/plain": [
       "      index                            class  \\\n",
       "4164   7046                 CleanerTask.java   \n",
       "4277   7162                    VTooltip.java   \n",
       "3637   6500              AutoconfEditor.java   \n",
       "7320  10356              TestFileSystem.java   \n",
       "97      171  ErasureCodingPolicyManager.java   \n",
       "\n",
       "                                       comment_sentence  partition  \\\n",
       "4164                              restore the interrupt          0   \n",
       "4277       * Returns the unique id of the tooltip el...          0   \n",
       "3637       * @return a scanner for creating Autoconf...          0   \n",
       "7320      // multiple invocations of FileSystem.get ...          0   \n",
       "97      this class is instantiated by the fsnamesystem.          0   \n",
       "\n",
       "                                                  combo                 labels  \n",
       "4164           restore the interrupt | CleanerTask.java  [1, 0, 0, 0, 0, 0, 0]  \n",
       "4277       * Returns the unique id of the tooltip el...  [1, 0, 0, 0, 0, 0, 0]  \n",
       "3637       * @return a scanner for creating Autoconf...  [0, 0, 0, 1, 0, 0, 0]  \n",
       "7320      // multiple invocations of FileSystem.get ...  [1, 0, 0, 0, 0, 0, 0]  \n",
       "97    this class is instantiated by the fsnamesystem...  [0, 0, 0, 1, 1, 0, 0]  "
      ]
     },
     "execution_count": 4,
     "metadata": {},
     "output_type": "execute_result"
    }
   ],
   "source": [
    "java_train_df.sample(5)"
   ]
  },
  {
   "cell_type": "code",
   "execution_count": 5,
   "metadata": {},
   "outputs": [
    {
     "data": {
      "text/html": [
       "<div>\n",
       "<style scoped>\n",
       "    .dataframe tbody tr th:only-of-type {\n",
       "        vertical-align: middle;\n",
       "    }\n",
       "\n",
       "    .dataframe tbody tr th {\n",
       "        vertical-align: top;\n",
       "    }\n",
       "\n",
       "    .dataframe thead th {\n",
       "        text-align: right;\n",
       "    }\n",
       "</style>\n",
       "<table border=\"1\" class=\"dataframe\">\n",
       "  <thead>\n",
       "    <tr style=\"text-align: right;\">\n",
       "      <th></th>\n",
       "      <th>index</th>\n",
       "      <th>class</th>\n",
       "      <th>comment_sentence</th>\n",
       "      <th>partition</th>\n",
       "      <th>combo</th>\n",
       "      <th>labels</th>\n",
       "    </tr>\n",
       "  </thead>\n",
       "  <tbody>\n",
       "    <tr>\n",
       "      <th>414</th>\n",
       "      <td>2670</td>\n",
       "      <td>ICPPASTTemplatedTypeTemplateParameter.java</td>\n",
       "      <td>/**\\n\\t * Get default value for template templ...</td>\n",
       "      <td>1</td>\n",
       "      <td>/**\\n\\t * Get default value for template templ...</td>\n",
       "      <td>[1, 0, 0, 0, 0, 0, 0]</td>\n",
       "    </tr>\n",
       "    <tr>\n",
       "      <th>155</th>\n",
       "      <td>1289</td>\n",
       "      <td>GwtTestSuite.java</td>\n",
       "      <td>grouping them into a suite is much faster than...</td>\n",
       "      <td>1</td>\n",
       "      <td>grouping them into a suite is much faster than...</td>\n",
       "      <td>[0, 0, 0, 0, 0, 0, 1]</td>\n",
       "    </tr>\n",
       "    <tr>\n",
       "      <th>1086</th>\n",
       "      <td>3428</td>\n",
       "      <td>AddressTypes.java</td>\n",
       "      <td>Enum of address types -as integers.</td>\n",
       "      <td>1</td>\n",
       "      <td>Enum of address types -as integers. | AddressT...</td>\n",
       "      <td>[1, 0, 0, 0, 0, 0, 0]</td>\n",
       "    </tr>\n",
       "    <tr>\n",
       "      <th>654</th>\n",
       "      <td>2943</td>\n",
       "      <td>IIndex.java</td>\n",
       "      <td>@see #findIncludes(IIndexFile, int)</td>\n",
       "      <td>1</td>\n",
       "      <td>@see #findIncludes(IIndexFile, int) | IIndex.java</td>\n",
       "      <td>[0, 0, 0, 0, 1, 0, 0]</td>\n",
       "    </tr>\n",
       "    <tr>\n",
       "      <th>1010</th>\n",
       "      <td>3343</td>\n",
       "      <td>TestTriggerBlockReport.java</td>\n",
       "      <td>/**\\n * Test manually requesting that the Data...</td>\n",
       "      <td>1</td>\n",
       "      <td>/**\\n * Test manually requesting that the Data...</td>\n",
       "      <td>[1, 0, 0, 0, 0, 0, 0]</td>\n",
       "    </tr>\n",
       "  </tbody>\n",
       "</table>\n",
       "</div>"
      ],
      "text/plain": [
       "      index                                       class  \\\n",
       "414    2670  ICPPASTTemplatedTypeTemplateParameter.java   \n",
       "155    1289                           GwtTestSuite.java   \n",
       "1086   3428                           AddressTypes.java   \n",
       "654    2943                                 IIndex.java   \n",
       "1010   3343                 TestTriggerBlockReport.java   \n",
       "\n",
       "                                       comment_sentence  partition  \\\n",
       "414   /**\\n\\t * Get default value for template templ...          1   \n",
       "155   grouping them into a suite is much faster than...          1   \n",
       "1086                Enum of address types -as integers.          1   \n",
       "654                 @see #findIncludes(IIndexFile, int)          1   \n",
       "1010  /**\\n * Test manually requesting that the Data...          1   \n",
       "\n",
       "                                                  combo                 labels  \n",
       "414   /**\\n\\t * Get default value for template templ...  [1, 0, 0, 0, 0, 0, 0]  \n",
       "155   grouping them into a suite is much faster than...  [0, 0, 0, 0, 0, 0, 1]  \n",
       "1086  Enum of address types -as integers. | AddressT...  [1, 0, 0, 0, 0, 0, 0]  \n",
       "654   @see #findIncludes(IIndexFile, int) | IIndex.java  [0, 0, 0, 0, 1, 0, 0]  \n",
       "1010  /**\\n * Test manually requesting that the Data...  [1, 0, 0, 0, 0, 0, 0]  "
      ]
     },
     "execution_count": 5,
     "metadata": {},
     "output_type": "execute_result"
    }
   ],
   "source": [
    "java_test_df.sample(5)"
   ]
  },
  {
   "cell_type": "code",
   "execution_count": 6,
   "metadata": {},
   "outputs": [
    {
     "data": {
      "text/html": [
       "<div>\n",
       "<style scoped>\n",
       "    .dataframe tbody tr th:only-of-type {\n",
       "        vertical-align: middle;\n",
       "    }\n",
       "\n",
       "    .dataframe tbody tr th {\n",
       "        vertical-align: top;\n",
       "    }\n",
       "\n",
       "    .dataframe thead th {\n",
       "        text-align: right;\n",
       "    }\n",
       "</style>\n",
       "<table border=\"1\" class=\"dataframe\">\n",
       "  <thead>\n",
       "    <tr style=\"text-align: right;\">\n",
       "      <th></th>\n",
       "      <th>index</th>\n",
       "      <th>class</th>\n",
       "      <th>comment_sentence</th>\n",
       "      <th>partition</th>\n",
       "      <th>combo</th>\n",
       "      <th>labels</th>\n",
       "    </tr>\n",
       "  </thead>\n",
       "  <tbody>\n",
       "    <tr>\n",
       "      <th>213</th>\n",
       "      <td>298</td>\n",
       "      <td>Operation</td>\n",
       "      <td>base class for migration operations.</td>\n",
       "      <td>0</td>\n",
       "      <td>base class for migration operations. | Operation</td>\n",
       "      <td>[0, 0, 0, 0, 1]</td>\n",
       "    </tr>\n",
       "    <tr>\n",
       "      <th>1219</th>\n",
       "      <td>1724</td>\n",
       "      <td>Retry</td>\n",
       "      <td>param int read</td>\n",
       "      <td>0</td>\n",
       "      <td>param int read | Retry</td>\n",
       "      <td>[0, 1, 0, 0, 0]</td>\n",
       "    </tr>\n",
       "    <tr>\n",
       "      <th>1757</th>\n",
       "      <td>2445</td>\n",
       "      <td>SGD</td>\n",
       "      <td>dampening float, optional dampening for moment...</td>\n",
       "      <td>0</td>\n",
       "      <td>dampening float, optional dampening for moment...</td>\n",
       "      <td>[0, 1, 0, 0, 0]</td>\n",
       "    </tr>\n",
       "    <tr>\n",
       "      <th>1850</th>\n",
       "      <td>2593</td>\n",
       "      <td>Unfold</td>\n",
       "      <td>output math n, c times prod text kernel size ,...</td>\n",
       "      <td>0</td>\n",
       "      <td>output math n, c times prod text kernel size ,...</td>\n",
       "      <td>[1, 0, 0, 1, 0]</td>\n",
       "    </tr>\n",
       "    <tr>\n",
       "      <th>1518</th>\n",
       "      <td>2134</td>\n",
       "      <td>Conv3d</td>\n",
       "      <td>at groups 2, the operation becomes equivalent ...</td>\n",
       "      <td>0</td>\n",
       "      <td>at groups 2, the operation becomes equivalent ...</td>\n",
       "      <td>[0, 0, 0, 0, 1]</td>\n",
       "    </tr>\n",
       "  </tbody>\n",
       "</table>\n",
       "</div>"
      ],
      "text/plain": [
       "      index      class                                   comment_sentence  \\\n",
       "213     298  Operation               base class for migration operations.   \n",
       "1219   1724      Retry                                     param int read   \n",
       "1757   2445        SGD  dampening float, optional dampening for moment...   \n",
       "1850   2593     Unfold  output math n, c times prod text kernel size ,...   \n",
       "1518   2134     Conv3d  at groups 2, the operation becomes equivalent ...   \n",
       "\n",
       "      partition                                              combo  \\\n",
       "213           0   base class for migration operations. | Operation   \n",
       "1219          0                             param int read | Retry   \n",
       "1757          0  dampening float, optional dampening for moment...   \n",
       "1850          0  output math n, c times prod text kernel size ,...   \n",
       "1518          0  at groups 2, the operation becomes equivalent ...   \n",
       "\n",
       "               labels  \n",
       "213   [0, 0, 0, 0, 1]  \n",
       "1219  [0, 1, 0, 0, 0]  \n",
       "1757  [0, 1, 0, 0, 0]  \n",
       "1850  [1, 0, 0, 1, 0]  \n",
       "1518  [0, 0, 0, 0, 1]  "
      ]
     },
     "execution_count": 6,
     "metadata": {},
     "output_type": "execute_result"
    }
   ],
   "source": [
    "python_train_df.sample(5)"
   ]
  },
  {
   "cell_type": "code",
   "execution_count": 7,
   "metadata": {},
   "outputs": [
    {
     "data": {
      "text/html": [
       "<div>\n",
       "<style scoped>\n",
       "    .dataframe tbody tr th:only-of-type {\n",
       "        vertical-align: middle;\n",
       "    }\n",
       "\n",
       "    .dataframe tbody tr th {\n",
       "        vertical-align: top;\n",
       "    }\n",
       "\n",
       "    .dataframe thead th {\n",
       "        text-align: right;\n",
       "    }\n",
       "</style>\n",
       "<table border=\"1\" class=\"dataframe\">\n",
       "  <thead>\n",
       "    <tr style=\"text-align: right;\">\n",
       "      <th></th>\n",
       "      <th>index</th>\n",
       "      <th>class</th>\n",
       "      <th>comment_sentence</th>\n",
       "      <th>partition</th>\n",
       "      <th>combo</th>\n",
       "      <th>labels</th>\n",
       "    </tr>\n",
       "  </thead>\n",
       "  <tbody>\n",
       "    <tr>\n",
       "      <th>203</th>\n",
       "      <td>1225</td>\n",
       "      <td>Environment</td>\n",
       "      <td>the default is n which is a</td>\n",
       "      <td>1</td>\n",
       "      <td>the default is n which is a | Environment</td>\n",
       "      <td>[0, 1, 0, 0, 0]</td>\n",
       "    </tr>\n",
       "    <tr>\n",
       "      <th>21</th>\n",
       "      <td>32</td>\n",
       "      <td>AutoFieldMeta</td>\n",
       "      <td>a new flag needs</td>\n",
       "      <td>1</td>\n",
       "      <td>a new flag needs | AutoFieldMeta</td>\n",
       "      <td>[1, 0, 0, 0, 0]</td>\n",
       "    </tr>\n",
       "    <tr>\n",
       "      <th>56</th>\n",
       "      <td>251</td>\n",
       "      <td>MigrationLoader</td>\n",
       "      <td>this does mean that this class must also talk ...</td>\n",
       "      <td>1</td>\n",
       "      <td>this does mean that this class must also talk ...</td>\n",
       "      <td>[1, 0, 0, 0, 0]</td>\n",
       "    </tr>\n",
       "    <tr>\n",
       "      <th>24</th>\n",
       "      <td>45</td>\n",
       "      <td>BaseCommand</td>\n",
       "      <td>if you are interested in overriding customizin...</td>\n",
       "      <td>1</td>\n",
       "      <td>if you are interested in overriding customizin...</td>\n",
       "      <td>[1, 0, 0, 0, 0]</td>\n",
       "    </tr>\n",
       "    <tr>\n",
       "      <th>77</th>\n",
       "      <td>409</td>\n",
       "      <td>Audio</td>\n",
       "      <td>if a filename or url is used, the format suppo...</td>\n",
       "      <td>1</td>\n",
       "      <td>if a filename or url is used, the format suppo...</td>\n",
       "      <td>[0, 1, 0, 0, 0]</td>\n",
       "    </tr>\n",
       "  </tbody>\n",
       "</table>\n",
       "</div>"
      ],
      "text/plain": [
       "     index            class  \\\n",
       "203   1225      Environment   \n",
       "21      32    AutoFieldMeta   \n",
       "56     251  MigrationLoader   \n",
       "24      45      BaseCommand   \n",
       "77     409            Audio   \n",
       "\n",
       "                                      comment_sentence  partition  \\\n",
       "203                        the default is n which is a          1   \n",
       "21                                    a new flag needs          1   \n",
       "56   this does mean that this class must also talk ...          1   \n",
       "24   if you are interested in overriding customizin...          1   \n",
       "77   if a filename or url is used, the format suppo...          1   \n",
       "\n",
       "                                                 combo           labels  \n",
       "203          the default is n which is a | Environment  [0, 1, 0, 0, 0]  \n",
       "21                    a new flag needs | AutoFieldMeta  [1, 0, 0, 0, 0]  \n",
       "56   this does mean that this class must also talk ...  [1, 0, 0, 0, 0]  \n",
       "24   if you are interested in overriding customizin...  [1, 0, 0, 0, 0]  \n",
       "77   if a filename or url is used, the format suppo...  [0, 1, 0, 0, 0]  "
      ]
     },
     "execution_count": 7,
     "metadata": {},
     "output_type": "execute_result"
    }
   ],
   "source": [
    "python_test_df.sample(5)"
   ]
  },
  {
   "cell_type": "code",
   "execution_count": 8,
   "metadata": {},
   "outputs": [
    {
     "data": {
      "text/html": [
       "<div>\n",
       "<style scoped>\n",
       "    .dataframe tbody tr th:only-of-type {\n",
       "        vertical-align: middle;\n",
       "    }\n",
       "\n",
       "    .dataframe tbody tr th {\n",
       "        vertical-align: top;\n",
       "    }\n",
       "\n",
       "    .dataframe thead th {\n",
       "        text-align: right;\n",
       "    }\n",
       "</style>\n",
       "<table border=\"1\" class=\"dataframe\">\n",
       "  <thead>\n",
       "    <tr style=\"text-align: right;\">\n",
       "      <th></th>\n",
       "      <th>index</th>\n",
       "      <th>class</th>\n",
       "      <th>comment_sentence</th>\n",
       "      <th>partition</th>\n",
       "      <th>combo</th>\n",
       "      <th>labels</th>\n",
       "    </tr>\n",
       "  </thead>\n",
       "  <tbody>\n",
       "    <tr>\n",
       "      <th>1116</th>\n",
       "      <td>1582</td>\n",
       "      <td>RTWeightedCircleLayout</td>\n",
       "      <td>v rtview new.</td>\n",
       "      <td>0</td>\n",
       "      <td>v rtview new. | RTWeightedCircleLayout</td>\n",
       "      <td>[0, 1, 0, 0, 0, 0, 0]</td>\n",
       "    </tr>\n",
       "    <tr>\n",
       "      <th>374</th>\n",
       "      <td>525</td>\n",
       "      <td>GtGraphTreemapSquarify</td>\n",
       "      <td>example gtgraphtreemaplayoutexamples #squarify...</td>\n",
       "      <td>0</td>\n",
       "      <td>example gtgraphtreemaplayoutexamples #squarify...</td>\n",
       "      <td>[0, 1, 0, 0, 0, 0, 0]</td>\n",
       "    </tr>\n",
       "    <tr>\n",
       "      <th>820</th>\n",
       "      <td>1159</td>\n",
       "      <td>PMGradient</td>\n",
       "      <td>computes the gradient of a function of a colle...</td>\n",
       "      <td>0</td>\n",
       "      <td>computes the gradient of a function of a colle...</td>\n",
       "      <td>[0, 0, 1, 0, 0, 0, 0]</td>\n",
       "    </tr>\n",
       "    <tr>\n",
       "      <th>499</th>\n",
       "      <td>705</td>\n",
       "      <td>SpartaLine</td>\n",
       "      <td>from get my start point</td>\n",
       "      <td>0</td>\n",
       "      <td>from get my start point | SpartaLine</td>\n",
       "      <td>[0, 0, 0, 0, 0, 1, 0]</td>\n",
       "    </tr>\n",
       "    <tr>\n",
       "      <th>226</th>\n",
       "      <td>324</td>\n",
       "      <td>BlTextElementMeasurementStrategyExamples</td>\n",
       "      <td>precise measurement</td>\n",
       "      <td>0</td>\n",
       "      <td>precise measurement | BlTextElementMeasurement...</td>\n",
       "      <td>[0, 1, 0, 0, 0, 0, 0]</td>\n",
       "    </tr>\n",
       "  </tbody>\n",
       "</table>\n",
       "</div>"
      ],
      "text/plain": [
       "      index                                     class  \\\n",
       "1116   1582                    RTWeightedCircleLayout   \n",
       "374     525                    GtGraphTreemapSquarify   \n",
       "820    1159                                PMGradient   \n",
       "499     705                                SpartaLine   \n",
       "226     324  BlTextElementMeasurementStrategyExamples   \n",
       "\n",
       "                                       comment_sentence  partition  \\\n",
       "1116                                      v rtview new.          0   \n",
       "374   example gtgraphtreemaplayoutexamples #squarify...          0   \n",
       "820   computes the gradient of a function of a colle...          0   \n",
       "499                             from get my start point          0   \n",
       "226                                 precise measurement          0   \n",
       "\n",
       "                                                  combo                 labels  \n",
       "1116             v rtview new. | RTWeightedCircleLayout  [0, 1, 0, 0, 0, 0, 0]  \n",
       "374   example gtgraphtreemaplayoutexamples #squarify...  [0, 1, 0, 0, 0, 0, 0]  \n",
       "820   computes the gradient of a function of a colle...  [0, 0, 1, 0, 0, 0, 0]  \n",
       "499                from get my start point | SpartaLine  [0, 0, 0, 0, 0, 1, 0]  \n",
       "226   precise measurement | BlTextElementMeasurement...  [0, 1, 0, 0, 0, 0, 0]  "
      ]
     },
     "execution_count": 8,
     "metadata": {},
     "output_type": "execute_result"
    }
   ],
   "source": [
    "pharo_train_df.sample(5)"
   ]
  },
  {
   "cell_type": "code",
   "execution_count": 9,
   "metadata": {},
   "outputs": [
    {
     "data": {
      "text/html": [
       "<div>\n",
       "<style scoped>\n",
       "    .dataframe tbody tr th:only-of-type {\n",
       "        vertical-align: middle;\n",
       "    }\n",
       "\n",
       "    .dataframe tbody tr th {\n",
       "        vertical-align: top;\n",
       "    }\n",
       "\n",
       "    .dataframe thead th {\n",
       "        text-align: right;\n",
       "    }\n",
       "</style>\n",
       "<table border=\"1\" class=\"dataframe\">\n",
       "  <thead>\n",
       "    <tr style=\"text-align: right;\">\n",
       "      <th></th>\n",
       "      <th>index</th>\n",
       "      <th>class</th>\n",
       "      <th>comment_sentence</th>\n",
       "      <th>partition</th>\n",
       "      <th>combo</th>\n",
       "      <th>labels</th>\n",
       "    </tr>\n",
       "  </thead>\n",
       "  <tbody>\n",
       "    <tr>\n",
       "      <th>256</th>\n",
       "      <td>1633</td>\n",
       "      <td>WAComboResponse</td>\n",
       "      <td>by default, wacomboresponse will buffer the en...</td>\n",
       "      <td>1</td>\n",
       "      <td>by default, wacomboresponse will buffer the en...</td>\n",
       "      <td>[0, 0, 1, 0, 0, 0, 0]</td>\n",
       "    </tr>\n",
       "    <tr>\n",
       "      <th>24</th>\n",
       "      <td>59</td>\n",
       "      <td>BlDecelerateInterpolator</td>\n",
       "      <td>increasing factor above 10f makes exaggerates ...</td>\n",
       "      <td>1</td>\n",
       "      <td>increasing factor above 10f makes exaggerates ...</td>\n",
       "      <td>[1, 0, 0, 0, 0, 0, 0]</td>\n",
       "    </tr>\n",
       "    <tr>\n",
       "      <th>178</th>\n",
       "      <td>1109</td>\n",
       "      <td>PRPhase</td>\n",
       "      <td>acollection</td>\n",
       "      <td>1</td>\n",
       "      <td>acollection | PRPhase</td>\n",
       "      <td>[0, 1, 0, 0, 0, 0, 0]</td>\n",
       "    </tr>\n",
       "    <tr>\n",
       "      <th>221</th>\n",
       "      <td>1345</td>\n",
       "      <td>RTFilterInView</td>\n",
       "      <td>b layout grid.</td>\n",
       "      <td>1</td>\n",
       "      <td>b layout grid. | RTFilterInView</td>\n",
       "      <td>[0, 1, 0, 0, 0, 0, 0]</td>\n",
       "    </tr>\n",
       "    <tr>\n",
       "      <th>233</th>\n",
       "      <td>1511</td>\n",
       "      <td>RTScrollBarBuilder</td>\n",
       "      <td>aving an orientation #vertical or #horizontal.</td>\n",
       "      <td>1</td>\n",
       "      <td>aving an orientation #vertical or #horizontal....</td>\n",
       "      <td>[0, 0, 0, 0, 0, 1, 0]</td>\n",
       "    </tr>\n",
       "  </tbody>\n",
       "</table>\n",
       "</div>"
      ],
      "text/plain": [
       "     index                     class  \\\n",
       "256   1633           WAComboResponse   \n",
       "24      59  BlDecelerateInterpolator   \n",
       "178   1109                   PRPhase   \n",
       "221   1345            RTFilterInView   \n",
       "233   1511        RTScrollBarBuilder   \n",
       "\n",
       "                                      comment_sentence  partition  \\\n",
       "256  by default, wacomboresponse will buffer the en...          1   \n",
       "24   increasing factor above 10f makes exaggerates ...          1   \n",
       "178                                        acollection          1   \n",
       "221                                     b layout grid.          1   \n",
       "233     aving an orientation #vertical or #horizontal.          1   \n",
       "\n",
       "                                                 combo                 labels  \n",
       "256  by default, wacomboresponse will buffer the en...  [0, 0, 1, 0, 0, 0, 0]  \n",
       "24   increasing factor above 10f makes exaggerates ...  [1, 0, 0, 0, 0, 0, 0]  \n",
       "178                              acollection | PRPhase  [0, 1, 0, 0, 0, 0, 0]  \n",
       "221                    b layout grid. | RTFilterInView  [0, 1, 0, 0, 0, 0, 0]  \n",
       "233  aving an orientation #vertical or #horizontal....  [0, 0, 0, 0, 0, 1, 0]  "
      ]
     },
     "execution_count": 9,
     "metadata": {},
     "output_type": "execute_result"
    }
   ],
   "source": [
    "pharo_test_df.sample(5)"
   ]
  },
  {
   "cell_type": "code",
   "execution_count": 10,
   "metadata": {},
   "outputs": [],
   "source": [
    "java_train_df.rename(columns={\"index\": \"id\", \"combo\": \"text\"}, inplace=True)\n",
    "java_test_df.rename(columns={\"index\": \"id\", \"combo\": \"text\"}, inplace=True)\n",
    "\n",
    "python_train_df.rename(columns={\"index\": \"id\", \"combo\": \"text\"}, inplace=True)\n",
    "python_test_df.rename(columns={\"index\": \"id\", \"combo\": \"text\"}, inplace=True)\n",
    "\n",
    "pharo_train_df.rename(columns={\"index\": \"id\", \"combo\": \"text\"}, inplace=True)\n",
    "pharo_test_df.rename(columns={\"index\": \"id\", \"combo\": \"text\"}, inplace=True)"
   ]
  },
  {
   "cell_type": "code",
   "execution_count": 11,
   "metadata": {},
   "outputs": [],
   "source": [
    "labels = {\n",
    "    \"java\": [\"summary\", \"ownership\", \"expand\", \"usage\", \"pointer\", \"deprecation\", \"rational\"],\n",
    "    \"python\": [\"usage\", \"parameters\", \"developmentNotes\", \"expand\", \"Summary\"],\n",
    "    \"pharo\": [\"keyimplementationpoints\", \"example\", \"responsibilities\", \"classreferences\", \"intent\", \"keymessages\", \"collaborators\"]\n",
    "}\n",
    "\n",
    "def normalize(x, labels):    \n",
    "    return {l: v for l, v in zip(labels, x)}\n",
    "\n",
    "labels_df = pd.json_normalize(java_train_df[\"labels\"].apply(lambda x: normalize(x, labels[\"java\"])))  # type: ignore\n",
    "labels_df.columns = [\"label_\" + c for c in labels_df.columns]\n",
    "java_train_df = pd.concat([java_train_df, labels_df], axis=1)\n",
    "\n",
    "labels_df = pd.json_normalize(java_test_df[\"labels\"].apply(lambda x: normalize(x, labels[\"java\"])))  # type: ignore\n",
    "labels_df.columns = [\"label_\" + c for c in labels_df.columns]\n",
    "java_test_df = pd.concat([java_test_df, labels_df], axis=1)\n",
    "\n",
    "labels_df = pd.json_normalize(python_train_df[\"labels\"].apply(lambda x: normalize(x, labels[\"python\"])))  # type: ignore\n",
    "labels_df.columns = [\"label_\" + c for c in labels_df.columns]\n",
    "python_train_df = pd.concat([python_train_df, labels_df], axis=1)\n",
    "\n",
    "labels_df = pd.json_normalize(python_test_df[\"labels\"].apply(lambda x: normalize(x, labels[\"python\"])))  # type: ignore\n",
    "labels_df.columns = [\"label_\" + c for c in labels_df.columns]\n",
    "python_test_df = pd.concat([python_test_df, labels_df], axis=1)\n",
    "\n",
    "labels_df = pd.json_normalize(pharo_train_df[\"labels\"].apply(lambda x: normalize(x, labels[\"pharo\"])))  # type: ignore\n",
    "labels_df.columns = [\"label_\" + c for c in labels_df.columns]\n",
    "pharo_train_df = pd.concat([pharo_train_df, labels_df], axis=1)\n",
    "\n",
    "labels_df = pd.json_normalize(pharo_test_df[\"labels\"].apply(lambda x: normalize(x, labels[\"pharo\"])))  # type: ignore\n",
    "labels_df.columns = [\"label_\" + c for c in labels_df.columns]\n",
    "pharo_test_df = pd.concat([pharo_test_df, labels_df], axis=1)"
   ]
  },
  {
   "cell_type": "markdown",
   "metadata": {},
   "source": [
    "### Clean the data:"
   ]
  },
  {
   "cell_type": "code",
   "execution_count": 12,
   "metadata": {},
   "outputs": [
    {
     "name": "stdout",
     "output_type": "stream",
     "text": [
      "Number of missing text in the java train dataset: 0\n",
      "Number of missing text in the java test dataset: 0\n",
      "Number of missing text in the python train dataset: 0\n",
      "Number of missing text in the python test dataset: 0\n",
      "Number of missing text in the pharo train dataset: 0\n",
      "Number of missing text in the pharo test dataset: 0\n"
     ]
    }
   ],
   "source": [
    "print(\"Number of missing text in the java train dataset:\", java_train_df[\"text\"].isnull().sum())\n",
    "print(\"Number of missing text in the java test dataset:\", java_test_df[\"text\"].isnull().sum())\n",
    "\n",
    "print(\"Number of missing text in the python train dataset:\", python_train_df[\"text\"].isnull().sum())\n",
    "print(\"Number of missing text in the python test dataset:\", python_test_df[\"text\"].isnull().sum())\n",
    "\n",
    "print(\"Number of missing text in the pharo train dataset:\", pharo_train_df[\"text\"].isnull().sum())\n",
    "print(\"Number of missing text in the pharo test dataset:\", pharo_test_df[\"text\"].isnull().sum())"
   ]
  },
  {
   "cell_type": "code",
   "execution_count": 13,
   "metadata": {},
   "outputs": [
    {
     "name": "stdout",
     "output_type": "stream",
     "text": [
      "Number of missing labels in the java train dataset:\n",
      "Number of missing labels in the java test dataset:\n",
      "Number of missing labels in the python train dataset:\n",
      "Number of missing labels in the python test dataset:\n",
      "Number of missing labels in the pharo train dataset:\n",
      "Number of missing labels in the pharo test dataset:\n"
     ]
    }
   ],
   "source": [
    "print(\"Number of missing labels in the java train dataset:\")\n",
    "for c in java_train_df.columns:\n",
    "    if c.startswith(\"label_\"):\n",
    "        n_missing_labels = java_train_df[c].isnull().sum()\n",
    "        if n_missing_labels > 0:\n",
    "            print(f\"- {c}:\", n_missing_labels)\n",
    "\n",
    "print(\"Number of missing labels in the java test dataset:\")\n",
    "for c in java_test_df.columns:\n",
    "    if c.startswith(\"label_\"):\n",
    "        n_missing_labels = java_test_df[c].isnull().sum()\n",
    "        if n_missing_labels > 0:\n",
    "            print(f\"- {c}:\", n_missing_labels)\n",
    "\n",
    "print(\"Number of missing labels in the python train dataset:\")\n",
    "for c in python_train_df.columns:\n",
    "    if c.startswith(\"label_\"):\n",
    "        n_missing_labels = python_train_df[c].isnull().sum()\n",
    "        if n_missing_labels > 0:\n",
    "            print(f\"- {c}:\", n_missing_labels)\n",
    "\n",
    "print(\"Number of missing labels in the python test dataset:\")\n",
    "for c in python_test_df.columns:\n",
    "    if c.startswith(\"label_\"):\n",
    "        n_missing_labels = python_test_df[c].isnull().sum()\n",
    "        if n_missing_labels > 0:\n",
    "            print(f\"- {c}:\", n_missing_labels)\n",
    "\n",
    "print(\"Number of missing labels in the pharo train dataset:\")\n",
    "for c in pharo_train_df.columns:\n",
    "    if c.startswith(\"label_\"):\n",
    "        n_missing_labels = pharo_train_df[c].isnull().sum()\n",
    "        if n_missing_labels > 0:\n",
    "            print(f\"- {c}:\", n_missing_labels)\n",
    "\n",
    "print(\"Number of missing labels in the pharo test dataset:\")\n",
    "for c in pharo_test_df.columns:\n",
    "    if c.startswith(\"label_\"):\n",
    "        n_missing_labels = pharo_test_df[c].isnull().sum()\n",
    "        if n_missing_labels > 0:\n",
    "            print(f\"- {c}:\", n_missing_labels)"
   ]
  },
  {
   "cell_type": "code",
   "execution_count": 14,
   "metadata": {},
   "outputs": [
    {
     "name": "stdout",
     "output_type": "stream",
     "text": [
      "Number of duplicated text in the java train dataset: 794 (10.43%)\n",
      "Number of duplicated text in the java test dataset: 143 (8.29%)\n",
      "Number of duplicated text in the python train dataset: 46 (2.44%)\n",
      "Number of duplicated text in the python test dataset: 0 (0.00%)\n",
      "Number of duplicated text in the pharo train dataset: 17 (1.31%)\n",
      "Number of duplicated text in the pharo test dataset: 3 (1.04%)\n"
     ]
    }
   ],
   "source": [
    "print(f\"Number of duplicated text in the java train dataset: {java_train_df[[\"text\"]].duplicated().sum()} ({java_train_df[[\"text\"]].duplicated().sum()/java_train_df.shape[0]:.2%})\")\n",
    "print(f\"Number of duplicated text in the java test dataset: {java_test_df[[\"text\"]].duplicated().sum()} ({java_test_df[[\"text\"]].duplicated().sum()/java_test_df.shape[0]:.2%})\")\n",
    "\n",
    "print(f\"Number of duplicated text in the python train dataset: {python_train_df[[\"text\"]].duplicated().sum()} ({python_train_df[[\"text\"]].duplicated().sum()/python_train_df.shape[0]:.2%})\")\n",
    "print(f\"Number of duplicated text in the python test dataset: {python_test_df[[\"text\"]].duplicated().sum()} ({python_test_df[[\"text\"]].duplicated().sum()/python_test_df.shape[0]:.2%})\")\n",
    "\n",
    "print(f\"Number of duplicated text in the pharo train dataset: {pharo_train_df[[\"text\"]].duplicated().sum()} ({pharo_train_df[[\"text\"]].duplicated().sum()/pharo_train_df.shape[0]:.2%})\")\n",
    "print(f\"Number of duplicated text in the pharo test dataset: {pharo_test_df[[\"text\"]].duplicated().sum()} ({pharo_test_df[[\"text\"]].duplicated().sum()/pharo_test_df.shape[0]:.2%})\")"
   ]
  },
  {
   "cell_type": "markdown",
   "metadata": {},
   "source": [
    "*WARNING: Duplicated texts is particularly high in the java datasets.*"
   ]
  },
  {
   "cell_type": "markdown",
   "metadata": {},
   "source": [
    "### Analyze distributions:"
   ]
  },
  {
   "cell_type": "code",
   "execution_count": 15,
   "metadata": {},
   "outputs": [
    {
     "data": {
      "image/png": "[encoded data removed]",
      "text/plain": [
       "<Figure size 1800x400 with 3 Axes>"
      ]
     },
     "metadata": {},
     "output_type": "display_data"
    }
   ],
   "source": [
    "fig, axes = plt.subplots(1, 3, sharey=True, figsize=(18, 4))\n",
    "\n",
    "sns.histplot(java_train_df[\"text\"].str.len(), element=\"step\", fill=False, ax=axes[0])\n",
    "sns.histplot(java_test_df[\"text\"].str.len(), element=\"step\", fill=False, ax=axes[0])\n",
    "axes[0].set_xlim([\n",
    "    0,\n",
    "    pd.concat([\n",
    "        java_train_df[\"text\"].str.len(),\n",
    "        java_test_df[\"text\"].str.len()\n",
    "    ], axis=1, ignore_index=True).quantile(.99).max()\n",
    "])\n",
    "axes[0].legend(labels=[\"train\", \"test\"])\n",
    "\n",
    "sns.histplot(python_train_df[\"text\"].str.len(), element=\"step\", fill=False, ax=axes[1])\n",
    "sns.histplot(python_test_df[\"text\"].str.len(), element=\"step\", fill=False, ax=axes[1])\n",
    "axes[1].set_xlim([\n",
    "    0,\n",
    "    pd.concat([\n",
    "        python_train_df[\"text\"].str.len(),\n",
    "        python_test_df[\"text\"].str.len()\n",
    "    ], axis=1, ignore_index=True).quantile(.99).max()\n",
    "])\n",
    "axes[1].legend(labels=[\"train\", \"test\"])\n",
    "\n",
    "sns.histplot(pharo_train_df[\"text\"].str.len(), element=\"step\", fill=False, ax=axes[2])\n",
    "sns.histplot(pharo_test_df[\"text\"].str.len(), element=\"step\", fill=False, ax=axes[2])\n",
    "axes[1].set_xlim([\n",
    "    0,\n",
    "    pd.concat([\n",
    "        pharo_train_df[\"text\"].str.len(),\n",
    "        pharo_test_df[\"text\"].str.len()\n",
    "    ], axis=1, ignore_index=True).quantile(.99).max()\n",
    "])\n",
    "axes[1].legend(labels=[\"train\", \"test\"])\n",
    "\n",
    "\n",
    "plt.suptitle(\"Text lenght distribution for java, python and pharo datasets (max. p=99%)\")\n",
    "plt.show()"
   ]
  },
  {
   "cell_type": "code",
   "execution_count": 20,
   "metadata": {},
   "outputs": [
    {
     "data": {
      "text/html": [
       "<div>\n",
       "<style scoped>\n",
       "    .dataframe tbody tr th:only-of-type {\n",
       "        vertical-align: middle;\n",
       "    }\n",
       "\n",
       "    .dataframe tbody tr th {\n",
       "        vertical-align: top;\n",
       "    }\n",
       "\n",
       "    .dataframe thead th {\n",
       "        text-align: right;\n",
       "    }\n",
       "</style>\n",
       "<table border=\"1\" class=\"dataframe\">\n",
       "  <thead>\n",
       "    <tr style=\"text-align: right;\">\n",
       "      <th></th>\n",
       "      <th>summary</th>\n",
       "      <th>ownership</th>\n",
       "      <th>expand</th>\n",
       "      <th>usage</th>\n",
       "      <th>pointer</th>\n",
       "      <th>deprecation</th>\n",
       "      <th>rational</th>\n",
       "    </tr>\n",
       "  </thead>\n",
       "  <tbody>\n",
       "    <tr>\n",
       "      <th>0</th>\n",
       "      <td>0.53</td>\n",
       "      <td>0.96</td>\n",
       "      <td>0.93</td>\n",
       "      <td>0.73</td>\n",
       "      <td>0.88</td>\n",
       "      <td>0.98</td>\n",
       "      <td>0.96</td>\n",
       "    </tr>\n",
       "    <tr>\n",
       "      <th>1</th>\n",
       "      <td>0.47</td>\n",
       "      <td>0.04</td>\n",
       "      <td>0.07</td>\n",
       "      <td>0.27</td>\n",
       "      <td>0.12</td>\n",
       "      <td>0.02</td>\n",
       "      <td>0.04</td>\n",
       "    </tr>\n",
       "  </tbody>\n",
       "</table>\n",
       "</div>"
      ],
      "text/plain": [
       "   summary  ownership  expand  usage  pointer  deprecation  rational\n",
       "0     0.53       0.96    0.93   0.73     0.88         0.98      0.96\n",
       "1     0.47       0.04    0.07   0.27     0.12         0.02      0.04"
      ]
     },
     "execution_count": 20,
     "metadata": {},
     "output_type": "execute_result"
    }
   ],
   "source": [
    "pd.concat([\n",
    "    java_train_df[c].value_counts(dropna=False, normalize=True).round(2).to_frame(c.replace(\"label_\", \"\"))\n",
    "    for c in java_train_df.columns\n",
    "    if c.startswith(\"label_\")\n",
    "], axis=1)"
   ]
  },
  {
   "cell_type": "code",
   "execution_count": 21,
   "metadata": {},
   "outputs": [
    {
     "data": {
      "text/html": [
       "<div>\n",
       "<style scoped>\n",
       "    .dataframe tbody tr th:only-of-type {\n",
       "        vertical-align: middle;\n",
       "    }\n",
       "\n",
       "    .dataframe tbody tr th {\n",
       "        vertical-align: top;\n",
       "    }\n",
       "\n",
       "    .dataframe thead th {\n",
       "        text-align: right;\n",
       "    }\n",
       "</style>\n",
       "<table border=\"1\" class=\"dataframe\">\n",
       "  <thead>\n",
       "    <tr style=\"text-align: right;\">\n",
       "      <th></th>\n",
       "      <th>summary</th>\n",
       "      <th>ownership</th>\n",
       "      <th>expand</th>\n",
       "      <th>usage</th>\n",
       "      <th>pointer</th>\n",
       "      <th>deprecation</th>\n",
       "      <th>rational</th>\n",
       "    </tr>\n",
       "  </thead>\n",
       "  <tbody>\n",
       "    <tr>\n",
       "      <th>1</th>\n",
       "      <td>0.52</td>\n",
       "      <td>0.03</td>\n",
       "      <td>0.06</td>\n",
       "      <td>0.25</td>\n",
       "      <td>0.11</td>\n",
       "      <td>0.01</td>\n",
       "      <td>0.04</td>\n",
       "    </tr>\n",
       "    <tr>\n",
       "      <th>0</th>\n",
       "      <td>0.48</td>\n",
       "      <td>0.97</td>\n",
       "      <td>0.94</td>\n",
       "      <td>0.75</td>\n",
       "      <td>0.89</td>\n",
       "      <td>0.99</td>\n",
       "      <td>0.96</td>\n",
       "    </tr>\n",
       "  </tbody>\n",
       "</table>\n",
       "</div>"
      ],
      "text/plain": [
       "   summary  ownership  expand  usage  pointer  deprecation  rational\n",
       "1     0.52       0.03    0.06   0.25     0.11         0.01      0.04\n",
       "0     0.48       0.97    0.94   0.75     0.89         0.99      0.96"
      ]
     },
     "execution_count": 21,
     "metadata": {},
     "output_type": "execute_result"
    }
   ],
   "source": [
    "pd.concat([\n",
    "    java_test_df[c].value_counts(dropna=False, normalize=True).round(2).to_frame(c.replace(\"label_\", \"\"))\n",
    "    for c in java_test_df.columns\n",
    "    if c.startswith(\"label_\")\n",
    "], axis=1)"
   ]
  },
  {
   "cell_type": "code",
   "execution_count": 22,
   "metadata": {},
   "outputs": [
    {
     "data": {
      "text/html": [
       "<div>\n",
       "<style scoped>\n",
       "    .dataframe tbody tr th:only-of-type {\n",
       "        vertical-align: middle;\n",
       "    }\n",
       "\n",
       "    .dataframe tbody tr th {\n",
       "        vertical-align: top;\n",
       "    }\n",
       "\n",
       "    .dataframe thead th {\n",
       "        text-align: right;\n",
       "    }\n",
       "</style>\n",
       "<table border=\"1\" class=\"dataframe\">\n",
       "  <thead>\n",
       "    <tr style=\"text-align: right;\">\n",
       "      <th></th>\n",
       "      <th>usage</th>\n",
       "      <th>parameters</th>\n",
       "      <th>developmentNotes</th>\n",
       "      <th>expand</th>\n",
       "      <th>Summary</th>\n",
       "    </tr>\n",
       "  </thead>\n",
       "  <tbody>\n",
       "    <tr>\n",
       "      <th>0</th>\n",
       "      <td>0.69</td>\n",
       "      <td>0.7</td>\n",
       "      <td>0.89</td>\n",
       "      <td>0.82</td>\n",
       "      <td>0.82</td>\n",
       "    </tr>\n",
       "    <tr>\n",
       "      <th>1</th>\n",
       "      <td>0.31</td>\n",
       "      <td>0.3</td>\n",
       "      <td>0.11</td>\n",
       "      <td>0.18</td>\n",
       "      <td>0.18</td>\n",
       "    </tr>\n",
       "  </tbody>\n",
       "</table>\n",
       "</div>"
      ],
      "text/plain": [
       "   usage  parameters  developmentNotes  expand  Summary\n",
       "0   0.69         0.7              0.89    0.82     0.82\n",
       "1   0.31         0.3              0.11    0.18     0.18"
      ]
     },
     "execution_count": 22,
     "metadata": {},
     "output_type": "execute_result"
    }
   ],
   "source": [
    "pd.concat([\n",
    "    python_train_df[c].value_counts(dropna=False, normalize=True).round(2).to_frame(c.replace(\"label_\", \"\"))\n",
    "    for c in python_train_df.columns\n",
    "    if c.startswith(\"label_\")\n",
    "], axis=1)"
   ]
  },
  {
   "cell_type": "code",
   "execution_count": 23,
   "metadata": {},
   "outputs": [
    {
     "data": {
      "text/html": [
       "<div>\n",
       "<style scoped>\n",
       "    .dataframe tbody tr th:only-of-type {\n",
       "        vertical-align: middle;\n",
       "    }\n",
       "\n",
       "    .dataframe tbody tr th {\n",
       "        vertical-align: top;\n",
       "    }\n",
       "\n",
       "    .dataframe thead th {\n",
       "        text-align: right;\n",
       "    }\n",
       "</style>\n",
       "<table border=\"1\" class=\"dataframe\">\n",
       "  <thead>\n",
       "    <tr style=\"text-align: right;\">\n",
       "      <th></th>\n",
       "      <th>usage</th>\n",
       "      <th>parameters</th>\n",
       "      <th>developmentNotes</th>\n",
       "      <th>expand</th>\n",
       "      <th>Summary</th>\n",
       "    </tr>\n",
       "  </thead>\n",
       "  <tbody>\n",
       "    <tr>\n",
       "      <th>0</th>\n",
       "      <td>0.7</td>\n",
       "      <td>0.68</td>\n",
       "      <td>0.9</td>\n",
       "      <td>0.84</td>\n",
       "      <td>0.8</td>\n",
       "    </tr>\n",
       "    <tr>\n",
       "      <th>1</th>\n",
       "      <td>0.3</td>\n",
       "      <td>0.32</td>\n",
       "      <td>0.1</td>\n",
       "      <td>0.16</td>\n",
       "      <td>0.2</td>\n",
       "    </tr>\n",
       "  </tbody>\n",
       "</table>\n",
       "</div>"
      ],
      "text/plain": [
       "   usage  parameters  developmentNotes  expand  Summary\n",
       "0    0.7        0.68               0.9    0.84      0.8\n",
       "1    0.3        0.32               0.1    0.16      0.2"
      ]
     },
     "execution_count": 23,
     "metadata": {},
     "output_type": "execute_result"
    }
   ],
   "source": [
    "pd.concat([\n",
    "    python_test_df[c].value_counts(dropna=False, normalize=True).round(2).to_frame(c.replace(\"label_\", \"\"))\n",
    "    for c in python_test_df.columns\n",
    "    if c.startswith(\"label_\")\n",
    "], axis=1)"
   ]
  },
  {
   "cell_type": "code",
   "execution_count": 25,
   "metadata": {},
   "outputs": [
    {
     "data": {
      "text/html": [
       "<div>\n",
       "<style scoped>\n",
       "    .dataframe tbody tr th:only-of-type {\n",
       "        vertical-align: middle;\n",
       "    }\n",
       "\n",
       "    .dataframe tbody tr th {\n",
       "        vertical-align: top;\n",
       "    }\n",
       "\n",
       "    .dataframe thead th {\n",
       "        text-align: right;\n",
       "    }\n",
       "</style>\n",
       "<table border=\"1\" class=\"dataframe\">\n",
       "  <thead>\n",
       "    <tr style=\"text-align: right;\">\n",
       "      <th></th>\n",
       "      <th>keyimplementationpoints</th>\n",
       "      <th>example</th>\n",
       "      <th>responsibilities</th>\n",
       "      <th>classreferences</th>\n",
       "      <th>intent</th>\n",
       "      <th>keymessages</th>\n",
       "      <th>collaborators</th>\n",
       "    </tr>\n",
       "  </thead>\n",
       "  <tbody>\n",
       "    <tr>\n",
       "      <th>0</th>\n",
       "      <td>0.86</td>\n",
       "      <td>0.58</td>\n",
       "      <td>0.81</td>\n",
       "      <td>0.96</td>\n",
       "      <td>0.88</td>\n",
       "      <td>0.84</td>\n",
       "      <td>0.94</td>\n",
       "    </tr>\n",
       "    <tr>\n",
       "      <th>1</th>\n",
       "      <td>0.14</td>\n",
       "      <td>0.42</td>\n",
       "      <td>0.19</td>\n",
       "      <td>0.04</td>\n",
       "      <td>0.12</td>\n",
       "      <td>0.16</td>\n",
       "      <td>0.06</td>\n",
       "    </tr>\n",
       "  </tbody>\n",
       "</table>\n",
       "</div>"
      ],
      "text/plain": [
       "   keyimplementationpoints  example  responsibilities  classreferences  \\\n",
       "0                     0.86     0.58              0.81             0.96   \n",
       "1                     0.14     0.42              0.19             0.04   \n",
       "\n",
       "   intent  keymessages  collaborators  \n",
       "0    0.88         0.84           0.94  \n",
       "1    0.12         0.16           0.06  "
      ]
     },
     "execution_count": 25,
     "metadata": {},
     "output_type": "execute_result"
    }
   ],
   "source": [
    "pd.concat([\n",
    "    pharo_train_df[c].value_counts(dropna=False, normalize=True).round(2).to_frame(c.replace(\"label_\", \"\"))\n",
    "    for c in pharo_train_df.columns\n",
    "    if c.startswith(\"label_\")\n",
    "], axis=1)"
   ]
  },
  {
   "cell_type": "code",
   "execution_count": 24,
   "metadata": {},
   "outputs": [
    {
     "data": {
      "text/html": [
       "<div>\n",
       "<style scoped>\n",
       "    .dataframe tbody tr th:only-of-type {\n",
       "        vertical-align: middle;\n",
       "    }\n",
       "\n",
       "    .dataframe tbody tr th {\n",
       "        vertical-align: top;\n",
       "    }\n",
       "\n",
       "    .dataframe thead th {\n",
       "        text-align: right;\n",
       "    }\n",
       "</style>\n",
       "<table border=\"1\" class=\"dataframe\">\n",
       "  <thead>\n",
       "    <tr style=\"text-align: right;\">\n",
       "      <th></th>\n",
       "      <th>keyimplementationpoints</th>\n",
       "      <th>example</th>\n",
       "      <th>responsibilities</th>\n",
       "      <th>classreferences</th>\n",
       "      <th>intent</th>\n",
       "      <th>keymessages</th>\n",
       "      <th>collaborators</th>\n",
       "    </tr>\n",
       "  </thead>\n",
       "  <tbody>\n",
       "    <tr>\n",
       "      <th>0</th>\n",
       "      <td>0.85</td>\n",
       "      <td>0.59</td>\n",
       "      <td>0.82</td>\n",
       "      <td>0.99</td>\n",
       "      <td>0.9</td>\n",
       "      <td>0.85</td>\n",
       "      <td>0.97</td>\n",
       "    </tr>\n",
       "    <tr>\n",
       "      <th>1</th>\n",
       "      <td>0.15</td>\n",
       "      <td>0.41</td>\n",
       "      <td>0.18</td>\n",
       "      <td>0.01</td>\n",
       "      <td>0.1</td>\n",
       "      <td>0.15</td>\n",
       "      <td>0.03</td>\n",
       "    </tr>\n",
       "  </tbody>\n",
       "</table>\n",
       "</div>"
      ],
      "text/plain": [
       "   keyimplementationpoints  example  responsibilities  classreferences  \\\n",
       "0                     0.85     0.59              0.82             0.99   \n",
       "1                     0.15     0.41              0.18             0.01   \n",
       "\n",
       "   intent  keymessages  collaborators  \n",
       "0     0.9         0.85           0.97  \n",
       "1     0.1         0.15           0.03  "
      ]
     },
     "execution_count": 24,
     "metadata": {},
     "output_type": "execute_result"
    }
   ],
   "source": [
    "pd.concat([\n",
    "    pharo_test_df[c].value_counts(dropna=False, normalize=True).round(2).to_frame(c.replace(\"label_\", \"\"))\n",
    "    for c in pharo_test_df.columns\n",
    "    if c.startswith(\"label_\")\n",
    "], axis=1)"
   ]
  },
  {
   "cell_type": "markdown",
   "metadata": {},
   "source": [
    "*WARNING: Some classes are highly imbalanced.*"
   ]
  },
  {
   "cell_type": "code",
   "execution_count": 26,
   "metadata": {},
   "outputs": [
    {
     "data": {
      "text/plain": [
       "1    0.976097\n",
       "2    0.021933\n",
       "3    0.001970\n",
       "Name: proportion, dtype: float64"
      ]
     },
     "execution_count": 26,
     "metadata": {},
     "output_type": "execute_result"
    }
   ],
   "source": [
    "java_train_df[[c for c in java_train_df.columns if c.startswith(\"label_\")]].sum(axis=1).value_counts(normalize=True)"
   ]
  },
  {
   "cell_type": "code",
   "execution_count": 27,
   "metadata": {},
   "outputs": [
    {
     "data": {
      "text/plain": [
       "1    0.993043\n",
       "2    0.006957\n",
       "Name: proportion, dtype: float64"
      ]
     },
     "execution_count": 27,
     "metadata": {},
     "output_type": "execute_result"
    }
   ],
   "source": [
    "java_test_df[[c for c in java_test_df.columns if c.startswith(\"label_\")]].sum(axis=1).value_counts(normalize=True)"
   ]
  },
  {
   "cell_type": "code",
   "execution_count": 28,
   "metadata": {},
   "outputs": [
    {
     "data": {
      "text/plain": [
       "1    0.916667\n",
       "2    0.078556\n",
       "3    0.004777\n",
       "Name: proportion, dtype: float64"
      ]
     },
     "execution_count": 28,
     "metadata": {},
     "output_type": "execute_result"
    }
   ],
   "source": [
    "python_train_df[[c for c in python_train_df.columns if c.startswith(\"label_\")]].sum(axis=1).value_counts(normalize=True)"
   ]
  },
  {
   "cell_type": "code",
   "execution_count": 29,
   "metadata": {},
   "outputs": [
    {
     "data": {
      "text/plain": [
       "1    0.931034\n",
       "2    0.064039\n",
       "3    0.004926\n",
       "Name: proportion, dtype: float64"
      ]
     },
     "execution_count": 29,
     "metadata": {},
     "output_type": "execute_result"
    }
   ],
   "source": [
    "python_test_df[[c for c in python_test_df.columns if c.startswith(\"label_\")]].sum(axis=1).value_counts(normalize=True)"
   ]
  },
  {
   "cell_type": "code",
   "execution_count": 30,
   "metadata": {},
   "outputs": [
    {
     "data": {
      "text/plain": [
       "1    0.897535\n",
       "2    0.083975\n",
       "3    0.016949\n",
       "4    0.001541\n",
       "Name: proportion, dtype: float64"
      ]
     },
     "execution_count": 30,
     "metadata": {},
     "output_type": "execute_result"
    }
   ],
   "source": [
    "pharo_train_df[[c for c in pharo_train_df.columns if c.startswith(\"label_\")]].sum(axis=1).value_counts(normalize=True)"
   ]
  },
  {
   "cell_type": "code",
   "execution_count": 31,
   "metadata": {},
   "outputs": [
    {
     "data": {
      "text/plain": [
       "1    0.958478\n",
       "2    0.041522\n",
       "Name: proportion, dtype: float64"
      ]
     },
     "execution_count": 31,
     "metadata": {},
     "output_type": "execute_result"
    }
   ],
   "source": [
    "pharo_test_df[[c for c in pharo_test_df.columns if c.startswith(\"label_\")]].sum(axis=1).value_counts(normalize=True)"
   ]
  },
  {
   "cell_type": "markdown",
   "metadata": {},
   "source": [
    "### Persist datasets:"
   ]
  },
  {
   "cell_type": "code",
   "execution_count": 32,
   "metadata": {},
   "outputs": [],
   "source": [
    "java_df = pd.concat([java_train_df, java_test_df], ignore_index=True)\n",
    "python_df = pd.concat([python_train_df, python_test_df], ignore_index=True)\n",
    "pharo_df = pd.concat([pharo_train_df, pharo_test_df], ignore_index=True)"
   ]
  },
  {
   "cell_type": "code",
   "execution_count": 33,
   "metadata": {},
   "outputs": [
    {
     "name": "stdout",
     "output_type": "stream",
     "text": [
      "Number of duplicated texts in the entire java dataset: 937 (10.03%)\n",
      "Number of duplicated texts in the entire python dataset: 46 (2.01%)\n",
      "Number of duplicated texts in the entire pharo dataset: 20 (1.26%)\n"
     ]
    }
   ],
   "source": [
    "print(f\"Number of duplicated texts in the entire java dataset: {java_df[\"text\"].duplicated().sum()} ({java_df[\"text\"].duplicated().sum()/java_df.shape[0]:.2%})\")\n",
    "print(f\"Number of duplicated texts in the entire python dataset: {python_df[\"text\"].duplicated().sum()} ({python_df[\"text\"].duplicated().sum()/python_df.shape[0]:.2%})\")\n",
    "print(f\"Number of duplicated texts in the entire pharo dataset: {pharo_df[\"text\"].duplicated().sum()} ({pharo_df[\"text\"].duplicated().sum()/pharo_df.shape[0]:.2%})\")"
   ]
  },
  {
   "cell_type": "code",
   "execution_count": 34,
   "metadata": {},
   "outputs": [],
   "source": [
    "java_df[[\"id\", \"text\"] + [c for c in java_df.columns if c.startswith(\"label_\")]].to_parquet(\"./comment_type_java.parquet\", index=False)\n",
    "python_df[[\"id\", \"text\"] + [c for c in python_df.columns if c.startswith(\"label_\")]].to_parquet(\"./comment_type_python.parquet\", index=False)\n",
    "pharo_df[[\"id\", \"text\"] + [c for c in pharo_df.columns if c.startswith(\"label_\")]].to_parquet(\"./comment_type_pharo.parquet\", index=False)"
   ]
  },
  {
   "cell_type": "code",
   "execution_count": 35,
   "metadata": {},
   "outputs": [
    {
     "name": "stdout",
     "output_type": "stream",
     "text": [
      "Number of instances in the persisted java dataset: 9339\n",
      "Number of instances in the persisted python dataset: 2290\n",
      "Number of instances in the persisted pharo dataset: 1587\n"
     ]
    }
   ],
   "source": [
    "print(\"Number of instances in the persisted java dataset:\", java_df.shape[0])\n",
    "print(\"Number of instances in the persisted python dataset:\", python_df.shape[0])\n",
    "print(\"Number of instances in the persisted pharo dataset:\", pharo_df.shape[0])"
   ]
  },
  {
   "cell_type": "code",
   "execution_count": null,
   "metadata": {},
   "outputs": [],
   "source": []
  }
 ],
 "metadata": {
  "kernelspec": {
   "display_name": "senlp",
   "language": "python",
   "name": "python3"
  },
  "language_info": {
   "codemirror_mode": {
    "name": "ipython",
    "version": 3
   },
   "file_extension": ".py",
   "mimetype": "text/x-python",
   "name": "python",
   "nbconvert_exporter": "python",
   "pygments_lexer": "ipython3",
   "version": "3.12.4"
  }
 },
 "nbformat": 4,
 "nbformat_minor": 2
}
