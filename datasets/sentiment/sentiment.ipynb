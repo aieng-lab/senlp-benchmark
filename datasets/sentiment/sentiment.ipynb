{
 "cells": [
  {
   "cell_type": "code",
   "execution_count": 1,
   "metadata": {},
   "outputs": [],
   "source": [
    "import pandas as pd\n",
    "import matplotlib.pyplot as plt\n",
    "import seaborn as sns"
   ]
  },
  {
   "cell_type": "markdown",
   "metadata": {},
   "source": [
    "### Load the data:"
   ]
  },
  {
   "cell_type": "code",
   "execution_count": 2,
   "metadata": {},
   "outputs": [],
   "source": [
    "api_df = pd.read_excel(\"./BenchmarkUddinSO-ConsoliatedAspectSentiment.xls\")\n",
    "github_df = pd.read_csv(\"./github_gold.csv\", delimiter=\";\")\n",
    "stackoverflow_df = pd.read_csv(\"./StackOverflow.csv\")"
   ]
  },
  {
   "cell_type": "code",
   "execution_count": 3,
   "metadata": {},
   "outputs": [
    {
     "name": "stdout",
     "output_type": "stream",
     "text": [
      "Number of instances in the API dataset: 4522\n",
      "Number of instances in the GitHub dataset: 7122\n",
      "Number of instances in the StackOverflow dataset: 1500\n"
     ]
    }
   ],
   "source": [
    "print(\"Number of instances in the API dataset:\", api_df.shape[0])\n",
    "print(\"Number of instances in the GitHub dataset:\", github_df.shape[0])\n",
    "print(\"Number of instances in the StackOverflow dataset:\", stackoverflow_df.shape[0])"
   ]
  },
  {
   "cell_type": "code",
   "execution_count": 4,
   "metadata": {},
   "outputs": [
    {
     "data": {
      "text/html": [
       "<div>\n",
       "<style scoped>\n",
       "    .dataframe tbody tr th:only-of-type {\n",
       "        vertical-align: middle;\n",
       "    }\n",
       "\n",
       "    .dataframe tbody tr th {\n",
       "        vertical-align: top;\n",
       "    }\n",
       "\n",
       "    .dataframe thead th {\n",
       "        text-align: right;\n",
       "    }\n",
       "</style>\n",
       "<table border=\"1\" class=\"dataframe\">\n",
       "  <thead>\n",
       "    <tr style=\"text-align: right;\">\n",
       "      <th></th>\n",
       "      <th>thread</th>\n",
       "      <th>tid</th>\n",
       "      <th>sent</th>\n",
       "      <th>ManualLabel</th>\n",
       "      <th>codes</th>\n",
       "      <th>stakeholder</th>\n",
       "      <th>signal</th>\n",
       "      <th>intent</th>\n",
       "      <th>action</th>\n",
       "    </tr>\n",
       "  </thead>\n",
       "  <tbody>\n",
       "    <tr>\n",
       "      <th>3607</th>\n",
       "      <td>309424</td>\n",
       "      <td>309424:100</td>\n",
       "      <td>\"It's awesome when your managers say \"Wow James!\"</td>\n",
       "      <td>p</td>\n",
       "      <td>[\"'OnlySentiment'\"]</td>\n",
       "      <td>NaN</td>\n",
       "      <td>NaN</td>\n",
       "      <td>NaN</td>\n",
       "      <td>NaN</td>\n",
       "    </tr>\n",
       "    <tr>\n",
       "      <th>1412</th>\n",
       "      <td>4991084</td>\n",
       "      <td>4991084:2</td>\n",
       "      <td>\"I have currently evaluating Java based securi...</td>\n",
       "      <td>p</td>\n",
       "      <td>[\"'Usability'\"]</td>\n",
       "      <td>NaN</td>\n",
       "      <td>NaN</td>\n",
       "      <td>NaN</td>\n",
       "      <td>NaN</td>\n",
       "    </tr>\n",
       "    <tr>\n",
       "      <th>729</th>\n",
       "      <td>3775694</td>\n",
       "      <td>3775694:7</td>\n",
       "      <td>\"If you use URL_http://commons.apache.org/io [...</td>\n",
       "      <td>o</td>\n",
       "      <td>[\"'Usability'\"]</td>\n",
       "      <td>NaN</td>\n",
       "      <td>NaN</td>\n",
       "      <td>NaN</td>\n",
       "      <td>NaN</td>\n",
       "    </tr>\n",
       "    <tr>\n",
       "      <th>2433</th>\n",
       "      <td>7358775</td>\n",
       "      <td>7358775:120</td>\n",
       "      <td>\"Let's have a look at the tutorial ... hm ... ...</td>\n",
       "      <td>o</td>\n",
       "      <td>[\"'Documentation'\"]</td>\n",
       "      <td>NaN</td>\n",
       "      <td>NaN</td>\n",
       "      <td>NaN</td>\n",
       "      <td>NaN</td>\n",
       "    </tr>\n",
       "    <tr>\n",
       "      <th>3365</th>\n",
       "      <td>5536458</td>\n",
       "      <td>5536458:16</td>\n",
       "      <td>\"I suggest you generate your serialization (if...</td>\n",
       "      <td>p</td>\n",
       "      <td>[\"'Usability'\"]</td>\n",
       "      <td>NaN</td>\n",
       "      <td>NaN</td>\n",
       "      <td>NaN</td>\n",
       "      <td>NaN</td>\n",
       "    </tr>\n",
       "  </tbody>\n",
       "</table>\n",
       "</div>"
      ],
      "text/plain": [
       "       thread          tid                                               sent  \\\n",
       "3607   309424   309424:100  \"It's awesome when your managers say \"Wow James!\"   \n",
       "1412  4991084    4991084:2  \"I have currently evaluating Java based securi...   \n",
       "729   3775694    3775694:7  \"If you use URL_http://commons.apache.org/io [...   \n",
       "2433  7358775  7358775:120  \"Let's have a look at the tutorial ... hm ... ...   \n",
       "3365  5536458   5536458:16  \"I suggest you generate your serialization (if...   \n",
       "\n",
       "     ManualLabel                codes stakeholder signal intent action  \n",
       "3607           p  [\"'OnlySentiment'\"]         NaN    NaN    NaN    NaN  \n",
       "1412           p      [\"'Usability'\"]         NaN    NaN    NaN    NaN  \n",
       "729            o      [\"'Usability'\"]         NaN    NaN    NaN    NaN  \n",
       "2433           o  [\"'Documentation'\"]         NaN    NaN    NaN    NaN  \n",
       "3365           p      [\"'Usability'\"]         NaN    NaN    NaN    NaN  "
      ]
     },
     "execution_count": 4,
     "metadata": {},
     "output_type": "execute_result"
    }
   ],
   "source": [
    "api_df.sample(5)"
   ]
  },
  {
   "cell_type": "code",
   "execution_count": 5,
   "metadata": {},
   "outputs": [
    {
     "data": {
      "text/html": [
       "<div>\n",
       "<style scoped>\n",
       "    .dataframe tbody tr th:only-of-type {\n",
       "        vertical-align: middle;\n",
       "    }\n",
       "\n",
       "    .dataframe tbody tr th {\n",
       "        vertical-align: top;\n",
       "    }\n",
       "\n",
       "    .dataframe thead th {\n",
       "        text-align: right;\n",
       "    }\n",
       "</style>\n",
       "<table border=\"1\" class=\"dataframe\">\n",
       "  <thead>\n",
       "    <tr style=\"text-align: right;\">\n",
       "      <th></th>\n",
       "      <th>ID</th>\n",
       "      <th>Polarity</th>\n",
       "      <th>Text</th>\n",
       "    </tr>\n",
       "  </thead>\n",
       "  <tbody>\n",
       "    <tr>\n",
       "      <th>2247</th>\n",
       "      <td>45875</td>\n",
       "      <td>negative</td>\n",
       "      <td>Jesus, another yak queuing up for being shaved...</td>\n",
       "    </tr>\n",
       "    <tr>\n",
       "      <th>648</th>\n",
       "      <td>460327</td>\n",
       "      <td>neutral</td>\n",
       "      <td>`Lets say the refreshrate is 24 hertz, and the...</td>\n",
       "    </tr>\n",
       "    <tr>\n",
       "      <th>5102</th>\n",
       "      <td>393371</td>\n",
       "      <td>neutral</td>\n",
       "      <td>nwsw is correct, there is an abstraction layer...</td>\n",
       "    </tr>\n",
       "    <tr>\n",
       "      <th>5607</th>\n",
       "      <td>277877</td>\n",
       "      <td>neutral</td>\n",
       "      <td>This is ok, you might want to use GHashTableIt...</td>\n",
       "    </tr>\n",
       "    <tr>\n",
       "      <th>1214</th>\n",
       "      <td>455803</td>\n",
       "      <td>negative</td>\n",
       "      <td>just in time! will try it soon! thanks! starte...</td>\n",
       "    </tr>\n",
       "  </tbody>\n",
       "</table>\n",
       "</div>"
      ],
      "text/plain": [
       "          ID  Polarity                                               Text\n",
       "2247   45875  negative  Jesus, another yak queuing up for being shaved...\n",
       "648   460327   neutral  `Lets say the refreshrate is 24 hertz, and the...\n",
       "5102  393371   neutral  nwsw is correct, there is an abstraction layer...\n",
       "5607  277877   neutral  This is ok, you might want to use GHashTableIt...\n",
       "1214  455803  negative  just in time! will try it soon! thanks! starte..."
      ]
     },
     "execution_count": 5,
     "metadata": {},
     "output_type": "execute_result"
    }
   ],
   "source": [
    "github_df.sample(5)"
   ]
  },
  {
   "cell_type": "code",
   "execution_count": 6,
   "metadata": {},
   "outputs": [
    {
     "data": {
      "text/html": [
       "<div>\n",
       "<style scoped>\n",
       "    .dataframe tbody tr th:only-of-type {\n",
       "        vertical-align: middle;\n",
       "    }\n",
       "\n",
       "    .dataframe tbody tr th {\n",
       "        vertical-align: top;\n",
       "    }\n",
       "\n",
       "    .dataframe thead th {\n",
       "        text-align: right;\n",
       "    }\n",
       "</style>\n",
       "<table border=\"1\" class=\"dataframe\">\n",
       "  <thead>\n",
       "    <tr style=\"text-align: right;\">\n",
       "      <th></th>\n",
       "      <th>id</th>\n",
       "      <th>text</th>\n",
       "      <th>oracle</th>\n",
       "    </tr>\n",
       "  </thead>\n",
       "  <tbody>\n",
       "    <tr>\n",
       "      <th>614</th>\n",
       "      <td>2269</td>\n",
       "      <td>Its always fun when you have concurrent applic...</td>\n",
       "      <td>0</td>\n",
       "    </tr>\n",
       "    <tr>\n",
       "      <th>1323</th>\n",
       "      <td>6161</td>\n",
       "      <td>list of UIDefaults by @camickr.</td>\n",
       "      <td>0</td>\n",
       "    </tr>\n",
       "    <tr>\n",
       "      <th>380</th>\n",
       "      <td>1075</td>\n",
       "      <td>I was able to figure this out.</td>\n",
       "      <td>0</td>\n",
       "    </tr>\n",
       "    <tr>\n",
       "      <th>674</th>\n",
       "      <td>2580</td>\n",
       "      <td>( see: this answer ).</td>\n",
       "      <td>0</td>\n",
       "    </tr>\n",
       "    <tr>\n",
       "      <th>482</th>\n",
       "      <td>1646</td>\n",
       "      <td>If it is 1 then updateBar will be called once,...</td>\n",
       "      <td>0</td>\n",
       "    </tr>\n",
       "  </tbody>\n",
       "</table>\n",
       "</div>"
      ],
      "text/plain": [
       "        id                                               text  oracle\n",
       "614   2269  Its always fun when you have concurrent applic...       0\n",
       "1323  6161                    list of UIDefaults by @camickr.       0\n",
       "380   1075                     I was able to figure this out.       0\n",
       "674   2580                              ( see: this answer ).       0\n",
       "482   1646  If it is 1 then updateBar will be called once,...       0"
      ]
     },
     "execution_count": 6,
     "metadata": {},
     "output_type": "execute_result"
    }
   ],
   "source": [
    "stackoverflow_df.sample(5)"
   ]
  },
  {
   "cell_type": "code",
   "execution_count": 7,
   "metadata": {},
   "outputs": [],
   "source": [
    "api_df.rename(columns={\"thread\": \"id\", \"sent\": \"text\", \"ManualLabel\": \"label\"}, inplace=True)\n",
    "github_df.rename(columns={\"ID\": \"id\", \"Text\": \"text\", \"Polarity\": \"label\"}, inplace=True)\n",
    "stackoverflow_df.rename(columns={\"oracle\": \"label\"}, inplace=True)"
   ]
  },
  {
   "cell_type": "code",
   "execution_count": 8,
   "metadata": {},
   "outputs": [
    {
     "name": "stderr",
     "output_type": "stream",
     "text": [
      "C:\\Users\\Fabian Pena\\AppData\\Local\\Temp\\ipykernel_12800\\3933453232.py:1: FutureWarning: Downcasting behavior in `replace` is deprecated and will be removed in a future version. To retain the old behavior, explicitly call `result.infer_objects(copy=False)`. To opt-in to the future behavior, set `pd.set_option('future.no_silent_downcasting', True)`\n",
      "  api_df[\"label\"] = api_df[\"label\"].replace({\"n\": 0, \"o\": 1, \"p\": 2}).astype(int)\n",
      "C:\\Users\\Fabian Pena\\AppData\\Local\\Temp\\ipykernel_12800\\3933453232.py:2: FutureWarning: Downcasting behavior in `replace` is deprecated and will be removed in a future version. To retain the old behavior, explicitly call `result.infer_objects(copy=False)`. To opt-in to the future behavior, set `pd.set_option('future.no_silent_downcasting', True)`\n",
      "  github_df[\"label\"] = github_df[\"label\"].replace({\"negative\": 0, \"neutral\": 1, \"positive\": 2}).astype(int)\n"
     ]
    }
   ],
   "source": [
    "api_df[\"label\"] = api_df[\"label\"].replace({\"n\": 0, \"o\": 1, \"p\": 2}).astype(int)\n",
    "github_df[\"label\"] = github_df[\"label\"].replace({\"negative\": 0, \"neutral\": 1, \"positive\": 2}).astype(int)\n",
    "stackoverflow_df[\"label\"] = stackoverflow_df[\"label\"] + 1"
   ]
  },
  {
   "cell_type": "markdown",
   "metadata": {},
   "source": [
    "### Clean the data:"
   ]
  },
  {
   "cell_type": "code",
   "execution_count": 9,
   "metadata": {},
   "outputs": [
    {
     "name": "stdout",
     "output_type": "stream",
     "text": [
      "Number of missing texts in the API dataset: 0\n",
      "Number of missing texts in the GitHub dataset: 0\n",
      "Number of missing texts in the StackOverflow dataset: 0\n"
     ]
    }
   ],
   "source": [
    "print(\"Number of missing texts in the API dataset:\", api_df[\"text\"].isnull().sum())\n",
    "print(\"Number of missing texts in the GitHub dataset:\", github_df[\"text\"].isnull().sum())\n",
    "print(\"Number of missing texts in the StackOverflow dataset:\", stackoverflow_df[\"text\"].isnull().sum())"
   ]
  },
  {
   "cell_type": "code",
   "execution_count": 10,
   "metadata": {},
   "outputs": [
    {
     "name": "stdout",
     "output_type": "stream",
     "text": [
      "Number of missing labels in the API dataset: 0\n",
      "Number of missing labels in the GitHub dataset: 0\n",
      "Number of missing labels in the StackOverflow dataset: 0\n"
     ]
    }
   ],
   "source": [
    "print(\"Number of missing labels in the API dataset:\", api_df[\"label\"].isnull().sum())\n",
    "print(\"Number of missing labels in the GitHub dataset:\", github_df[\"label\"].isnull().sum())\n",
    "print(\"Number of missing labels in the StackOverflow dataset:\", stackoverflow_df[\"label\"].isnull().sum())"
   ]
  },
  {
   "cell_type": "code",
   "execution_count": 11,
   "metadata": {},
   "outputs": [
    {
     "name": "stdout",
     "output_type": "stream",
     "text": [
      "Number of duplicated texts in the API dataset: 338 (7.47%)\n",
      "Number of duplicated texts in the GitHub dataset: 0 (0.00%)\n",
      "Number of duplicated texts in the StackOverflow dataset: 0 (0.00%)\n"
     ]
    }
   ],
   "source": [
    "print(f\"Number of duplicated texts in the API dataset: {api_df[\"text\"].duplicated().sum()} ({api_df[\"text\"].duplicated().sum()/api_df.shape[0]:.2%})\")\n",
    "print(f\"Number of duplicated texts in the GitHub dataset: {github_df[\"text\"].duplicated().sum()} ({github_df[\"text\"].duplicated().sum()/github_df.shape[0]:.2%})\")\n",
    "print(f\"Number of duplicated texts in the StackOverflow dataset: {stackoverflow_df[\"text\"].duplicated().sum()} ({stackoverflow_df[\"text\"].duplicated().sum()/stackoverflow_df.shape[0]:.2%})\")"
   ]
  },
  {
   "cell_type": "markdown",
   "metadata": {},
   "source": [
    "*WARNING: Duplicated texts for the API dataset is particularly high.*"
   ]
  },
  {
   "cell_type": "markdown",
   "metadata": {},
   "source": [
    "### Analyze distributions:"
   ]
  },
  {
   "cell_type": "code",
   "execution_count": 12,
   "metadata": {},
   "outputs": [
    {
     "data": {
      "image/png": "[encoded data removed]",
      "text/plain": [
       "<Figure size 600x400 with 1 Axes>"
      ]
     },
     "metadata": {},
     "output_type": "display_data"
    }
   ],
   "source": [
    "plt.figure(figsize=(6, 4))\n",
    "sns.histplot(api_df[\"text\"].str.len(), element=\"step\", fill=False)\n",
    "sns.histplot(github_df[\"text\"].str.len(), element=\"step\", fill=False)\n",
    "sns.histplot(stackoverflow_df[\"text\"].str.len(), element=\"step\", fill=False)\n",
    "plt.xlim([\n",
    "    0,\n",
    "    pd.concat([\n",
    "        api_df[\"text\"].str.len(),\n",
    "        github_df[\"text\"].str.len(),\n",
    "        stackoverflow_df[\"text\"].str.len(),\n",
    "    ], axis=1, ignore_index=True).quantile(.99).max()\n",
    "])\n",
    "plt.legend(labels=[\"API\", \"GitHub\", \"StackOverflow\"])\n",
    "plt.title(\"Text lenght distribution (max. p=99%)\")\n",
    "plt.show()"
   ]
  },
  {
   "cell_type": "code",
   "execution_count": 14,
   "metadata": {},
   "outputs": [
    {
     "data": {
      "text/html": [
       "<div>\n",
       "<style scoped>\n",
       "    .dataframe tbody tr th:only-of-type {\n",
       "        vertical-align: middle;\n",
       "    }\n",
       "\n",
       "    .dataframe tbody tr th {\n",
       "        vertical-align: top;\n",
       "    }\n",
       "\n",
       "    .dataframe thead th {\n",
       "        text-align: right;\n",
       "    }\n",
       "</style>\n",
       "<table border=\"1\" class=\"dataframe\">\n",
       "  <thead>\n",
       "    <tr style=\"text-align: right;\">\n",
       "      <th></th>\n",
       "      <th>API</th>\n",
       "      <th>GitHub</th>\n",
       "      <th>StackOverflow</th>\n",
       "      <th>all</th>\n",
       "    </tr>\n",
       "    <tr>\n",
       "      <th>label</th>\n",
       "      <th></th>\n",
       "      <th></th>\n",
       "      <th></th>\n",
       "      <th></th>\n",
       "    </tr>\n",
       "  </thead>\n",
       "  <tbody>\n",
       "    <tr>\n",
       "      <th>1</th>\n",
       "      <td>0.58</td>\n",
       "      <td>0.42</td>\n",
       "      <td>0.79</td>\n",
       "      <td>0.52</td>\n",
       "    </tr>\n",
       "    <tr>\n",
       "      <th>2</th>\n",
       "      <td>0.23</td>\n",
       "      <td>0.28</td>\n",
       "      <td>0.09</td>\n",
       "      <td>0.24</td>\n",
       "    </tr>\n",
       "    <tr>\n",
       "      <th>0</th>\n",
       "      <td>0.19</td>\n",
       "      <td>0.29</td>\n",
       "      <td>0.12</td>\n",
       "      <td>0.24</td>\n",
       "    </tr>\n",
       "  </tbody>\n",
       "</table>\n",
       "</div>"
      ],
      "text/plain": [
       "        API  GitHub  StackOverflow   all\n",
       "label                                   \n",
       "1      0.58    0.42           0.79  0.52\n",
       "2      0.23    0.28           0.09  0.24\n",
       "0      0.19    0.29           0.12  0.24"
      ]
     },
     "execution_count": 14,
     "metadata": {},
     "output_type": "execute_result"
    }
   ],
   "source": [
    "label_stats = pd.concat([\n",
    "    api_df[\"label\"].value_counts(dropna=False, normalize=True),\n",
    "    github_df[\"label\"].value_counts(dropna=False, normalize=True),\n",
    "    stackoverflow_df[\"label\"].value_counts(dropna=False, normalize=True),\n",
    "    pd.concat([api_df, github_df, stackoverflow_df])[\"label\"].value_counts(dropna=False, normalize=True)\n",
    "], axis=1)\n",
    "label_stats.columns = [\"API\", \"GitHub\", \"StackOverflow\", \"all\"]\n",
    "label_stats.round(2)"
   ]
  },
  {
   "cell_type": "markdown",
   "metadata": {},
   "source": [
    "*WARNING: Label proportions for the API dataset have important differences compared to [Zhang et al., 2020].*"
   ]
  },
  {
   "cell_type": "markdown",
   "metadata": {},
   "source": [
    "### Persist datasets:"
   ]
  },
  {
   "cell_type": "code",
   "execution_count": 15,
   "metadata": {},
   "outputs": [],
   "source": [
    "df = pd.concat([api_df, github_df, stackoverflow_df], ignore_index=True)"
   ]
  },
  {
   "cell_type": "code",
   "execution_count": 16,
   "metadata": {},
   "outputs": [
    {
     "name": "stdout",
     "output_type": "stream",
     "text": [
      "Number of duplicated texts in the entire dataset: 338 (2.57%)\n"
     ]
    }
   ],
   "source": [
    "print(f\"Number of duplicated texts in the entire dataset: {df[\"text\"].duplicated().sum()} ({df[\"text\"].duplicated().sum()/df.shape[0]:.2%})\")"
   ]
  },
  {
   "cell_type": "code",
   "execution_count": 17,
   "metadata": {},
   "outputs": [],
   "source": [
    "df[[\"id\", \"text\", \"label\"]].to_parquet(\"./sentiment.parquet\", index=False)"
   ]
  },
  {
   "cell_type": "code",
   "execution_count": 18,
   "metadata": {},
   "outputs": [
    {
     "name": "stdout",
     "output_type": "stream",
     "text": [
      "Number of instances in the persisted dataset: 13144\n"
     ]
    }
   ],
   "source": [
    "print(\"Number of instances in the persisted dataset:\", df.shape[0])"
   ]
  },
  {
   "cell_type": "code",
   "execution_count": null,
   "metadata": {},
   "outputs": [],
   "source": []
  }
 ],
 "metadata": {
  "kernelspec": {
   "display_name": "senlp",
   "language": "python",
   "name": "python3"
  },
  "language_info": {
   "codemirror_mode": {
    "name": "ipython",
    "version": 3
   },
   "file_extension": ".py",
   "mimetype": "text/x-python",
   "name": "python",
   "nbconvert_exporter": "python",
   "pygments_lexer": "ipython3",
   "version": "3.12.3"
  }
 },
 "nbformat": 4,
 "nbformat_minor": 2
}
