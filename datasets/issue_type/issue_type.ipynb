{
 "cells": [
  {
   "cell_type": "code",
   "execution_count": 1,
   "metadata": {},
   "outputs": [],
   "source": [
    "import hashlib\n",
    "import sys\n",
    "\n",
    "import pandas as pd\n",
    "import matplotlib.pyplot as plt\n",
    "import seaborn as sns\n",
    "\n",
    "sys.path.append(\"../../../\")\n",
    "from config.label_matchers import matchers"
   ]
  },
  {
   "cell_type": "markdown",
   "metadata": {},
   "source": [
    "### Load the data:"
   ]
  },
  {
   "cell_type": "code",
   "execution_count": 2,
   "metadata": {},
   "outputs": [],
   "source": [
    "train_df = pd.read_csv(\"./github-labels-top3-803k-train.tar.gz\", index_col=0)\n",
    "test_df = pd.read_csv(\"./github-labels-top3-803k-test.tar.gz\", index_col=0)"
   ]
  },
  {
   "cell_type": "code",
   "execution_count": 3,
   "metadata": {},
   "outputs": [
    {
     "name": "stdout",
     "output_type": "stream",
     "text": [
      "Number of instances in the train dataset: 722899\n",
      "Number of instances in the test dataset: 80518\n"
     ]
    }
   ],
   "source": [
    "print(\"Number of instances in the train dataset:\", train_df.shape[0])\n",
    "print(\"Number of instances in the test dataset:\", test_df.shape[0])"
   ]
  },
  {
   "cell_type": "code",
   "execution_count": 4,
   "metadata": {},
   "outputs": [
    {
     "data": {
      "text/html": [
       "<div>\n",
       "<style scoped>\n",
       "    .dataframe tbody tr th:only-of-type {\n",
       "        vertical-align: middle;\n",
       "    }\n",
       "\n",
       "    .dataframe tbody tr th {\n",
       "        vertical-align: top;\n",
       "    }\n",
       "\n",
       "    .dataframe thead th {\n",
       "        text-align: right;\n",
       "    }\n",
       "</style>\n",
       "<table border=\"1\" class=\"dataframe\">\n",
       "  <thead>\n",
       "    <tr style=\"text-align: right;\">\n",
       "      <th></th>\n",
       "      <th>issue_url</th>\n",
       "      <th>issue_label</th>\n",
       "      <th>issue_created_at</th>\n",
       "      <th>issue_author_association</th>\n",
       "      <th>repository_url</th>\n",
       "      <th>issue_title</th>\n",
       "      <th>issue_body</th>\n",
       "    </tr>\n",
       "  </thead>\n",
       "  <tbody>\n",
       "    <tr>\n",
       "      <th>675295</th>\n",
       "      <td>https://api.github.com/repos/concourse/concour...</td>\n",
       "      <td>bug</td>\n",
       "      <td>2021-05-28T08:43:06Z</td>\n",
       "      <td>NONE</td>\n",
       "      <td>https://api.github.com/repos/concourse/concourse</td>\n",
       "      <td>Worker 7.3.0 error on amazon linux (guardian.f...</td>\n",
       "      <td>## Summary\\r\\nconcourse worker stopped working...</td>\n",
       "    </tr>\n",
       "    <tr>\n",
       "      <th>392785</th>\n",
       "      <td>https://api.github.com/repos/sarawrmas/run-bud...</td>\n",
       "      <td>enhancement</td>\n",
       "      <td>2021-03-22T20:49:43Z</td>\n",
       "      <td>OWNER</td>\n",
       "      <td>https://api.github.com/repos/sarawrmas/run-buddy</td>\n",
       "      <td>CSS enhancements and optimizations</td>\n",
       "      <td>NaN</td>\n",
       "    </tr>\n",
       "    <tr>\n",
       "      <th>408156</th>\n",
       "      <td>https://api.github.com/repos/usc-isi-i2/t2wml/...</td>\n",
       "      <td>enhancement</td>\n",
       "      <td>2020-09-08T19:29:41Z</td>\n",
       "      <td>CONTRIBUTOR</td>\n",
       "      <td>https://api.github.com/repos/usc-isi-i2/t2wml</td>\n",
       "      <td>Make entity definitions project-specific</td>\n",
       "      <td>right now entity definitions are shared across...</td>\n",
       "    </tr>\n",
       "    <tr>\n",
       "      <th>2261</th>\n",
       "      <td>https://api.github.com/repos/Team-Gigabyte/quo...</td>\n",
       "      <td>bug</td>\n",
       "      <td>2020-12-31T18:50:34Z</td>\n",
       "      <td>CONTRIBUTOR</td>\n",
       "      <td>https://api.github.com/repos/Team-Gigabyte/quo...</td>\n",
       "      <td>LoL bugs</td>\n",
       "      <td>- [x] Sometimes the bot doesn't stop typing fo...</td>\n",
       "    </tr>\n",
       "    <tr>\n",
       "      <th>719968</th>\n",
       "      <td>https://api.github.com/repos/iterative/dvc.org...</td>\n",
       "      <td>bug</td>\n",
       "      <td>2020-09-05T08:13:23Z</td>\n",
       "      <td>CONTRIBUTOR</td>\n",
       "      <td>https://api.github.com/repos/iterative/dvc.org</td>\n",
       "      <td>docs: wrong use of `diff` highlighting + inden...</td>\n",
       "      <td>UPDATE: Jump to https://github.com/iterative/d...</td>\n",
       "    </tr>\n",
       "  </tbody>\n",
       "</table>\n",
       "</div>"
      ],
      "text/plain": [
       "                                                issue_url  issue_label  \\\n",
       "675295  https://api.github.com/repos/concourse/concour...          bug   \n",
       "392785  https://api.github.com/repos/sarawrmas/run-bud...  enhancement   \n",
       "408156  https://api.github.com/repos/usc-isi-i2/t2wml/...  enhancement   \n",
       "2261    https://api.github.com/repos/Team-Gigabyte/quo...          bug   \n",
       "719968  https://api.github.com/repos/iterative/dvc.org...          bug   \n",
       "\n",
       "            issue_created_at issue_author_association  \\\n",
       "675295  2021-05-28T08:43:06Z                     NONE   \n",
       "392785  2021-03-22T20:49:43Z                    OWNER   \n",
       "408156  2020-09-08T19:29:41Z              CONTRIBUTOR   \n",
       "2261    2020-12-31T18:50:34Z              CONTRIBUTOR   \n",
       "719968  2020-09-05T08:13:23Z              CONTRIBUTOR   \n",
       "\n",
       "                                           repository_url  \\\n",
       "675295   https://api.github.com/repos/concourse/concourse   \n",
       "392785   https://api.github.com/repos/sarawrmas/run-buddy   \n",
       "408156      https://api.github.com/repos/usc-isi-i2/t2wml   \n",
       "2261    https://api.github.com/repos/Team-Gigabyte/quo...   \n",
       "719968     https://api.github.com/repos/iterative/dvc.org   \n",
       "\n",
       "                                              issue_title  \\\n",
       "675295  Worker 7.3.0 error on amazon linux (guardian.f...   \n",
       "392785                 CSS enhancements and optimizations   \n",
       "408156           Make entity definitions project-specific   \n",
       "2261                                             LoL bugs   \n",
       "719968  docs: wrong use of `diff` highlighting + inden...   \n",
       "\n",
       "                                               issue_body  \n",
       "675295  ## Summary\\r\\nconcourse worker stopped working...  \n",
       "392785                                                NaN  \n",
       "408156  right now entity definitions are shared across...  \n",
       "2261    - [x] Sometimes the bot doesn't stop typing fo...  \n",
       "719968  UPDATE: Jump to https://github.com/iterative/d...  "
      ]
     },
     "execution_count": 4,
     "metadata": {},
     "output_type": "execute_result"
    }
   ],
   "source": [
    "train_df.sample(5)"
   ]
  },
  {
   "cell_type": "code",
   "execution_count": 5,
   "metadata": {},
   "outputs": [
    {
     "data": {
      "text/html": [
       "<div>\n",
       "<style scoped>\n",
       "    .dataframe tbody tr th:only-of-type {\n",
       "        vertical-align: middle;\n",
       "    }\n",
       "\n",
       "    .dataframe tbody tr th {\n",
       "        vertical-align: top;\n",
       "    }\n",
       "\n",
       "    .dataframe thead th {\n",
       "        text-align: right;\n",
       "    }\n",
       "</style>\n",
       "<table border=\"1\" class=\"dataframe\">\n",
       "  <thead>\n",
       "    <tr style=\"text-align: right;\">\n",
       "      <th></th>\n",
       "      <th>issue_url</th>\n",
       "      <th>issue_label</th>\n",
       "      <th>issue_created_at</th>\n",
       "      <th>issue_author_association</th>\n",
       "      <th>repository_url</th>\n",
       "      <th>issue_title</th>\n",
       "      <th>issue_body</th>\n",
       "    </tr>\n",
       "  </thead>\n",
       "  <tbody>\n",
       "    <tr>\n",
       "      <th>230459</th>\n",
       "      <td>https://api.github.com/repos/ANSTO/refdb/issues/7</td>\n",
       "      <td>enhancement</td>\n",
       "      <td>2020-01-12T23:08:03Z</td>\n",
       "      <td>CONTRIBUTOR</td>\n",
       "      <td>https://api.github.com/repos/ANSTO/refdb</td>\n",
       "      <td>Link to original document</td>\n",
       "      <td>Add a link to the original document via the do...</td>\n",
       "    </tr>\n",
       "    <tr>\n",
       "      <th>496347</th>\n",
       "      <td>https://api.github.com/repos/indowa/git_practi...</td>\n",
       "      <td>enhancement</td>\n",
       "      <td>2021-04-01T03:54:44Z</td>\n",
       "      <td>OWNER</td>\n",
       "      <td>https://api.github.com/repos/indowa/git_practice</td>\n",
       "      <td>詳細画面を作る</td>\n",
       "      <td>NaN</td>\n",
       "    </tr>\n",
       "    <tr>\n",
       "      <th>361020</th>\n",
       "      <td>https://api.github.com/repos/3b1b/manim/issues...</td>\n",
       "      <td>bug</td>\n",
       "      <td>2021-02-12T02:07:03Z</td>\n",
       "      <td>COLLABORATOR</td>\n",
       "      <td>https://api.github.com/repos/3b1b/manim</td>\n",
       "      <td>Incorrect window position</td>\n",
       "      <td>### Describe the bug\\r\\n&lt;!-- A clear and conci...</td>\n",
       "    </tr>\n",
       "    <tr>\n",
       "      <th>707832</th>\n",
       "      <td>https://api.github.com/repos/tiki/app/issues/6</td>\n",
       "      <td>enhancement</td>\n",
       "      <td>2021-03-31T02:12:44Z</td>\n",
       "      <td>CONTRIBUTOR</td>\n",
       "      <td>https://api.github.com/repos/tiki/app</td>\n",
       "      <td>Add a resend email button to the go-to inbox page</td>\n",
       "      <td>Add a button to resend the email if the user d...</td>\n",
       "    </tr>\n",
       "    <tr>\n",
       "      <th>432254</th>\n",
       "      <td>https://api.github.com/repos/home-assistant/an...</td>\n",
       "      <td>bug</td>\n",
       "      <td>2021-05-28T22:35:31Z</td>\n",
       "      <td>NONE</td>\n",
       "      <td>https://api.github.com/repos/home-assistant/an...</td>\n",
       "      <td>Lights groups can't be dimmed up or down in An...</td>\n",
       "      <td>&lt;!-- READ THIS FIRST:\\r\\n- Make sure you run t...</td>\n",
       "    </tr>\n",
       "  </tbody>\n",
       "</table>\n",
       "</div>"
      ],
      "text/plain": [
       "                                                issue_url  issue_label  \\\n",
       "230459  https://api.github.com/repos/ANSTO/refdb/issues/7  enhancement   \n",
       "496347  https://api.github.com/repos/indowa/git_practi...  enhancement   \n",
       "361020  https://api.github.com/repos/3b1b/manim/issues...          bug   \n",
       "707832     https://api.github.com/repos/tiki/app/issues/6  enhancement   \n",
       "432254  https://api.github.com/repos/home-assistant/an...          bug   \n",
       "\n",
       "            issue_created_at issue_author_association  \\\n",
       "230459  2020-01-12T23:08:03Z              CONTRIBUTOR   \n",
       "496347  2021-04-01T03:54:44Z                    OWNER   \n",
       "361020  2021-02-12T02:07:03Z             COLLABORATOR   \n",
       "707832  2021-03-31T02:12:44Z              CONTRIBUTOR   \n",
       "432254  2021-05-28T22:35:31Z                     NONE   \n",
       "\n",
       "                                           repository_url  \\\n",
       "230459           https://api.github.com/repos/ANSTO/refdb   \n",
       "496347   https://api.github.com/repos/indowa/git_practice   \n",
       "361020            https://api.github.com/repos/3b1b/manim   \n",
       "707832              https://api.github.com/repos/tiki/app   \n",
       "432254  https://api.github.com/repos/home-assistant/an...   \n",
       "\n",
       "                                              issue_title  \\\n",
       "230459                          Link to original document   \n",
       "496347                                            詳細画面を作る   \n",
       "361020                          Incorrect window position   \n",
       "707832  Add a resend email button to the go-to inbox page   \n",
       "432254  Lights groups can't be dimmed up or down in An...   \n",
       "\n",
       "                                               issue_body  \n",
       "230459  Add a link to the original document via the do...  \n",
       "496347                                                NaN  \n",
       "361020  ### Describe the bug\\r\\n<!-- A clear and conci...  \n",
       "707832  Add a button to resend the email if the user d...  \n",
       "432254  <!-- READ THIS FIRST:\\r\\n- Make sure you run t...  "
      ]
     },
     "execution_count": 5,
     "metadata": {},
     "output_type": "execute_result"
    }
   ],
   "source": [
    "test_df.sample(5)"
   ]
  },
  {
   "cell_type": "code",
   "execution_count": 6,
   "metadata": {},
   "outputs": [],
   "source": [
    "train_df.columns = [c.replace(\"issue_\", \"\") for c in train_df.columns]\n",
    "test_df.columns = [c.replace(\"issue_\", \"\") for c in test_df.columns]"
   ]
  },
  {
   "cell_type": "code",
   "execution_count": 7,
   "metadata": {},
   "outputs": [],
   "source": [
    "def url_to_unique_number(url: str, length: int = 16) -> int:\n",
    "    # Create a SHA-256 hash object\n",
    "    hash_object = hashlib.sha256()\n",
    "    \n",
    "    # Encode the URL to bytes and update the hash object\n",
    "    hash_object.update(url.encode('utf-8'))\n",
    "    \n",
    "    # Get the hexadecimal digest of the hash\n",
    "    hex_digest = hash_object.hexdigest()\n",
    "    \n",
    "    # Take the first 'length' characters of the hexadecimal digest\n",
    "    truncated_hex_digest = hex_digest[:length]\n",
    "    \n",
    "    # Convert the truncated hexadecimal digest to an integer\n",
    "    unique_number = int(truncated_hex_digest, 16)\n",
    "    \n",
    "    return unique_number\n",
    "\n",
    "train_df[\"id\"] = train_df[\"url\"].apply(url_to_unique_number)\n",
    "test_df[\"id\"] = test_df[\"url\"].apply(url_to_unique_number)"
   ]
  },
  {
   "cell_type": "code",
   "execution_count": 8,
   "metadata": {},
   "outputs": [
    {
     "name": "stderr",
     "output_type": "stream",
     "text": [
      "C:\\Users\\Fabian Pena\\AppData\\Local\\Temp\\ipykernel_10884\\438979821.py:2: FutureWarning: Downcasting behavior in `replace` is deprecated and will be removed in a future version. To retain the old behavior, explicitly call `result.infer_objects(copy=False)`. To opt-in to the future behavior, set `pd.set_option('future.no_silent_downcasting', True)`\n",
      "  train_df[\"label\"] = train_df[\"label\"].replace(matcher).astype(int)\n",
      "C:\\Users\\Fabian Pena\\AppData\\Local\\Temp\\ipykernel_10884\\438979821.py:3: FutureWarning: Downcasting behavior in `replace` is deprecated and will be removed in a future version. To retain the old behavior, explicitly call `result.infer_objects(copy=False)`. To opt-in to the future behavior, set `pd.set_option('future.no_silent_downcasting', True)`\n",
      "  test_df[\"label\"] = test_df[\"label\"].replace(matcher).astype(int)\n"
     ]
    }
   ],
   "source": [
    "matcher = {v: k for (k, v) in matchers[\"issue_type\"].items()}\n",
    "train_df[\"label\"] = train_df[\"label\"].replace(matcher).astype(int)\n",
    "test_df[\"label\"] = test_df[\"label\"].replace(matcher).astype(int)"
   ]
  },
  {
   "cell_type": "markdown",
   "metadata": {},
   "source": [
    "### Clean the data:"
   ]
  },
  {
   "cell_type": "code",
   "execution_count": 9,
   "metadata": {},
   "outputs": [
    {
     "name": "stdout",
     "output_type": "stream",
     "text": [
      "Number of missing titles in the train dataset: 0\n",
      "Number of missing titles in the test dataset: 0\n",
      "Number of missing bodies in the train dataset: 71872\n",
      "Number of missing bodies in the test dataset: 7916\n"
     ]
    }
   ],
   "source": [
    "print(\"Number of missing titles in the train dataset:\", train_df[\"title\"].isnull().sum())\n",
    "print(\"Number of missing titles in the test dataset:\", test_df[\"title\"].isnull().sum())\n",
    "\n",
    "print(\"Number of missing bodies in the train dataset:\", train_df[\"body\"].isnull().sum())\n",
    "print(\"Number of missing bodies in the test dataset:\", test_df[\"body\"].isnull().sum())"
   ]
  },
  {
   "cell_type": "code",
   "execution_count": 10,
   "metadata": {},
   "outputs": [],
   "source": [
    "train_df.loc[train_df[\"body\"].isnull(), \"body\"] = \"\"\n",
    "test_df.loc[test_df[\"body\"].isnull(), \"body\"] = \"\""
   ]
  },
  {
   "cell_type": "code",
   "execution_count": 11,
   "metadata": {},
   "outputs": [
    {
     "name": "stdout",
     "output_type": "stream",
     "text": [
      "Number of missing labels in the train dataset: 0\n",
      "Number of missing labels in the test dataset: 0\n"
     ]
    }
   ],
   "source": [
    "print(\"Number of missing labels in the train dataset:\", train_df[\"label\"].isnull().sum())\n",
    "print(\"Number of missing labels in the test dataset:\", test_df[\"label\"].isnull().sum())"
   ]
  },
  {
   "cell_type": "code",
   "execution_count": 12,
   "metadata": {},
   "outputs": [
    {
     "name": "stdout",
     "output_type": "stream",
     "text": [
      "Number of duplicated titles and bodies in the train dataset: 38507 (5.33%)\n",
      "Number of duplicated titles and bodies in the test dataset: 1204 (1.50%)\n"
     ]
    }
   ],
   "source": [
    "print(f\"Number of duplicated titles and bodies in the train dataset: {train_df[[\"title\", \"body\"]].duplicated().sum()} ({train_df[[\"title\", \"body\"]].duplicated().sum()/train_df.shape[0]:.2%})\")\n",
    "print(f\"Number of duplicated titles and bodies in the test dataset: {test_df[[\"title\", \"body\"]].duplicated().sum()} ({test_df[[\"title\", \"body\"]].duplicated().sum()/test_df.shape[0]:.2%})\")"
   ]
  },
  {
   "cell_type": "markdown",
   "metadata": {},
   "source": [
    "### Analyze distributions:"
   ]
  },
  {
   "cell_type": "code",
   "execution_count": 13,
   "metadata": {},
   "outputs": [
    {
     "data": {
      "image/png": "[encoded data removed]",
      "text/plain": [
       "<Figure size 1200x400 with 2 Axes>"
      ]
     },
     "metadata": {},
     "output_type": "display_data"
    }
   ],
   "source": [
    "fig, axes = plt.subplots(1, 2, sharey=True, figsize=(12, 4))\n",
    "sns.histplot(train_df[\"title\"].str.len(), element=\"step\", fill=False, ax=axes[0])\n",
    "sns.histplot(test_df[\"title\"].str.len(), element=\"step\", fill=False, ax=axes[0])\n",
    "axes[0].set_xlim([\n",
    "    0,\n",
    "    pd.concat([\n",
    "        train_df[\"title\"].str.len(),\n",
    "        test_df[\"title\"].str.len()\n",
    "    ], axis=1, ignore_index=True).quantile(.99).max()\n",
    "])\n",
    "axes[0].legend(labels=[\"train\", \"test\"])\n",
    "sns.histplot(train_df[\"body\"].str.len(), element=\"step\", fill=False, ax=axes[1])\n",
    "sns.histplot(test_df[\"body\"].str.len(), element=\"step\", fill=False, ax=axes[1])\n",
    "axes[1].set_xlim([\n",
    "    0,\n",
    "    pd.concat([\n",
    "        train_df[\"body\"].str.len(),\n",
    "        test_df[\"body\"].str.len()\n",
    "    ], axis=1, ignore_index=True).quantile(.99).max()\n",
    "])\n",
    "axes[1].legend(labels=[\"train\", \"test\"])\n",
    "plt.suptitle(\"Title and body lenght distributions for train and test datasets (max. p=99%)\")\n",
    "plt.show()"
   ]
  },
  {
   "cell_type": "code",
   "execution_count": 14,
   "metadata": {},
   "outputs": [
    {
     "data": {
      "text/html": [
       "<div>\n",
       "<style scoped>\n",
       "    .dataframe tbody tr th:only-of-type {\n",
       "        vertical-align: middle;\n",
       "    }\n",
       "\n",
       "    .dataframe tbody tr th {\n",
       "        vertical-align: top;\n",
       "    }\n",
       "\n",
       "    .dataframe thead th {\n",
       "        text-align: right;\n",
       "    }\n",
       "</style>\n",
       "<table border=\"1\" class=\"dataframe\">\n",
       "  <thead>\n",
       "    <tr style=\"text-align: right;\">\n",
       "      <th></th>\n",
       "      <th>train</th>\n",
       "      <th>test</th>\n",
       "      <th>all</th>\n",
       "    </tr>\n",
       "    <tr>\n",
       "      <th>label</th>\n",
       "      <th></th>\n",
       "      <th></th>\n",
       "      <th></th>\n",
       "    </tr>\n",
       "  </thead>\n",
       "  <tbody>\n",
       "    <tr>\n",
       "      <th>0</th>\n",
       "      <td>0.50</td>\n",
       "      <td>0.50</td>\n",
       "      <td>0.50</td>\n",
       "    </tr>\n",
       "    <tr>\n",
       "      <th>1</th>\n",
       "      <td>0.41</td>\n",
       "      <td>0.41</td>\n",
       "      <td>0.41</td>\n",
       "    </tr>\n",
       "    <tr>\n",
       "      <th>2</th>\n",
       "      <td>0.09</td>\n",
       "      <td>0.09</td>\n",
       "      <td>0.09</td>\n",
       "    </tr>\n",
       "  </tbody>\n",
       "</table>\n",
       "</div>"
      ],
      "text/plain": [
       "       train  test   all\n",
       "label                   \n",
       "0       0.50  0.50  0.50\n",
       "1       0.41  0.41  0.41\n",
       "2       0.09  0.09  0.09"
      ]
     },
     "execution_count": 14,
     "metadata": {},
     "output_type": "execute_result"
    }
   ],
   "source": [
    "label_stats = pd.concat([\n",
    "    train_df[\"label\"].value_counts(dropna=False, normalize=True),\n",
    "    test_df[\"label\"].value_counts(dropna=False, normalize=True),\n",
    "    pd.concat([train_df[\"label\"], test_df[\"label\"]]).value_counts(dropna=False, normalize=True)\n",
    "], axis=1)\n",
    "label_stats.columns = [\"train\", \"test\", \"all\"]\n",
    "label_stats.round(2)"
   ]
  },
  {
   "cell_type": "markdown",
   "metadata": {},
   "source": [
    "### Persist datasets:"
   ]
  },
  {
   "cell_type": "code",
   "execution_count": 15,
   "metadata": {},
   "outputs": [],
   "source": [
    "df = pd.concat([train_df, test_df], ignore_index=True)"
   ]
  },
  {
   "cell_type": "code",
   "execution_count": 16,
   "metadata": {},
   "outputs": [],
   "source": [
    "def concat(x):\n",
    "    text = \"\"\n",
    "    if x[\"title\"] != \"\":\n",
    "        text = x[\"title\"]\n",
    "    if x[\"body\"] != \"\":\n",
    "        if text != \"\":\n",
    "            text += \".\\n\"\n",
    "        text += x[\"body\"]\n",
    "    return text\n",
    "\n",
    "df[\"text\"] = df.apply(concat, axis=1)"
   ]
  },
  {
   "cell_type": "code",
   "execution_count": 17,
   "metadata": {},
   "outputs": [
    {
     "name": "stdout",
     "output_type": "stream",
     "text": [
      "Number of duplicated texts in the entire dataset: 45725 (5.69%)\n"
     ]
    }
   ],
   "source": [
    "print(f\"Number of duplicated texts in the entire dataset: {df[\"text\"].duplicated().sum()} ({df[\"text\"].duplicated().sum()/df.shape[0]:.2%})\")"
   ]
  },
  {
   "cell_type": "code",
   "execution_count": 18,
   "metadata": {},
   "outputs": [],
   "source": [
    "df[[\"id\", \"text\", \"label\"]].to_parquet(\"./issue_type.parquet\", index=False)"
   ]
  },
  {
   "cell_type": "code",
   "execution_count": 19,
   "metadata": {},
   "outputs": [
    {
     "name": "stdout",
     "output_type": "stream",
     "text": [
      "Number of instances in the persisted dataset: 803417\n"
     ]
    }
   ],
   "source": [
    "print(\"Number of instances in the persisted dataset:\", df.shape[0])"
   ]
  },
  {
   "cell_type": "code",
   "execution_count": null,
   "metadata": {},
   "outputs": [],
   "source": []
  }
 ],
 "metadata": {
  "kernelspec": {
   "display_name": "senlp",
   "language": "python",
   "name": "python3"
  },
  "language_info": {
   "codemirror_mode": {
    "name": "ipython",
    "version": 3
   },
   "file_extension": ".py",
   "mimetype": "text/x-python",
   "name": "python",
   "nbconvert_exporter": "python",
   "pygments_lexer": "ipython3",
   "version": "3.12.3"
  }
 },
 "nbformat": 4,
 "nbformat_minor": 2
}
