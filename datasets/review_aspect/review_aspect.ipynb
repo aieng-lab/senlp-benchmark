{
 "cells": [
  {
   "cell_type": "code",
   "execution_count": 1,
   "metadata": {},
   "outputs": [],
   "source": [
    "import pandas as pd\n",
    "import matplotlib.pyplot as plt\n",
    "import seaborn as sns"
   ]
  },
  {
   "cell_type": "markdown",
   "metadata": {},
   "source": [
    "### Load the data:"
   ]
  },
  {
   "cell_type": "code",
   "execution_count": 2,
   "metadata": {},
   "outputs": [],
   "source": [
    "df = pd.read_excel(\"./BenchmarkUddinSO-ConsoliatedAspectSentiment.xls\")"
   ]
  },
  {
   "cell_type": "code",
   "execution_count": 3,
   "metadata": {},
   "outputs": [
    {
     "name": "stdout",
     "output_type": "stream",
     "text": [
      "Number of instances: 4522\n"
     ]
    }
   ],
   "source": [
    "print(\"Number of instances:\", df.shape[0])"
   ]
  },
  {
   "cell_type": "code",
   "execution_count": 4,
   "metadata": {},
   "outputs": [
    {
     "data": {
      "text/html": [
       "<div>\n",
       "<style scoped>\n",
       "    .dataframe tbody tr th:only-of-type {\n",
       "        vertical-align: middle;\n",
       "    }\n",
       "\n",
       "    .dataframe tbody tr th {\n",
       "        vertical-align: top;\n",
       "    }\n",
       "\n",
       "    .dataframe thead th {\n",
       "        text-align: right;\n",
       "    }\n",
       "</style>\n",
       "<table border=\"1\" class=\"dataframe\">\n",
       "  <thead>\n",
       "    <tr style=\"text-align: right;\">\n",
       "      <th></th>\n",
       "      <th>thread</th>\n",
       "      <th>tid</th>\n",
       "      <th>sent</th>\n",
       "      <th>ManualLabel</th>\n",
       "      <th>codes</th>\n",
       "      <th>stakeholder</th>\n",
       "      <th>signal</th>\n",
       "      <th>intent</th>\n",
       "      <th>action</th>\n",
       "    </tr>\n",
       "  </thead>\n",
       "  <tbody>\n",
       "    <tr>\n",
       "      <th>3410</th>\n",
       "      <td>267306</td>\n",
       "      <td>267306:12</td>\n",
       "      <td>\"Really, I just want to be able to send comman...</td>\n",
       "      <td>o</td>\n",
       "      <td>[\"'Others'\"]</td>\n",
       "      <td>NaN</td>\n",
       "      <td>NaN</td>\n",
       "      <td>NaN</td>\n",
       "      <td>NaN</td>\n",
       "    </tr>\n",
       "    <tr>\n",
       "      <th>887</th>\n",
       "      <td>326390</td>\n",
       "      <td>326390:33</td>\n",
       "      <td>\"Some channels (SocketChannel) support non-blo...</td>\n",
       "      <td>o</td>\n",
       "      <td>[\"'Usability'\"]</td>\n",
       "      <td>NaN</td>\n",
       "      <td>NaN</td>\n",
       "      <td>NaN</td>\n",
       "      <td>NaN</td>\n",
       "    </tr>\n",
       "    <tr>\n",
       "      <th>4160</th>\n",
       "      <td>1802915</td>\n",
       "      <td>1802915:43</td>\n",
       "      <td>\"In many (thou not all) cases you can use Char...</td>\n",
       "      <td>o</td>\n",
       "      <td>[\"'Usability'\"]</td>\n",
       "      <td>NaN</td>\n",
       "      <td>NaN</td>\n",
       "      <td>NaN</td>\n",
       "      <td>NaN</td>\n",
       "    </tr>\n",
       "    <tr>\n",
       "      <th>3243</th>\n",
       "      <td>1688099</td>\n",
       "      <td>1688099:44</td>\n",
       "      <td>\"Which, if using the jsondriver and setting th...</td>\n",
       "      <td>p</td>\n",
       "      <td>[\"'Bug'\"]</td>\n",
       "      <td>NaN</td>\n",
       "      <td>NaN</td>\n",
       "      <td>NaN</td>\n",
       "      <td>NaN</td>\n",
       "    </tr>\n",
       "    <tr>\n",
       "      <th>308</th>\n",
       "      <td>410890</td>\n",
       "      <td>410890:95</td>\n",
       "      <td>\"Is it non-null?Then highlight someObject.getS...</td>\n",
       "      <td>o</td>\n",
       "      <td>[\"'Others'\"]</td>\n",
       "      <td>NaN</td>\n",
       "      <td>NaN</td>\n",
       "      <td>NaN</td>\n",
       "      <td>NaN</td>\n",
       "    </tr>\n",
       "  </tbody>\n",
       "</table>\n",
       "</div>"
      ],
      "text/plain": [
       "       thread         tid                                               sent  \\\n",
       "3410   267306   267306:12  \"Really, I just want to be able to send comman...   \n",
       "887    326390   326390:33  \"Some channels (SocketChannel) support non-blo...   \n",
       "4160  1802915  1802915:43  \"In many (thou not all) cases you can use Char...   \n",
       "3243  1688099  1688099:44  \"Which, if using the jsondriver and setting th...   \n",
       "308    410890   410890:95  \"Is it non-null?Then highlight someObject.getS...   \n",
       "\n",
       "     ManualLabel            codes stakeholder signal intent action  \n",
       "3410           o     [\"'Others'\"]         NaN    NaN    NaN    NaN  \n",
       "887            o  [\"'Usability'\"]         NaN    NaN    NaN    NaN  \n",
       "4160           o  [\"'Usability'\"]         NaN    NaN    NaN    NaN  \n",
       "3243           p        [\"'Bug'\"]         NaN    NaN    NaN    NaN  \n",
       "308            o     [\"'Others'\"]         NaN    NaN    NaN    NaN  "
      ]
     },
     "execution_count": 4,
     "metadata": {},
     "output_type": "execute_result"
    }
   ],
   "source": [
    "df.sample(5)"
   ]
  },
  {
   "cell_type": "code",
   "execution_count": 5,
   "metadata": {},
   "outputs": [],
   "source": [
    "df.rename(columns={\"thread\": \"id\", \"sent\": \"text\"}, inplace=True)"
   ]
  },
  {
   "cell_type": "code",
   "execution_count": 6,
   "metadata": {},
   "outputs": [],
   "source": [
    "def normalize(x):\n",
    "    labels = [e.replace(\"'\", \"\") for e in eval(x)]\n",
    "    return {l: 1 for l in labels}\n",
    "\n",
    "labels_df = pd.json_normalize(df[\"codes\"].apply(normalize)).fillna(0)\n",
    "labels_df.columns = [\"label_\" + c.lower() for c in labels_df.columns]\n",
    "df = pd.concat([df, labels_df], axis=1)"
   ]
  },
  {
   "cell_type": "markdown",
   "metadata": {},
   "source": [
    "### Clean the data:"
   ]
  },
  {
   "cell_type": "code",
   "execution_count": 7,
   "metadata": {},
   "outputs": [
    {
     "name": "stdout",
     "output_type": "stream",
     "text": [
      "Number of missing texts: 0\n"
     ]
    }
   ],
   "source": [
    "print(\"Number of missing texts:\", df[\"text\"].isnull().sum())"
   ]
  },
  {
   "cell_type": "code",
   "execution_count": 8,
   "metadata": {},
   "outputs": [
    {
     "name": "stdout",
     "output_type": "stream",
     "text": [
      "Number of missing Usability labels: 0\n",
      "Number of missing Others labels: 0\n",
      "Number of missing OnlySentiment labels: 0\n",
      "Number of missing Bug labels: 0\n",
      "Number of missing Performance labels: 0\n",
      "Number of missing Community labels: 0\n",
      "Number of missing Documentation labels: 0\n",
      "Number of missing Compatibility labels: 0\n",
      "Number of missing Legal labels: 0\n",
      "Number of missing Portability labels: 0\n",
      "Number of missing Security labels: 0\n"
     ]
    }
   ],
   "source": [
    "print(\"Number of missing Usability labels:\", df[\"label_usability\"].isnull().sum())\n",
    "print(\"Number of missing Others labels:\", df[\"label_others\"].isnull().sum())\n",
    "print(\"Number of missing OnlySentiment labels:\", df[\"label_onlysentiment\"].isnull().sum())\n",
    "print(\"Number of missing Bug labels:\", df[\"label_bug\"].isnull().sum())\n",
    "print(\"Number of missing Performance labels:\", df[\"label_performance\"].isnull().sum())\n",
    "print(\"Number of missing Community labels:\", df[\"label_community\"].isnull().sum())\n",
    "print(\"Number of missing Documentation labels:\", df[\"label_documentation\"].isnull().sum())\n",
    "print(\"Number of missing Compatibility labels:\", df[\"label_compatibility\"].isnull().sum())\n",
    "print(\"Number of missing Legal labels:\", df[\"label_legal\"].isnull().sum())\n",
    "print(\"Number of missing Portability labels:\", df[\"label_portability\"].isnull().sum())\n",
    "print(\"Number of missing Security labels:\", df[\"label_security\"].isnull().sum())"
   ]
  },
  {
   "cell_type": "code",
   "execution_count": 9,
   "metadata": {},
   "outputs": [
    {
     "name": "stdout",
     "output_type": "stream",
     "text": [
      "Number of duplicated texts: 338 (7.47%)\n"
     ]
    }
   ],
   "source": [
    "print(f\"Number of duplicated texts: {df[\"text\"].duplicated().sum()} ({df[\"text\"].duplicated().sum()/df.shape[0]:.2%})\")"
   ]
  },
  {
   "cell_type": "markdown",
   "metadata": {},
   "source": [
    "*WARNING: Duplicated texts is particularly high.*"
   ]
  },
  {
   "cell_type": "markdown",
   "metadata": {},
   "source": [
    "### Analyze distributions:"
   ]
  },
  {
   "cell_type": "code",
   "execution_count": 10,
   "metadata": {},
   "outputs": [
    {
     "data": {
      "image/png": "[encoded data removed]",
      "text/plain": [
       "<Figure size 600x400 with 1 Axes>"
      ]
     },
     "metadata": {},
     "output_type": "display_data"
    }
   ],
   "source": [
    "plt.figure(figsize=(6, 4))\n",
    "sns.histplot(df[\"text\"].str.len(), element=\"step\", fill=False)\n",
    "plt.xlim([\n",
    "    0,\n",
    "    df[\"text\"].str.len().quantile(.99)\n",
    "])\n",
    "plt.title(\"Text lenght distribution (max. p=99%)\")\n",
    "plt.show()"
   ]
  },
  {
   "cell_type": "code",
   "execution_count": 11,
   "metadata": {},
   "outputs": [
    {
     "data": {
      "text/html": [
       "<div>\n",
       "<style scoped>\n",
       "    .dataframe tbody tr th:only-of-type {\n",
       "        vertical-align: middle;\n",
       "    }\n",
       "\n",
       "    .dataframe tbody tr th {\n",
       "        vertical-align: top;\n",
       "    }\n",
       "\n",
       "    .dataframe thead th {\n",
       "        text-align: right;\n",
       "    }\n",
       "</style>\n",
       "<table border=\"1\" class=\"dataframe\">\n",
       "  <thead>\n",
       "    <tr style=\"text-align: right;\">\n",
       "      <th></th>\n",
       "      <th>Usability</th>\n",
       "      <th>Others</th>\n",
       "      <th>OnlySentiment</th>\n",
       "      <th>Bug</th>\n",
       "      <th>Performance</th>\n",
       "      <th>Community</th>\n",
       "      <th>Documentation</th>\n",
       "      <th>Compatibility</th>\n",
       "      <th>Legal</th>\n",
       "      <th>Portability</th>\n",
       "      <th>Security</th>\n",
       "    </tr>\n",
       "  </thead>\n",
       "  <tbody>\n",
       "    <tr>\n",
       "      <th>0.0</th>\n",
       "      <td>0.68</td>\n",
       "      <td>0.62</td>\n",
       "      <td>0.92</td>\n",
       "      <td>0.96</td>\n",
       "      <td>0.92</td>\n",
       "      <td>0.98</td>\n",
       "      <td>0.94</td>\n",
       "      <td>0.98</td>\n",
       "      <td>0.99</td>\n",
       "      <td>0.98</td>\n",
       "      <td>0.96</td>\n",
       "    </tr>\n",
       "    <tr>\n",
       "      <th>1.0</th>\n",
       "      <td>0.32</td>\n",
       "      <td>0.38</td>\n",
       "      <td>0.08</td>\n",
       "      <td>0.04</td>\n",
       "      <td>0.08</td>\n",
       "      <td>0.02</td>\n",
       "      <td>0.06</td>\n",
       "      <td>0.02</td>\n",
       "      <td>0.01</td>\n",
       "      <td>0.02</td>\n",
       "      <td>0.04</td>\n",
       "    </tr>\n",
       "  </tbody>\n",
       "</table>\n",
       "</div>"
      ],
      "text/plain": [
       "     Usability  Others  OnlySentiment   Bug  Performance  Community  \\\n",
       "0.0       0.68    0.62           0.92  0.96         0.92       0.98   \n",
       "1.0       0.32    0.38           0.08  0.04         0.08       0.02   \n",
       "\n",
       "     Documentation  Compatibility  Legal  Portability  Security  \n",
       "0.0           0.94           0.98   0.99         0.98      0.96  \n",
       "1.0           0.06           0.02   0.01         0.02      0.04  "
      ]
     },
     "execution_count": 11,
     "metadata": {},
     "output_type": "execute_result"
    }
   ],
   "source": [
    "pd.concat([\n",
    "    df[[\"label_usability\"]].value_counts(dropna=False, normalize=True).round(2).to_frame(\"Usability\"),\n",
    "    df[[\"label_others\"]].value_counts(dropna=False, normalize=True).round(2).to_frame(\"Others\"),\n",
    "    df[[\"label_onlysentiment\"]].value_counts(dropna=False, normalize=True).round(2).to_frame(\"OnlySentiment\"),\n",
    "    df[[\"label_bug\"]].value_counts(dropna=False, normalize=True).round(2).to_frame(\"Bug\"),\n",
    "    df[[\"label_performance\"]].value_counts(dropna=False, normalize=True).round(2).to_frame(\"Performance\"),\n",
    "    df[[\"label_community\"]].value_counts(dropna=False, normalize=True).round(2).to_frame(\"Community\"),\n",
    "    df[[\"label_documentation\"]].value_counts(dropna=False, normalize=True).round(2).to_frame(\"Documentation\"),\n",
    "    df[[\"label_compatibility\"]].value_counts(dropna=False, normalize=True).round(2).to_frame(\"Compatibility\"),\n",
    "    df[[\"label_legal\"]].value_counts(dropna=False, normalize=True).round(2).to_frame(\"Legal\"),\n",
    "    df[[\"label_portability\"]].value_counts(dropna=False, normalize=True).round(2).to_frame(\"Portability\"),\n",
    "    df[[\"label_security\"]].value_counts(dropna=False, normalize=True).round(2).to_frame(\"Security\")\n",
    "], axis=1)"
   ]
  },
  {
   "cell_type": "code",
   "execution_count": 12,
   "metadata": {},
   "outputs": [
    {
     "data": {
      "text/plain": [
       "1.0    0.952455\n",
       "2.0    0.046218\n",
       "3.0    0.001327\n",
       "Name: proportion, dtype: float64"
      ]
     },
     "execution_count": 12,
     "metadata": {},
     "output_type": "execute_result"
    }
   ],
   "source": [
    "df[[c for c in df.columns if c.startswith(\"label_\")]].sum(axis=1).value_counts(normalize=True)"
   ]
  },
  {
   "cell_type": "markdown",
   "metadata": {},
   "source": [
    "### Persist datasets:"
   ]
  },
  {
   "cell_type": "code",
   "execution_count": 13,
   "metadata": {},
   "outputs": [],
   "source": [
    "df[[\"id\", \"text\"] + [c for c in df.columns if c.startswith(\"label_\")]].to_parquet(\"./review_aspect.parquet\", index=False)"
   ]
  },
  {
   "cell_type": "code",
   "execution_count": 14,
   "metadata": {},
   "outputs": [
    {
     "name": "stdout",
     "output_type": "stream",
     "text": [
      "Number of instances in the persisted dataset: 4522\n"
     ]
    }
   ],
   "source": [
    "print(\"Number of instances in the persisted dataset:\", df.shape[0])"
   ]
  },
  {
   "cell_type": "code",
   "execution_count": null,
   "metadata": {},
   "outputs": [],
   "source": []
  }
 ],
 "metadata": {
  "kernelspec": {
   "display_name": "senlp",
   "language": "python",
   "name": "python3"
  },
  "language_info": {
   "codemirror_mode": {
    "name": "ipython",
    "version": 3
   },
   "file_extension": ".py",
   "mimetype": "text/x-python",
   "name": "python",
   "nbconvert_exporter": "python",
   "pygments_lexer": "ipython3",
   "version": "3.12.3"
  }
 },
 "nbformat": 4,
 "nbformat_minor": 2
}
