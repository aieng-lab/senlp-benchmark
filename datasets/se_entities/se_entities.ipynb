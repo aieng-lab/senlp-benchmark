{
 "cells": [
  {
   "cell_type": "code",
   "execution_count": 1,
   "metadata": {},
   "outputs": [],
   "source": [
    "from itertools import chain\n",
    "import pickle\n",
    "import sys\n",
    "\n",
    "import matplotlib.pyplot as plt\n",
    "import pandas as pd\n",
    "import seaborn as sns\n",
    "\n",
    "import loader_so\n",
    "\n",
    "sys.path.append(\"../../../\")\n",
    "from config.label_matchers import matchers"
   ]
  },
  {
   "cell_type": "markdown",
   "metadata": {},
   "source": [
    "### Load the data:"
   ]
  },
  {
   "cell_type": "code",
   "execution_count": 2,
   "metadata": {},
   "outputs": [],
   "source": [
    "train_file = \"./StackOverflow/train.txt\"\n",
    "dev_file = \"./StackOverflow/dev.txt\"\n",
    "test_file = \"./StackOverflow/test.txt\"\n",
    "\n",
    "train_posts = loader_so.load_posts(train_file)\n",
    "dev_posts = loader_so.load_posts(dev_file)\n",
    "test_posts = loader_so.load_posts(test_file)"
   ]
  },
  {
   "cell_type": "code",
   "execution_count": 3,
   "metadata": {},
   "outputs": [
    {
     "name": "stdout",
     "output_type": "stream",
     "text": [
      "Number of posts in the train dataset: 1625\n",
      "Number of posts in the development dataset: 533\n",
      "Number of posts in the test dataset: 560\n"
     ]
    }
   ],
   "source": [
    "print(\"Number of posts in the train dataset:\", len(train_posts))\n",
    "print(\"Number of posts in the development dataset:\", len(dev_posts))\n",
    "print(\"Number of posts in the test dataset:\", len(test_posts))"
   ]
  },
  {
   "cell_type": "code",
   "execution_count": 4,
   "metadata": {},
   "outputs": [
    {
     "data": {
      "text/plain": [
       "[['If', 'O'],\n",
       " ['I', 'O'],\n",
       " ['would', 'O'],\n",
       " ['have', 'O'],\n",
       " ['2', 'O'],\n",
       " ['tables', 'B-Data_Structure'],\n",
       " ['How', 'O'],\n",
       " ['do', 'O'],\n",
       " ['I', 'O'],\n",
       " ['get', 'O'],\n",
       " ['this', 'O'],\n",
       " ['result', 'O'],\n",
       " ['The', 'O'],\n",
       " ['following', 'O'],\n",
       " ['query', 'O'],\n",
       " ['needs', 'O'],\n",
       " ['to', 'O'],\n",
       " ['be', 'O'],\n",
       " ['adjusted', 'O'],\n",
       " [',', 'O'],\n",
       " ['but', 'O'],\n",
       " ['I', 'O'],\n",
       " ['dont', 'O'],\n",
       " ['know', 'O'],\n",
       " ['how', 'O'],\n",
       " ['SQLFIDDLE', 'B-Application'],\n",
       " [':', 'O'],\n",
       " ['http://sqlfiddle.com/#!9/11093', 'O']]"
      ]
     },
     "execution_count": 4,
     "metadata": {},
     "output_type": "execute_result"
    }
   ],
   "source": [
    "train_posts[0]"
   ]
  },
  {
   "cell_type": "code",
   "execution_count": 5,
   "metadata": {},
   "outputs": [
    {
     "data": {
      "text/plain": [
       "[['Why', 'O'],\n",
       " ['does', 'O'],\n",
       " [':', 'O'],\n",
       " ['not', 'O'],\n",
       " ['compile', 'O'],\n",
       " ['but', 'O'],\n",
       " [':', 'O'],\n",
       " ['compiles', 'O'],\n",
       " ['.', 'O']]"
      ]
     },
     "execution_count": 5,
     "metadata": {},
     "output_type": "execute_result"
    }
   ],
   "source": [
    "dev_posts[0]"
   ]
  },
  {
   "cell_type": "code",
   "execution_count": 6,
   "metadata": {},
   "outputs": [
    {
     "data": {
      "text/plain": [
       "[['I', 'O'],\n",
       " ['am', 'O'],\n",
       " ['using', 'O'],\n",
       " ['custom', 'O'],\n",
       " ['adapter', 'B-Variable'],\n",
       " ['which', 'O'],\n",
       " ['I', 'O'],\n",
       " ['use', 'O'],\n",
       " ['for', 'O'],\n",
       " ['my', 'O'],\n",
       " ['ListView', 'B-Class'],\n",
       " ['.', 'O'],\n",
       " ['After', 'O'],\n",
       " ['creating', 'O'],\n",
       " ['ArrayList', 'B-Class'],\n",
       " ['I', 'O'],\n",
       " ['have', 'O'],\n",
       " ['the', 'O'],\n",
       " ['following', 'O'],\n",
       " ['code', 'O'],\n",
       " ['in', 'O'],\n",
       " ['my', 'O'],\n",
       " ['app', 'O'],\n",
       " [':', 'O'],\n",
       " ['However', 'O'],\n",
       " [',', 'O'],\n",
       " ['when', 'O'],\n",
       " ['I', 'O'],\n",
       " ['try', 'O'],\n",
       " ['to', 'O'],\n",
       " ['click', 'O'],\n",
       " ['on', 'O'],\n",
       " ['the', 'O'],\n",
       " ['checkbox', 'B-User_Interface_Element'],\n",
       " [',', 'O'],\n",
       " ['nothing', 'O'],\n",
       " ['happens', 'O'],\n",
       " ['.', 'O'],\n",
       " ['So', 'O'],\n",
       " ['I', 'O'],\n",
       " ['have', 'O'],\n",
       " ['to', 'O'],\n",
       " ['manage', 'O'],\n",
       " ['toggling', 'O'],\n",
       " ['checkbox', 'B-User_Interface_Element'],\n",
       " ['state', 'O'],\n",
       " ['manually', 'O'],\n",
       " ['.', 'O'],\n",
       " ['Then', 'O'],\n",
       " ['it', 'O'],\n",
       " ['works', 'O'],\n",
       " ['.', 'O'],\n",
       " ['(', 'O'],\n",
       " ['before', 'O'],\n",
       " ['that', 'O'],\n",
       " ['I', 'O'],\n",
       " ['have', 'O'],\n",
       " ['to', 'O'],\n",
       " ['remove', 'O'],\n",
       " ['setChoiceMode', 'B-Function'],\n",
       " ['method', 'O'],\n",
       " ['call', 'O'],\n",
       " [')', 'O'],\n",
       " ['So', 'O'],\n",
       " ['what', 'O'],\n",
       " ['could', 'O'],\n",
       " ['be', 'O'],\n",
       " ['the', 'O'],\n",
       " ['problem', 'O'],\n",
       " ['?', 'O'],\n",
       " ['Why', 'O'],\n",
       " ['there', 'O'],\n",
       " ['is', 'O'],\n",
       " ['no', 'O'],\n",
       " ['effect', 'O'],\n",
       " ['?', 'O'],\n",
       " ['my', 'O'],\n",
       " ['R.layout.listview_item_text.xml', 'B-File_Name'],\n",
       " ['In', 'O'],\n",
       " ['my', 'O'],\n",
       " ['adapter', 'B-Variable'],\n",
       " ['I', 'O'],\n",
       " ['inflate', 'O'],\n",
       " ['checkbox', 'B-User_Interface_Element'],\n",
       " ['layout', 'O'],\n",
       " ['with', 'O'],\n",
       " ['the', 'O'],\n",
       " ['following', 'O'],\n",
       " ['code', 'O'],\n",
       " [':', 'O'],\n",
       " ['listview_item_checkbox.xml', 'B-File_Name']]"
      ]
     },
     "execution_count": 6,
     "metadata": {},
     "output_type": "execute_result"
    }
   ],
   "source": [
    "test_posts[0]"
   ]
  },
  {
   "cell_type": "markdown",
   "metadata": {},
   "source": [
    "### Clean the data:"
   ]
  },
  {
   "cell_type": "code",
   "execution_count": 7,
   "metadata": {},
   "outputs": [
    {
     "name": "stdout",
     "output_type": "stream",
     "text": [
      "Number of empty posts in the train dataset: 0\n",
      "Number of empty posts in the development dataset: 0\n",
      "Number of empty posts in the test dataset: 0\n"
     ]
    }
   ],
   "source": [
    "print(\"Number of empty posts in the train dataset:\", len([1 for sent in train_posts if len(sent) == 0]))\n",
    "print(\"Number of empty posts in the development dataset:\", len([1 for sent in dev_posts if len(sent) == 0]))\n",
    "print(\"Number of empty posts in the test dataset:\", len([1 for sent in test_posts if len(sent) == 0]))"
   ]
  },
  {
   "cell_type": "code",
   "execution_count": 8,
   "metadata": {},
   "outputs": [],
   "source": [
    "train_posts_df = pd.Series([\" \".join([word[0] for word in sent]) for sent in train_posts])\n",
    "dev_posts_df = pd.Series([\" \".join([word[0] for word in sent]) for sent in dev_posts])\n",
    "test_posts_df = pd.Series([\" \".join([word[0] for word in sent]) for sent in test_posts])"
   ]
  },
  {
   "cell_type": "code",
   "execution_count": 9,
   "metadata": {},
   "outputs": [
    {
     "name": "stdout",
     "output_type": "stream",
     "text": [
      "Number of duplicated posts in the train dataset: 2 (0.12%)\n",
      "Number of duplicated posts in the development dataset: 1 (0.19%)\n",
      "Number of duplicated posts in the test dataset: 0 (0.00%)\n"
     ]
    }
   ],
   "source": [
    "print(f\"Number of duplicated posts in the train dataset: {train_posts_df.duplicated().sum()} ({train_posts_df.duplicated().sum()/train_posts_df.shape[0]:.2%})\")\n",
    "print(f\"Number of duplicated posts in the development dataset: {dev_posts_df.duplicated().sum()} ({dev_posts_df.duplicated().sum()/dev_posts_df.shape[0]:.2%})\")\n",
    "print(f\"Number of duplicated posts in the test dataset: {test_posts_df.duplicated().sum()} ({test_posts_df.duplicated().sum()/test_posts_df.shape[0]:.2%})\")"
   ]
  },
  {
   "cell_type": "markdown",
   "metadata": {},
   "source": [
    "### Analyze distributions:"
   ]
  },
  {
   "cell_type": "code",
   "execution_count": 10,
   "metadata": {},
   "outputs": [
    {
     "data": {
      "image/png": "[encoded data removed]",
      "text/plain": [
       "<Figure size 600x400 with 1 Axes>"
      ]
     },
     "metadata": {},
     "output_type": "display_data"
    }
   ],
   "source": [
    "plt.figure(figsize=(6, 4))\n",
    "sns.histplot([len(post) for post in train_posts_df], element=\"step\", fill=False)\n",
    "sns.histplot([len(post) for post in dev_posts_df], element=\"step\", fill=False)\n",
    "sns.histplot([len(post) for post in test_posts_df], element=\"step\", fill=False)\n",
    "plt.xlim([\n",
    "    0,\n",
    "    pd.Series([len(post) for post in train_posts_df] + [len(post) for post in dev_posts_df] + [len(post) for post in test_posts_df]).quantile(.99)\n",
    "])\n",
    "plt.legend(labels=[\"train\", \"development\" \"test\"])\n",
    "plt.title(\"Post lenght distributions for train, development and test datasets (max. p=99%)\")\n",
    "plt.show()"
   ]
  },
  {
   "cell_type": "code",
   "execution_count": 11,
   "metadata": {},
   "outputs": [
    {
     "data": {
      "text/plain": [
       "B-Class                     0.127\n",
       "B-Application               0.122\n",
       "B-Variable                  0.105\n",
       "B-User_Interface_Element    0.087\n",
       "B-Code_Block                0.078\n",
       "B-Function                  0.073\n",
       "B-Language                  0.069\n",
       "B-Library                   0.069\n",
       "B-Data_Structure            0.059\n",
       "B-Data_Type                 0.039\n",
       "B-File_Type                 0.034\n",
       "B-File_Name                 0.030\n",
       "B-Version                   0.024\n",
       "B-HTML_XML_Tag              0.019\n",
       "B-Device                    0.019\n",
       "B-Operating_System          0.016\n",
       "B-Website                   0.010\n",
       "B-User_Name                 0.008\n",
       "B-Output_Block              0.008\n",
       "B-Algorithm                 0.004\n",
       "Name: proportion, dtype: float64"
      ]
     },
     "execution_count": 11,
     "metadata": {},
     "output_type": "execute_result"
    }
   ],
   "source": [
    "pd.Series(list(chain(*[[word[1] for word in post if (word[1] != \"O\" and word[1][0:2] == \"B-\")] for post in train_posts]))).value_counts(dropna=False, normalize=True).round(3)"
   ]
  },
  {
   "cell_type": "code",
   "execution_count": 12,
   "metadata": {},
   "outputs": [
    {
     "data": {
      "text/plain": [
       "B-Application               0.141\n",
       "B-Class                     0.119\n",
       "B-User_Interface_Element    0.096\n",
       "B-Variable                  0.085\n",
       "B-Function                  0.077\n",
       "B-Code_Block                0.071\n",
       "B-Library                   0.066\n",
       "B-Data_Structure            0.053\n",
       "B-Language                  0.046\n",
       "B-Device                    0.044\n",
       "B-Version                   0.040\n",
       "B-Data_Type                 0.040\n",
       "B-File_Name                 0.039\n",
       "B-File_Type                 0.026\n",
       "B-Operating_System          0.021\n",
       "B-Website                   0.011\n",
       "B-HTML_XML_Tag              0.011\n",
       "B-User_Name                 0.009\n",
       "B-Algorithm                 0.003\n",
       "B-Output_Block              0.002\n",
       "Name: proportion, dtype: float64"
      ]
     },
     "execution_count": 12,
     "metadata": {},
     "output_type": "execute_result"
    }
   ],
   "source": [
    "pd.Series(list(chain(*[[word[1] for word in post if (word[1] != \"O\" and word[1][0:2] == \"B-\")] for post in dev_posts]))).value_counts(dropna=False, normalize=True).round(3)"
   ]
  },
  {
   "cell_type": "code",
   "execution_count": 13,
   "metadata": {},
   "outputs": [
    {
     "data": {
      "text/plain": [
       "B-Class                     0.139\n",
       "B-Application               0.111\n",
       "B-Variable                  0.103\n",
       "B-User_Interface_Element    0.097\n",
       "B-Code_Block                0.082\n",
       "B-Function                  0.072\n",
       "B-Library                   0.070\n",
       "B-Data_Structure            0.067\n",
       "B-Language                  0.048\n",
       "B-File_Name                 0.044\n",
       "B-File_Type                 0.035\n",
       "B-Version                   0.030\n",
       "B-Data_Type                 0.030\n",
       "B-Operating_System          0.018\n",
       "B-Device                    0.014\n",
       "B-HTML_XML_Tag              0.014\n",
       "B-Website                   0.011\n",
       "B-User_Name                 0.006\n",
       "B-Algorithm                 0.004\n",
       "B-Output_Block              0.004\n",
       "Name: proportion, dtype: float64"
      ]
     },
     "execution_count": 13,
     "metadata": {},
     "output_type": "execute_result"
    }
   ],
   "source": [
    "pd.Series(list(chain(*[[word[1] for word in post if (word[1] != \"O\" and word[1][0:2] == \"B-\")] for post in test_posts]))).value_counts(dropna=False, normalize=True).round(3)"
   ]
  },
  {
   "cell_type": "markdown",
   "metadata": {},
   "source": [
    "*WARNING: There are highly underrepresented entities.*"
   ]
  },
  {
   "cell_type": "markdown",
   "metadata": {},
   "source": [
    "### Persist datasets:"
   ]
  },
  {
   "cell_type": "code",
   "execution_count": 14,
   "metadata": {},
   "outputs": [],
   "source": [
    "all_posts = train_posts + dev_posts + test_posts"
   ]
  },
  {
   "cell_type": "code",
   "execution_count": null,
   "metadata": {},
   "outputs": [],
   "source": [
    "label_names = matchers[\"se_entities\"]\n",
    "\n",
    "for post in all_posts:\n",
    "    for token in post:\n",
    "        token[1] = label_names.index(token[1])"
   ]
  },
  {
   "cell_type": "code",
   "execution_count": 19,
   "metadata": {},
   "outputs": [],
   "source": [
    "with open(\"./se_entities.pkl\", \"wb\") as file:\n",
    "    pickle.dump(all_posts, file)"
   ]
  },
  {
   "cell_type": "code",
   "execution_count": null,
   "metadata": {},
   "outputs": [
    {
     "name": "stdout",
     "output_type": "stream",
     "text": [
      "Number of sentences in the persisted dataset: 2718\n"
     ]
    }
   ],
   "source": [
    "print(\"Number of posts in the persisted dataset:\", len(all_posts))"
   ]
  },
  {
   "cell_type": "code",
   "execution_count": 21,
   "metadata": {},
   "outputs": [],
   "source": [
    "# Deserialize the object from the binary file\n",
    "with open(\"./se_entities.pkl\", \"rb\") as file:\n",
    "    loaded_data = pickle.load(file)"
   ]
  },
  {
   "cell_type": "code",
   "execution_count": 22,
   "metadata": {},
   "outputs": [
    {
     "data": {
      "text/plain": [
       "[['If', 0],\n",
       " ['I', 0],\n",
       " ['would', 0],\n",
       " ['have', 0],\n",
       " ['2', 0],\n",
       " ['tables', 1],\n",
       " ['How', 0],\n",
       " ['do', 0],\n",
       " ['I', 0],\n",
       " ['get', 0],\n",
       " ['this', 0],\n",
       " ['result', 0],\n",
       " ['The', 0],\n",
       " ['following', 0],\n",
       " ['query', 0],\n",
       " ['needs', 0],\n",
       " ['to', 0],\n",
       " ['be', 0],\n",
       " ['adjusted', 0],\n",
       " [',', 0],\n",
       " ['but', 0],\n",
       " ['I', 0],\n",
       " ['dont', 0],\n",
       " ['know', 0],\n",
       " ['how', 0],\n",
       " ['SQLFIDDLE', 3],\n",
       " [':', 0],\n",
       " ['http://sqlfiddle.com/#!9/11093', 0]]"
      ]
     },
     "execution_count": 22,
     "metadata": {},
     "output_type": "execute_result"
    }
   ],
   "source": [
    "loaded_data[0]"
   ]
  },
  {
   "cell_type": "code",
   "execution_count": null,
   "metadata": {},
   "outputs": [],
   "source": []
  }
 ],
 "metadata": {
  "kernelspec": {
   "display_name": "senlp",
   "language": "python",
   "name": "python3"
  },
  "language_info": {
   "codemirror_mode": {
    "name": "ipython",
    "version": 3
   },
   "file_extension": ".py",
   "mimetype": "text/x-python",
   "name": "python",
   "nbconvert_exporter": "python",
   "pygments_lexer": "ipython3",
   "version": "3.12.4"
  }
 },
 "nbformat": 4,
 "nbformat_minor": 2
}
