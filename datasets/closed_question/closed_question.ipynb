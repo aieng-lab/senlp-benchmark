{
 "cells": [
  {
   "cell_type": "code",
   "execution_count": 1,
   "metadata": {},
   "outputs": [],
   "source": [
    "import sys\n",
    "\n",
    "import pandas as pd\n",
    "import matplotlib.pyplot as plt\n",
    "import seaborn as sns\n",
    "\n",
    "sys.path.append(\"../../../\")\n",
    "from config.label_matchers import matchers"
   ]
  },
  {
   "cell_type": "markdown",
   "metadata": {},
   "source": [
    "### Load the data:"
   ]
  },
  {
   "cell_type": "code",
   "execution_count": 2,
   "metadata": {},
   "outputs": [],
   "source": [
    "df = pd.read_csv(\"./train-sample.csv\")"
   ]
  },
  {
   "cell_type": "code",
   "execution_count": 3,
   "metadata": {},
   "outputs": [
    {
     "name": "stdout",
     "output_type": "stream",
     "text": [
      "Number of instances: 140272\n"
     ]
    }
   ],
   "source": [
    "print(\"Number of instances:\", df.shape[0])"
   ]
  },
  {
   "cell_type": "code",
   "execution_count": 4,
   "metadata": {},
   "outputs": [
    {
     "data": {
      "text/html": [
       "<div>\n",
       "<style scoped>\n",
       "    .dataframe tbody tr th:only-of-type {\n",
       "        vertical-align: middle;\n",
       "    }\n",
       "\n",
       "    .dataframe tbody tr th {\n",
       "        vertical-align: top;\n",
       "    }\n",
       "\n",
       "    .dataframe thead th {\n",
       "        text-align: right;\n",
       "    }\n",
       "</style>\n",
       "<table border=\"1\" class=\"dataframe\">\n",
       "  <thead>\n",
       "    <tr style=\"text-align: right;\">\n",
       "      <th></th>\n",
       "      <th>PostId</th>\n",
       "      <th>PostCreationDate</th>\n",
       "      <th>OwnerUserId</th>\n",
       "      <th>OwnerCreationDate</th>\n",
       "      <th>ReputationAtPostCreation</th>\n",
       "      <th>OwnerUndeletedAnswerCountAtPostTime</th>\n",
       "      <th>Title</th>\n",
       "      <th>BodyMarkdown</th>\n",
       "      <th>Tag1</th>\n",
       "      <th>Tag2</th>\n",
       "      <th>Tag3</th>\n",
       "      <th>Tag4</th>\n",
       "      <th>Tag5</th>\n",
       "      <th>PostClosedDate</th>\n",
       "      <th>OpenStatus</th>\n",
       "    </tr>\n",
       "  </thead>\n",
       "  <tbody>\n",
       "    <tr>\n",
       "      <th>93903</th>\n",
       "      <td>8614138</td>\n",
       "      <td>12/23/2011 09:15:30</td>\n",
       "      <td>1113088</td>\n",
       "      <td>12/23/2011 08:48:57</td>\n",
       "      <td>1</td>\n",
       "      <td>0</td>\n",
       "      <td>Display Data in a Jtable upon Row Selection in...</td>\n",
       "      <td>I'am working on a project which has-\\r\\n\\r\\n**...</td>\n",
       "      <td>java</td>\n",
       "      <td>mysql</td>\n",
       "      <td>database</td>\n",
       "      <td>jtable</td>\n",
       "      <td>NaN</td>\n",
       "      <td>12/24/2011 16:45:54</td>\n",
       "      <td>not a real question</td>\n",
       "    </tr>\n",
       "    <tr>\n",
       "      <th>3401</th>\n",
       "      <td>10123607</td>\n",
       "      <td>04/12/2012 12:30:21</td>\n",
       "      <td>1329079</td>\n",
       "      <td>04/12/2012 12:23:19</td>\n",
       "      <td>1</td>\n",
       "      <td>0</td>\n",
       "      <td>mysql,sql query.issue on selecting values</td>\n",
       "      <td>I have 2 tables.first one is user table and ot...</td>\n",
       "      <td>mysql</td>\n",
       "      <td>sql</td>\n",
       "      <td>NaN</td>\n",
       "      <td>NaN</td>\n",
       "      <td>NaN</td>\n",
       "      <td>NaN</td>\n",
       "      <td>open</td>\n",
       "    </tr>\n",
       "    <tr>\n",
       "      <th>113676</th>\n",
       "      <td>4176240</td>\n",
       "      <td>11/14/2010 04:54:49</td>\n",
       "      <td>507171</td>\n",
       "      <td>11/14/2010 04:54:49</td>\n",
       "      <td>1</td>\n",
       "      <td>0</td>\n",
       "      <td>How can i move image in opencv</td>\n",
       "      <td>I mearged image with a video,i want to move im...</td>\n",
       "      <td>c++</td>\n",
       "      <td>opencv</td>\n",
       "      <td>NaN</td>\n",
       "      <td>NaN</td>\n",
       "      <td>NaN</td>\n",
       "      <td>01/17/2011 03:13:00</td>\n",
       "      <td>not a real question</td>\n",
       "    </tr>\n",
       "    <tr>\n",
       "      <th>5464</th>\n",
       "      <td>11605687</td>\n",
       "      <td>07/23/2012 02:16:08</td>\n",
       "      <td>1544731</td>\n",
       "      <td>07/23/2012 01:39:55</td>\n",
       "      <td>1</td>\n",
       "      <td>0</td>\n",
       "      <td>minimum impact \"like\" request on Sybase ASE 12...</td>\n",
       "      <td>I would like to minimize the performace impact...</td>\n",
       "      <td>sql</td>\n",
       "      <td>query</td>\n",
       "      <td>optimization</td>\n",
       "      <td>locking</td>\n",
       "      <td>sybase</td>\n",
       "      <td>NaN</td>\n",
       "      <td>open</td>\n",
       "    </tr>\n",
       "    <tr>\n",
       "      <th>85589</th>\n",
       "      <td>8851335</td>\n",
       "      <td>01/13/2012 13:29:44</td>\n",
       "      <td>767387</td>\n",
       "      <td>05/24/2011 08:40:30</td>\n",
       "      <td>18</td>\n",
       "      <td>1</td>\n",
       "      <td>How to compress video using AVFoundation in iOS</td>\n",
       "      <td>Is there are any compression technique in iPho...</td>\n",
       "      <td>iphone</td>\n",
       "      <td>cocoa</td>\n",
       "      <td>ipad</td>\n",
       "      <td>avfoundation</td>\n",
       "      <td>NaN</td>\n",
       "      <td>06/04/2012 01:59:32</td>\n",
       "      <td>not a real question</td>\n",
       "    </tr>\n",
       "  </tbody>\n",
       "</table>\n",
       "</div>"
      ],
      "text/plain": [
       "          PostId     PostCreationDate  OwnerUserId    OwnerCreationDate  \\\n",
       "93903    8614138  12/23/2011 09:15:30      1113088  12/23/2011 08:48:57   \n",
       "3401    10123607  04/12/2012 12:30:21      1329079  04/12/2012 12:23:19   \n",
       "113676   4176240  11/14/2010 04:54:49       507171  11/14/2010 04:54:49   \n",
       "5464    11605687  07/23/2012 02:16:08      1544731  07/23/2012 01:39:55   \n",
       "85589    8851335  01/13/2012 13:29:44       767387  05/24/2011 08:40:30   \n",
       "\n",
       "        ReputationAtPostCreation  OwnerUndeletedAnswerCountAtPostTime  \\\n",
       "93903                          1                                    0   \n",
       "3401                           1                                    0   \n",
       "113676                         1                                    0   \n",
       "5464                           1                                    0   \n",
       "85589                         18                                    1   \n",
       "\n",
       "                                                    Title  \\\n",
       "93903   Display Data in a Jtable upon Row Selection in...   \n",
       "3401            mysql,sql query.issue on selecting values   \n",
       "113676                     How can i move image in opencv   \n",
       "5464    minimum impact \"like\" request on Sybase ASE 12...   \n",
       "85589     How to compress video using AVFoundation in iOS   \n",
       "\n",
       "                                             BodyMarkdown    Tag1    Tag2  \\\n",
       "93903   I'am working on a project which has-\\r\\n\\r\\n**...    java   mysql   \n",
       "3401    I have 2 tables.first one is user table and ot...   mysql     sql   \n",
       "113676  I mearged image with a video,i want to move im...     c++  opencv   \n",
       "5464    I would like to minimize the performace impact...     sql   query   \n",
       "85589   Is there are any compression technique in iPho...  iphone   cocoa   \n",
       "\n",
       "                Tag3          Tag4    Tag5       PostClosedDate  \\\n",
       "93903       database        jtable     NaN  12/24/2011 16:45:54   \n",
       "3401             NaN           NaN     NaN                  NaN   \n",
       "113676           NaN           NaN     NaN  01/17/2011 03:13:00   \n",
       "5464    optimization       locking  sybase                  NaN   \n",
       "85589           ipad  avfoundation     NaN  06/04/2012 01:59:32   \n",
       "\n",
       "                 OpenStatus  \n",
       "93903   not a real question  \n",
       "3401                   open  \n",
       "113676  not a real question  \n",
       "5464                   open  \n",
       "85589   not a real question  "
      ]
     },
     "execution_count": 4,
     "metadata": {},
     "output_type": "execute_result"
    }
   ],
   "source": [
    "df.sample(5)"
   ]
  },
  {
   "cell_type": "code",
   "execution_count": 5,
   "metadata": {},
   "outputs": [],
   "source": [
    "df.columns = [c.lower() for c in df.columns]\n",
    "\n",
    "df.rename(columns={\"postid\": \"id\", \"bodymarkdown\": \"body\", \"openstatus\": \"label\"}, inplace=True)"
   ]
  },
  {
   "cell_type": "code",
   "execution_count": 6,
   "metadata": {},
   "outputs": [
    {
     "name": "stderr",
     "output_type": "stream",
     "text": [
      "C:\\Users\\Fabian Pena\\AppData\\Local\\Temp\\ipykernel_20812\\926522606.py:2: FutureWarning: Downcasting behavior in `replace` is deprecated and will be removed in a future version. To retain the old behavior, explicitly call `result.infer_objects(copy=False)`. To opt-in to the future behavior, set `pd.set_option('future.no_silent_downcasting', True)`\n",
      "  df[\"label\"] = df[\"label\"].replace(matcher).astype(int)\n"
     ]
    }
   ],
   "source": [
    "matcher = {v: k for (k, v) in matchers[\"closed_question\"].items()}\n",
    "df[\"label\"] = df[\"label\"].replace(matcher).astype(int)"
   ]
  },
  {
   "cell_type": "markdown",
   "metadata": {},
   "source": [
    "### Clean the data:"
   ]
  },
  {
   "cell_type": "code",
   "execution_count": 7,
   "metadata": {},
   "outputs": [
    {
     "name": "stdout",
     "output_type": "stream",
     "text": [
      "Number of missing titles: 0\n",
      "Number of missing bodies: 0\n"
     ]
    }
   ],
   "source": [
    "print(\"Number of missing titles:\", df[\"title\"].isnull().sum())\n",
    "print(\"Number of missing bodies:\", df[\"body\"].isnull().sum())"
   ]
  },
  {
   "cell_type": "code",
   "execution_count": 8,
   "metadata": {},
   "outputs": [
    {
     "name": "stdout",
     "output_type": "stream",
     "text": [
      "Number of missing labels: 0\n",
      "Number of missing labels: 0\n"
     ]
    }
   ],
   "source": [
    "print(\"Number of missing labels:\", df[\"label\"].isnull().sum())\n",
    "print(\"Number of missing labels:\", df[\"label\"].isnull().sum())"
   ]
  },
  {
   "cell_type": "code",
   "execution_count": 9,
   "metadata": {},
   "outputs": [
    {
     "name": "stdout",
     "output_type": "stream",
     "text": [
      "Number of duplicated texts: 0 (0.00%)\n"
     ]
    }
   ],
   "source": [
    "print(f\"Number of duplicated texts: {df[[\"title\", \"body\"]].duplicated().sum()} ({df[[\"title\", \"body\"]].duplicated().sum()/df.shape[0]:.2%})\")"
   ]
  },
  {
   "cell_type": "markdown",
   "metadata": {},
   "source": [
    "### Analyze distributions:"
   ]
  },
  {
   "cell_type": "code",
   "execution_count": 10,
   "metadata": {},
   "outputs": [
    {
     "data": {
      "image/png": "[encoded data removed]",
      "text/plain": [
       "<Figure size 1200x400 with 2 Axes>"
      ]
     },
     "metadata": {},
     "output_type": "display_data"
    }
   ],
   "source": [
    "fig, axes = plt.subplots(1, 2, sharey=True, figsize=(12, 4))\n",
    "sns.histplot(df[\"title\"].str.len(), element=\"step\", fill=False, ax=axes[0])\n",
    "axes[0].set_xlim([\n",
    "    0,\n",
    "    df[\"title\"].str.len().quantile(.99)\n",
    "])\n",
    "sns.histplot(df[\"body\"].str.len(), element=\"step\", fill=False, ax=axes[1])\n",
    "axes[1].set_xlim([\n",
    "    0,\n",
    "    df[\"body\"].str.len().quantile(.99)\n",
    "])\n",
    "plt.suptitle(\"Title and body lenght distributions (max. p=99%)\")\n",
    "plt.show()"
   ]
  },
  {
   "cell_type": "code",
   "execution_count": 11,
   "metadata": {},
   "outputs": [
    {
     "data": {
      "text/plain": [
       "label\n",
       "0    0.50\n",
       "1    0.22\n",
       "2    0.12\n",
       "3    0.11\n",
       "4    0.04\n",
       "Name: proportion, dtype: float64"
      ]
     },
     "execution_count": 11,
     "metadata": {},
     "output_type": "execute_result"
    }
   ],
   "source": [
    "df[\"label\"].value_counts(dropna=False, normalize=True).round(2)"
   ]
  },
  {
   "cell_type": "markdown",
   "metadata": {},
   "source": [
    "### Prepare and persist datasets:"
   ]
  },
  {
   "cell_type": "code",
   "execution_count": 12,
   "metadata": {},
   "outputs": [],
   "source": [
    "def concat(x):\n",
    "    text = \"\"\n",
    "    if x[\"title\"] != \"\":\n",
    "        text = x[\"title\"]\n",
    "    if x[\"body\"] != \"\":\n",
    "        if text != \"\":\n",
    "            text += \".\\n\"\n",
    "        text += x[\"body\"]\n",
    "    return text\n",
    "\n",
    "df[\"text\"] = df.apply(concat, axis=1)"
   ]
  },
  {
   "cell_type": "code",
   "execution_count": 13,
   "metadata": {},
   "outputs": [
    {
     "name": "stdout",
     "output_type": "stream",
     "text": [
      "Number of duplicated texts in the entire dataset: 0 (0.00%)\n"
     ]
    }
   ],
   "source": [
    "print(f\"Number of duplicated texts in the entire dataset: {df[\"text\"].duplicated().sum()} ({df[\"text\"].duplicated().sum()/df.shape[0]:.2%})\")"
   ]
  },
  {
   "cell_type": "code",
   "execution_count": 14,
   "metadata": {},
   "outputs": [],
   "source": [
    "df[[\"id\", \"text\", \"label\"]].to_parquet(\"./closed_question.parquet\", index=False)"
   ]
  },
  {
   "cell_type": "code",
   "execution_count": 15,
   "metadata": {},
   "outputs": [
    {
     "name": "stdout",
     "output_type": "stream",
     "text": [
      "Number of instances in the persisted dataset: 140272\n"
     ]
    }
   ],
   "source": [
    "print(\"Number of instances in the persisted dataset:\", df.shape[0])"
   ]
  },
  {
   "cell_type": "code",
   "execution_count": null,
   "metadata": {},
   "outputs": [],
   "source": []
  }
 ],
 "metadata": {
  "kernelspec": {
   "display_name": "base",
   "language": "python",
   "name": "python3"
  },
  "language_info": {
   "codemirror_mode": {
    "name": "ipython",
    "version": 3
   },
   "file_extension": ".py",
   "mimetype": "text/x-python",
   "name": "python",
   "nbconvert_exporter": "python",
   "pygments_lexer": "ipython3",
   "version": "3.12.3"
  }
 },
 "nbformat": 4,
 "nbformat_minor": 2
}
