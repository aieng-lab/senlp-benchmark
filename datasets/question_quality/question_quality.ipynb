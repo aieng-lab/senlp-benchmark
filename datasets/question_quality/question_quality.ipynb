{
 "cells": [
  {
   "cell_type": "code",
   "execution_count": 1,
   "metadata": {},
   "outputs": [],
   "source": [
    "import pandas as pd\n",
    "import matplotlib.pyplot as plt\n",
    "import seaborn as sns"
   ]
  },
  {
   "cell_type": "markdown",
   "metadata": {},
   "source": [
    "### Load the data:"
   ]
  },
  {
   "cell_type": "code",
   "execution_count": 2,
   "metadata": {},
   "outputs": [],
   "source": [
    "train_df = pd.read_csv(\"./train.csv\")\n",
    "validation_df = pd.read_csv(\"./valid.csv\")"
   ]
  },
  {
   "cell_type": "code",
   "execution_count": 3,
   "metadata": {},
   "outputs": [
    {
     "name": "stdout",
     "output_type": "stream",
     "text": [
      "Number of instances in the train dataset: 45000\n",
      "Number of instances in the validation dataset: 15000\n"
     ]
    }
   ],
   "source": [
    "print(\"Number of instances in the train dataset:\", train_df.shape[0])\n",
    "print(\"Number of instances in the validation dataset:\", validation_df.shape[0])"
   ]
  },
  {
   "cell_type": "code",
   "execution_count": 4,
   "metadata": {},
   "outputs": [
    {
     "data": {
      "text/html": [
       "<div>\n",
       "<style scoped>\n",
       "    .dataframe tbody tr th:only-of-type {\n",
       "        vertical-align: middle;\n",
       "    }\n",
       "\n",
       "    .dataframe tbody tr th {\n",
       "        vertical-align: top;\n",
       "    }\n",
       "\n",
       "    .dataframe thead th {\n",
       "        text-align: right;\n",
       "    }\n",
       "</style>\n",
       "<table border=\"1\" class=\"dataframe\">\n",
       "  <thead>\n",
       "    <tr style=\"text-align: right;\">\n",
       "      <th></th>\n",
       "      <th>Id</th>\n",
       "      <th>Title</th>\n",
       "      <th>Body</th>\n",
       "      <th>Tags</th>\n",
       "      <th>CreationDate</th>\n",
       "      <th>Y</th>\n",
       "    </tr>\n",
       "  </thead>\n",
       "  <tbody>\n",
       "    <tr>\n",
       "      <th>4572</th>\n",
       "      <td>36478906</td>\n",
       "      <td>What is the working logic of '==' while compar...</td>\n",
       "      <td>&lt;p&gt;What logic works when we compare two object...</td>\n",
       "      <td>&lt;java&gt;</td>\n",
       "      <td>2016-04-07 14:15:07</td>\n",
       "      <td>LQ_CLOSE</td>\n",
       "    </tr>\n",
       "    <tr>\n",
       "      <th>37905</th>\n",
       "      <td>54167571</td>\n",
       "      <td>Mysqli result while loop returns null</td>\n",
       "      <td>&lt;p&gt;This code used to work last time i checked ...</td>\n",
       "      <td>&lt;php&gt;&lt;arrays&gt;&lt;mysqli&gt;&lt;while-loop&gt;</td>\n",
       "      <td>2019-01-13 09:29:42</td>\n",
       "      <td>LQ_CLOSE</td>\n",
       "    </tr>\n",
       "    <tr>\n",
       "      <th>6949</th>\n",
       "      <td>37822288</td>\n",
       "      <td>How to update S3 bucket with expire date using...</td>\n",
       "      <td>&lt;p&gt;I would like to update the S3 bucket with t...</td>\n",
       "      <td>&lt;amazon-s3&gt;&lt;aws-cli&gt;</td>\n",
       "      <td>2016-06-14 21:18:16</td>\n",
       "      <td>HQ</td>\n",
       "    </tr>\n",
       "    <tr>\n",
       "      <th>39527</th>\n",
       "      <td>55464609</td>\n",
       "      <td>Monitor bluetooth peripheral state changes eve...</td>\n",
       "      <td>&lt;p&gt;At the moment I am using &lt;code&gt;CBCentralMan...</td>\n",
       "      <td>&lt;c#&gt;&lt;ios&gt;&lt;swift&gt;&lt;xamarin&gt;&lt;xamarin.ios&gt;</td>\n",
       "      <td>2019-04-01 22:46:25</td>\n",
       "      <td>LQ_CLOSE</td>\n",
       "    </tr>\n",
       "    <tr>\n",
       "      <th>40795</th>\n",
       "      <td>56509640</td>\n",
       "      <td>How to set custom highlighted state of SwiftUI...</td>\n",
       "      <td>&lt;p&gt;I have a Button. I want to set custom backg...</td>\n",
       "      <td>&lt;swiftui&gt;</td>\n",
       "      <td>2019-06-08 19:48:44</td>\n",
       "      <td>HQ</td>\n",
       "    </tr>\n",
       "  </tbody>\n",
       "</table>\n",
       "</div>"
      ],
      "text/plain": [
       "             Id                                              Title  \\\n",
       "4572   36478906  What is the working logic of '==' while compar...   \n",
       "37905  54167571              Mysqli result while loop returns null   \n",
       "6949   37822288  How to update S3 bucket with expire date using...   \n",
       "39527  55464609  Monitor bluetooth peripheral state changes eve...   \n",
       "40795  56509640  How to set custom highlighted state of SwiftUI...   \n",
       "\n",
       "                                                    Body  \\\n",
       "4572   <p>What logic works when we compare two object...   \n",
       "37905  <p>This code used to work last time i checked ...   \n",
       "6949   <p>I would like to update the S3 bucket with t...   \n",
       "39527  <p>At the moment I am using <code>CBCentralMan...   \n",
       "40795  <p>I have a Button. I want to set custom backg...   \n",
       "\n",
       "                                         Tags         CreationDate         Y  \n",
       "4572                                   <java>  2016-04-07 14:15:07  LQ_CLOSE  \n",
       "37905       <php><arrays><mysqli><while-loop>  2019-01-13 09:29:42  LQ_CLOSE  \n",
       "6949                     <amazon-s3><aws-cli>  2016-06-14 21:18:16        HQ  \n",
       "39527  <c#><ios><swift><xamarin><xamarin.ios>  2019-04-01 22:46:25  LQ_CLOSE  \n",
       "40795                               <swiftui>  2019-06-08 19:48:44        HQ  "
      ]
     },
     "execution_count": 4,
     "metadata": {},
     "output_type": "execute_result"
    }
   ],
   "source": [
    "train_df.sample(5)"
   ]
  },
  {
   "cell_type": "code",
   "execution_count": 5,
   "metadata": {},
   "outputs": [
    {
     "data": {
      "text/html": [
       "<div>\n",
       "<style scoped>\n",
       "    .dataframe tbody tr th:only-of-type {\n",
       "        vertical-align: middle;\n",
       "    }\n",
       "\n",
       "    .dataframe tbody tr th {\n",
       "        vertical-align: top;\n",
       "    }\n",
       "\n",
       "    .dataframe thead th {\n",
       "        text-align: right;\n",
       "    }\n",
       "</style>\n",
       "<table border=\"1\" class=\"dataframe\">\n",
       "  <thead>\n",
       "    <tr style=\"text-align: right;\">\n",
       "      <th></th>\n",
       "      <th>Id</th>\n",
       "      <th>Title</th>\n",
       "      <th>Body</th>\n",
       "      <th>Tags</th>\n",
       "      <th>CreationDate</th>\n",
       "      <th>Y</th>\n",
       "    </tr>\n",
       "  </thead>\n",
       "  <tbody>\n",
       "    <tr>\n",
       "      <th>12336</th>\n",
       "      <td>53498721</td>\n",
       "      <td>How to handle regular expression</td>\n",
       "      <td>i have this list of data that needs to be pars...</td>\n",
       "      <td>&lt;c++&gt;&lt;c&gt;&lt;regex&gt;&lt;scanf&gt;</td>\n",
       "      <td>2018-11-27 11:32:20</td>\n",
       "      <td>LQ_EDIT</td>\n",
       "    </tr>\n",
       "    <tr>\n",
       "      <th>4836</th>\n",
       "      <td>41059550</td>\n",
       "      <td>Fetch the part of a string and replace the str...</td>\n",
       "      <td>I have a string as below.\\r\\n\\r\\n{{\"sId\":\"HSFJ...</td>\n",
       "      <td>&lt;c#&gt;&lt;json&gt;&lt;regex&gt;</td>\n",
       "      <td>2016-12-09 11:34:15</td>\n",
       "      <td>LQ_EDIT</td>\n",
       "    </tr>\n",
       "    <tr>\n",
       "      <th>12374</th>\n",
       "      <td>53565534</td>\n",
       "      <td>The Class-Path manifest attribute in [path] re...</td>\n",
       "      <td>&lt;p&gt;I am having a problem with Java 11/Spring B...</td>\n",
       "      <td>&lt;java&gt;&lt;maven&gt;&lt;intellij-idea&gt;</td>\n",
       "      <td>2018-11-30 22:05:28</td>\n",
       "      <td>HQ</td>\n",
       "    </tr>\n",
       "    <tr>\n",
       "      <th>14184</th>\n",
       "      <td>58041473</td>\n",
       "      <td>C++ count how many months until Oct without us...</td>\n",
       "      <td>How to count number of months from a given mon...</td>\n",
       "      <td>&lt;c++&gt;&lt;c++14&gt;</td>\n",
       "      <td>2019-09-21 15:02:15</td>\n",
       "      <td>LQ_EDIT</td>\n",
       "    </tr>\n",
       "    <tr>\n",
       "      <th>4646</th>\n",
       "      <td>40853538</td>\n",
       "      <td>Accept only input in a certain range in bash</td>\n",
       "      <td>&lt;p&gt;I'm writing a quick bash script and I only ...</td>\n",
       "      <td>&lt;linux&gt;&lt;bash&gt;&lt;shell&gt;</td>\n",
       "      <td>2016-11-28 21:09:29</td>\n",
       "      <td>LQ_CLOSE</td>\n",
       "    </tr>\n",
       "  </tbody>\n",
       "</table>\n",
       "</div>"
      ],
      "text/plain": [
       "             Id                                              Title  \\\n",
       "12336  53498721                   How to handle regular expression   \n",
       "4836   41059550  Fetch the part of a string and replace the str...   \n",
       "12374  53565534  The Class-Path manifest attribute in [path] re...   \n",
       "14184  58041473  C++ count how many months until Oct without us...   \n",
       "4646   40853538       Accept only input in a certain range in bash   \n",
       "\n",
       "                                                    Body  \\\n",
       "12336  i have this list of data that needs to be pars...   \n",
       "4836   I have a string as below.\\r\\n\\r\\n{{\"sId\":\"HSFJ...   \n",
       "12374  <p>I am having a problem with Java 11/Spring B...   \n",
       "14184  How to count number of months from a given mon...   \n",
       "4646   <p>I'm writing a quick bash script and I only ...   \n",
       "\n",
       "                               Tags         CreationDate         Y  \n",
       "12336        <c++><c><regex><scanf>  2018-11-27 11:32:20   LQ_EDIT  \n",
       "4836              <c#><json><regex>  2016-12-09 11:34:15   LQ_EDIT  \n",
       "12374  <java><maven><intellij-idea>  2018-11-30 22:05:28        HQ  \n",
       "14184                  <c++><c++14>  2019-09-21 15:02:15   LQ_EDIT  \n",
       "4646           <linux><bash><shell>  2016-11-28 21:09:29  LQ_CLOSE  "
      ]
     },
     "execution_count": 5,
     "metadata": {},
     "output_type": "execute_result"
    }
   ],
   "source": [
    "validation_df.sample(5)"
   ]
  },
  {
   "cell_type": "code",
   "execution_count": 6,
   "metadata": {},
   "outputs": [],
   "source": [
    "train_df.columns = [c.lower() for c in train_df.columns]\n",
    "validation_df.columns = [c.lower() for c in validation_df.columns]\n",
    "\n",
    "train_df.rename(columns={\"y\": \"label\"}, inplace=True)\n",
    "validation_df.rename(columns={\"y\": \"label\"}, inplace=True)"
   ]
  },
  {
   "cell_type": "code",
   "execution_count": 7,
   "metadata": {},
   "outputs": [
    {
     "name": "stderr",
     "output_type": "stream",
     "text": [
      "C:\\Users\\Fabian Pena\\AppData\\Local\\Temp\\ipykernel_27988\\4001089542.py:1: FutureWarning: Downcasting behavior in `replace` is deprecated and will be removed in a future version. To retain the old behavior, explicitly call `result.infer_objects(copy=False)`. To opt-in to the future behavior, set `pd.set_option('future.no_silent_downcasting', True)`\n",
      "  train_df[\"label\"] = train_df[\"label\"].replace({\"LQ_CLOSE\": 0, \"LQ_EDIT\": 1, \"HQ\": 2}).astype(int)\n",
      "C:\\Users\\Fabian Pena\\AppData\\Local\\Temp\\ipykernel_27988\\4001089542.py:2: FutureWarning: Downcasting behavior in `replace` is deprecated and will be removed in a future version. To retain the old behavior, explicitly call `result.infer_objects(copy=False)`. To opt-in to the future behavior, set `pd.set_option('future.no_silent_downcasting', True)`\n",
      "  validation_df[\"label\"] = validation_df[\"label\"].replace({\"LQ_CLOSE\": 0, \"LQ_EDIT\": 1, \"HQ\": 2}).astype(int)\n"
     ]
    }
   ],
   "source": [
    "train_df[\"label\"] = train_df[\"label\"].replace({\"LQ_CLOSE\": 0, \"LQ_EDIT\": 1, \"HQ\": 2}).astype(int)\n",
    "validation_df[\"label\"] = validation_df[\"label\"].replace({\"LQ_CLOSE\": 0, \"LQ_EDIT\": 1, \"HQ\": 2}).astype(int)"
   ]
  },
  {
   "cell_type": "markdown",
   "metadata": {},
   "source": [
    "### Clean the data:"
   ]
  },
  {
   "cell_type": "code",
   "execution_count": 8,
   "metadata": {},
   "outputs": [
    {
     "name": "stdout",
     "output_type": "stream",
     "text": [
      "Number of missing titles in the train dataset: 0\n",
      "Number of missing titles in the validation dataset: 0\n",
      "Number of missing bodies in the train dataset: 0\n",
      "Number of missing bodies in the validation dataset: 0\n"
     ]
    }
   ],
   "source": [
    "print(\"Number of missing titles in the train dataset:\", train_df[\"title\"].isnull().sum())\n",
    "print(\"Number of missing titles in the validation dataset:\", validation_df[\"title\"].isnull().sum())\n",
    "\n",
    "print(\"Number of missing bodies in the train dataset:\", train_df[\"body\"].isnull().sum())\n",
    "print(\"Number of missing bodies in the validation dataset:\", validation_df[\"body\"].isnull().sum())"
   ]
  },
  {
   "cell_type": "code",
   "execution_count": 9,
   "metadata": {},
   "outputs": [
    {
     "name": "stdout",
     "output_type": "stream",
     "text": [
      "Number of missing labels in the train dataset: 0\n",
      "Number of missing labels in the validation dataset: 0\n"
     ]
    }
   ],
   "source": [
    "print(\"Number of missing labels in the train dataset:\", train_df[\"label\"].isnull().sum())\n",
    "print(\"Number of missing labels in the validation dataset:\", validation_df[\"label\"].isnull().sum())"
   ]
  },
  {
   "cell_type": "code",
   "execution_count": 10,
   "metadata": {},
   "outputs": [
    {
     "name": "stdout",
     "output_type": "stream",
     "text": [
      "Number of duplicated titles and bodies in the train dataset: 0 (0.00%)\n",
      "Number of duplicated titles and bodies in the validation dataset: 0 (0.00%)\n"
     ]
    }
   ],
   "source": [
    "print(f\"Number of duplicated titles and bodies in the train dataset: {train_df[[\"title\", \"body\"]].duplicated().sum()} ({train_df[[\"title\", \"body\"]].duplicated().sum()/train_df.shape[0]:.2%})\")\n",
    "print(f\"Number of duplicated titles and bodies in the validation dataset: {validation_df[[\"title\", \"body\"]].duplicated().sum()} ({validation_df[[\"title\", \"body\"]].duplicated().sum()/validation_df.shape[0]:.2%})\")"
   ]
  },
  {
   "cell_type": "markdown",
   "metadata": {},
   "source": [
    "### Analyze distributions:"
   ]
  },
  {
   "cell_type": "code",
   "execution_count": 11,
   "metadata": {},
   "outputs": [
    {
     "data": {
      "image/png": "[encoded data removed]",
      "text/plain": [
       "<Figure size 1200x400 with 2 Axes>"
      ]
     },
     "metadata": {},
     "output_type": "display_data"
    }
   ],
   "source": [
    "fig, axes = plt.subplots(1, 2, sharey=True, figsize=(12, 4))\n",
    "sns.histplot(train_df[\"title\"].str.len(), element=\"step\", fill=False, ax=axes[0])\n",
    "sns.histplot(validation_df[\"title\"].str.len(), element=\"step\", fill=False, ax=axes[0])\n",
    "axes[0].set_xlim([\n",
    "    0,\n",
    "    pd.concat([\n",
    "        train_df[\"title\"].str.len(),\n",
    "        validation_df[\"title\"].str.len()\n",
    "    ], axis=1, ignore_index=True).quantile(.99).max()\n",
    "])\n",
    "axes[0].legend(labels=[\"train\", \"validation\"])\n",
    "sns.histplot(train_df[\"body\"].str.len(), element=\"step\", fill=False, ax=axes[1])\n",
    "sns.histplot(validation_df[\"body\"].str.len(), element=\"step\", fill=False, ax=axes[1])\n",
    "axes[1].set_xlim([\n",
    "    0,\n",
    "    pd.concat([\n",
    "        train_df[\"body\"].str.len(),\n",
    "        validation_df[\"body\"].str.len()\n",
    "    ], axis=1, ignore_index=True).quantile(.99).max()\n",
    "])\n",
    "axes[1].legend(labels=[\"train\", \"validation\"])\n",
    "plt.suptitle(\"Title and body lenght distributions for train and validation datasets (max. p=99%)\")\n",
    "plt.show()"
   ]
  },
  {
   "cell_type": "code",
   "execution_count": 13,
   "metadata": {},
   "outputs": [
    {
     "data": {
      "text/html": [
       "<div>\n",
       "<style scoped>\n",
       "    .dataframe tbody tr th:only-of-type {\n",
       "        vertical-align: middle;\n",
       "    }\n",
       "\n",
       "    .dataframe tbody tr th {\n",
       "        vertical-align: top;\n",
       "    }\n",
       "\n",
       "    .dataframe thead th {\n",
       "        text-align: right;\n",
       "    }\n",
       "</style>\n",
       "<table border=\"1\" class=\"dataframe\">\n",
       "  <thead>\n",
       "    <tr style=\"text-align: right;\">\n",
       "      <th></th>\n",
       "      <th>train</th>\n",
       "      <th>validation</th>\n",
       "      <th>all</th>\n",
       "    </tr>\n",
       "    <tr>\n",
       "      <th>label</th>\n",
       "      <th></th>\n",
       "      <th></th>\n",
       "      <th></th>\n",
       "    </tr>\n",
       "  </thead>\n",
       "  <tbody>\n",
       "    <tr>\n",
       "      <th>0</th>\n",
       "      <td>0.33</td>\n",
       "      <td>0.33</td>\n",
       "      <td>0.33</td>\n",
       "    </tr>\n",
       "    <tr>\n",
       "      <th>2</th>\n",
       "      <td>0.33</td>\n",
       "      <td>0.33</td>\n",
       "      <td>0.33</td>\n",
       "    </tr>\n",
       "    <tr>\n",
       "      <th>1</th>\n",
       "      <td>0.33</td>\n",
       "      <td>0.33</td>\n",
       "      <td>0.33</td>\n",
       "    </tr>\n",
       "  </tbody>\n",
       "</table>\n",
       "</div>"
      ],
      "text/plain": [
       "       train  validation   all\n",
       "label                         \n",
       "0       0.33        0.33  0.33\n",
       "2       0.33        0.33  0.33\n",
       "1       0.33        0.33  0.33"
      ]
     },
     "execution_count": 13,
     "metadata": {},
     "output_type": "execute_result"
    }
   ],
   "source": [
    "label_stats = pd.concat([\n",
    "    train_df[\"label\"].value_counts(dropna=False, normalize=True),\n",
    "    validation_df[\"label\"].value_counts(dropna=False, normalize=True),\n",
    "    pd.concat([train_df[\"label\"], validation_df[\"label\"]]).value_counts(dropna=False, normalize=True)\n",
    "], axis=1)\n",
    "label_stats.columns = [\"train\", \"validation\", \"all\"]\n",
    "label_stats.round(2)"
   ]
  },
  {
   "cell_type": "markdown",
   "metadata": {},
   "source": [
    "### Prepare and persist datasets:"
   ]
  },
  {
   "cell_type": "code",
   "execution_count": 14,
   "metadata": {},
   "outputs": [],
   "source": [
    "df = pd.concat([train_df, validation_df], ignore_index=True)"
   ]
  },
  {
   "cell_type": "code",
   "execution_count": 15,
   "metadata": {},
   "outputs": [],
   "source": [
    "def concat(x):\n",
    "    text = \"\"\n",
    "    if x[\"title\"] != \"\":\n",
    "        text = x[\"title\"]\n",
    "    if x[\"body\"] != \"\":\n",
    "        if text != \"\":\n",
    "            text += \".\\n\"\n",
    "        text += x[\"body\"]\n",
    "    return text\n",
    "\n",
    "df[\"text\"] = df.apply(concat, axis=1)"
   ]
  },
  {
   "cell_type": "code",
   "execution_count": 16,
   "metadata": {},
   "outputs": [
    {
     "name": "stdout",
     "output_type": "stream",
     "text": [
      "Number of duplicated texts in the entire dataset: 0 (0.00%)\n"
     ]
    }
   ],
   "source": [
    "print(f\"Number of duplicated texts in the entire dataset: {df[\"text\"].duplicated().sum()} ({df[\"text\"].duplicated().sum()/df.shape[0]:.2%})\")"
   ]
  },
  {
   "cell_type": "code",
   "execution_count": 17,
   "metadata": {},
   "outputs": [],
   "source": [
    "df[[\"id\", \"text\", \"label\"]].to_parquet(\"./question_quality.parquet\", index=False)"
   ]
  },
  {
   "cell_type": "code",
   "execution_count": 18,
   "metadata": {},
   "outputs": [
    {
     "name": "stdout",
     "output_type": "stream",
     "text": [
      "Number of instances in the persisted dataset: 60000\n"
     ]
    }
   ],
   "source": [
    "print(\"Number of instances in the persisted dataset:\", df.shape[0])"
   ]
  },
  {
   "cell_type": "code",
   "execution_count": null,
   "metadata": {},
   "outputs": [],
   "source": []
  }
 ],
 "metadata": {
  "kernelspec": {
   "display_name": "base",
   "language": "python",
   "name": "python3"
  },
  "language_info": {
   "codemirror_mode": {
    "name": "ipython",
    "version": 3
   },
   "file_extension": ".py",
   "mimetype": "text/x-python",
   "name": "python",
   "nbconvert_exporter": "python",
   "pygments_lexer": "ipython3",
   "version": "3.12.3"
  }
 },
 "nbformat": 4,
 "nbformat_minor": 2
}
