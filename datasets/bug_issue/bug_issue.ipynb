{
 "cells": [
  {
   "cell_type": "code",
   "execution_count": 1,
   "metadata": {},
   "outputs": [],
   "source": [
    "import pandas as pd\n",
    "import matplotlib.pyplot as plt\n",
    "import seaborn as sns"
   ]
  },
  {
   "cell_type": "markdown",
   "metadata": {},
   "source": [
    "### Load the data:"
   ]
  },
  {
   "cell_type": "code",
   "execution_count": 2,
   "metadata": {},
   "outputs": [],
   "source": [
    "train_df = pd.read_csv(\"./train_data_all.csv\")\n",
    "test_df = pd.read_csv(\"./test_data_all.csv\")"
   ]
  },
  {
   "cell_type": "code",
   "execution_count": 3,
   "metadata": {},
   "outputs": [
    {
     "name": "stdout",
     "output_type": "stream",
     "text": [
      "Number of instances in the train dataset: 30922\n",
      "Number of instances in the test dataset: 7297\n"
     ]
    }
   ],
   "source": [
    "print(\"Number of instances in the train dataset:\", train_df.shape[0])\n",
    "print(\"Number of instances in the test dataset:\", test_df.shape[0])"
   ]
  },
  {
   "cell_type": "code",
   "execution_count": 4,
   "metadata": {},
   "outputs": [
    {
     "data": {
      "text/html": [
       "<div>\n",
       "<style scoped>\n",
       "    .dataframe tbody tr th:only-of-type {\n",
       "        vertical-align: middle;\n",
       "    }\n",
       "\n",
       "    .dataframe tbody tr th {\n",
       "        vertical-align: top;\n",
       "    }\n",
       "\n",
       "    .dataframe thead th {\n",
       "        text-align: right;\n",
       "    }\n",
       "</style>\n",
       "<table border=\"1\" class=\"dataframe\">\n",
       "  <thead>\n",
       "    <tr style=\"text-align: right;\">\n",
       "      <th></th>\n",
       "      <th>id</th>\n",
       "      <th>title</th>\n",
       "      <th>description</th>\n",
       "      <th>project</th>\n",
       "      <th>label</th>\n",
       "    </tr>\n",
       "  </thead>\n",
       "  <tbody>\n",
       "    <tr>\n",
       "      <th>24597</th>\n",
       "      <td>5b475c8dc298bd5a8f822eb6</td>\n",
       "      <td>DomainStatistics to aggregate by TLD</td>\n",
       "      <td>The DomainStatistics tool aggregates counts by...</td>\n",
       "      <td>nutch</td>\n",
       "      <td>0</td>\n",
       "    </tr>\n",
       "    <tr>\n",
       "      <th>22460</th>\n",
       "      <td>5c57f503cf244d7545c839ef</td>\n",
       "      <td>Allow tika config parameter</td>\n",
       "      <td>It would be nice to have an option to pass a t...</td>\n",
       "      <td>manifoldcf</td>\n",
       "      <td>0</td>\n",
       "    </tr>\n",
       "    <tr>\n",
       "      <th>5098</th>\n",
       "      <td>5b3e0418faaadd4ca6c3b075</td>\n",
       "      <td>Contribute lifecycle events listeners via DI</td>\n",
       "      <td>Contribute lifecycle events listeners via DI, ...</td>\n",
       "      <td>cayenne</td>\n",
       "      <td>0</td>\n",
       "    </tr>\n",
       "    <tr>\n",
       "      <th>16862</th>\n",
       "      <td>5bdc014716772b0aa531f39b</td>\n",
       "      <td>NameNode endpoint exposed to gateway clients i...</td>\n",
       "      <td>Started Sandbox HDP Bombardier2,  in VirtualBo...</td>\n",
       "      <td>knox</td>\n",
       "      <td>1</td>\n",
       "    </tr>\n",
       "    <tr>\n",
       "      <th>28038</th>\n",
       "      <td>5b9bcf43f16c8726d2832c63</td>\n",
       "      <td>Bufferpool integer size overflow w/ entries &gt;2GB</td>\n",
       "      <td>The recent buffer pool integration of frames i...</td>\n",
       "      <td>systemml</td>\n",
       "      <td>1</td>\n",
       "    </tr>\n",
       "  </tbody>\n",
       "</table>\n",
       "</div>"
      ],
      "text/plain": [
       "                             id  \\\n",
       "24597  5b475c8dc298bd5a8f822eb6   \n",
       "22460  5c57f503cf244d7545c839ef   \n",
       "5098   5b3e0418faaadd4ca6c3b075   \n",
       "16862  5bdc014716772b0aa531f39b   \n",
       "28038  5b9bcf43f16c8726d2832c63   \n",
       "\n",
       "                                                   title  \\\n",
       "24597               DomainStatistics to aggregate by TLD   \n",
       "22460                        Allow tika config parameter   \n",
       "5098        Contribute lifecycle events listeners via DI   \n",
       "16862  NameNode endpoint exposed to gateway clients i...   \n",
       "28038   Bufferpool integer size overflow w/ entries >2GB   \n",
       "\n",
       "                                             description     project  label  \n",
       "24597  The DomainStatistics tool aggregates counts by...       nutch      0  \n",
       "22460  It would be nice to have an option to pass a t...  manifoldcf      0  \n",
       "5098   Contribute lifecycle events listeners via DI, ...     cayenne      0  \n",
       "16862  Started Sandbox HDP Bombardier2,  in VirtualBo...        knox      1  \n",
       "28038  The recent buffer pool integration of frames i...    systemml      1  "
      ]
     },
     "execution_count": 4,
     "metadata": {},
     "output_type": "execute_result"
    }
   ],
   "source": [
    "train_df.sample(5)"
   ]
  },
  {
   "cell_type": "code",
   "execution_count": 5,
   "metadata": {},
   "outputs": [
    {
     "data": {
      "text/html": [
       "<div>\n",
       "<style scoped>\n",
       "    .dataframe tbody tr th:only-of-type {\n",
       "        vertical-align: middle;\n",
       "    }\n",
       "\n",
       "    .dataframe tbody tr th {\n",
       "        vertical-align: top;\n",
       "    }\n",
       "\n",
       "    .dataframe thead th {\n",
       "        text-align: right;\n",
       "    }\n",
       "</style>\n",
       "<table border=\"1\" class=\"dataframe\">\n",
       "  <thead>\n",
       "    <tr style=\"text-align: right;\">\n",
       "      <th></th>\n",
       "      <th>id</th>\n",
       "      <th>title</th>\n",
       "      <th>description</th>\n",
       "      <th>project</th>\n",
       "      <th>label</th>\n",
       "    </tr>\n",
       "  </thead>\n",
       "  <tbody>\n",
       "    <tr>\n",
       "      <th>329</th>\n",
       "      <td>59b64e11e46e1360924a8e19</td>\n",
       "      <td>contrib/javascript is not packaged into releases</td>\n",
       "      <td>the contrib/javascript directory is (apparentl...</td>\n",
       "      <td>lucene-solr</td>\n",
       "      <td>0</td>\n",
       "    </tr>\n",
       "    <tr>\n",
       "      <th>1955</th>\n",
       "      <td>59b6577ee46e1360924b4eeb</td>\n",
       "      <td>Add support for terms in BytesRef format to Te...</td>\n",
       "      <td>It would be good to directly allow BytesRefs i...</td>\n",
       "      <td>lucene-solr</td>\n",
       "      <td>0</td>\n",
       "    </tr>\n",
       "    <tr>\n",
       "      <th>6157</th>\n",
       "      <td>5df3b0ddbe4a1617bff14d14</td>\n",
       "      <td>PATCH: CGIServlet does not terminate child aft...</td>\n",
       "      <td>CGIServlet does not kill CGI child process on ...</td>\n",
       "      <td>tomcat</td>\n",
       "      <td>0</td>\n",
       "    </tr>\n",
       "    <tr>\n",
       "      <th>6536</th>\n",
       "      <td>5df3c89cbe4a1617bff16e05</td>\n",
       "      <td>Parans trustStoreType trustStorePass trustStor...</td>\n",
       "      <td>When admin configure server.xml file its write...</td>\n",
       "      <td>tomcat</td>\n",
       "      <td>1</td>\n",
       "    </tr>\n",
       "    <tr>\n",
       "      <th>5926</th>\n",
       "      <td>5df3a1e0be4a1617bff135ed</td>\n",
       "      <td>\"Scripting elements are disallowed here\" excep...</td>\n",
       "      <td>[jdk 1.4.2_04]\\n\\nI got the exception for a sc...</td>\n",
       "      <td>tomcat</td>\n",
       "      <td>1</td>\n",
       "    </tr>\n",
       "  </tbody>\n",
       "</table>\n",
       "</div>"
      ],
      "text/plain": [
       "                            id  \\\n",
       "329   59b64e11e46e1360924a8e19   \n",
       "1955  59b6577ee46e1360924b4eeb   \n",
       "6157  5df3b0ddbe4a1617bff14d14   \n",
       "6536  5df3c89cbe4a1617bff16e05   \n",
       "5926  5df3a1e0be4a1617bff135ed   \n",
       "\n",
       "                                                  title  \\\n",
       "329    contrib/javascript is not packaged into releases   \n",
       "1955  Add support for terms in BytesRef format to Te...   \n",
       "6157  PATCH: CGIServlet does not terminate child aft...   \n",
       "6536  Parans trustStoreType trustStorePass trustStor...   \n",
       "5926  \"Scripting elements are disallowed here\" excep...   \n",
       "\n",
       "                                            description      project  label  \n",
       "329   the contrib/javascript directory is (apparentl...  lucene-solr      0  \n",
       "1955  It would be good to directly allow BytesRefs i...  lucene-solr      0  \n",
       "6157  CGIServlet does not kill CGI child process on ...       tomcat      0  \n",
       "6536  When admin configure server.xml file its write...       tomcat      1  \n",
       "5926  [jdk 1.4.2_04]\\n\\nI got the exception for a sc...       tomcat      1  "
      ]
     },
     "execution_count": 5,
     "metadata": {},
     "output_type": "execute_result"
    }
   ],
   "source": [
    "test_df.sample(5)"
   ]
  },
  {
   "cell_type": "markdown",
   "metadata": {},
   "source": [
    "### Clean the data:"
   ]
  },
  {
   "cell_type": "code",
   "execution_count": 6,
   "metadata": {},
   "outputs": [
    {
     "name": "stdout",
     "output_type": "stream",
     "text": [
      "Number of missing titles in the train dataset: 0\n",
      "Number of missing titles in the test dataset: 0\n",
      "Number of missing descriptions in the train dataset: 0\n",
      "Number of missing descriptions in the test dataset: 9\n"
     ]
    }
   ],
   "source": [
    "print(\"Number of missing titles in the train dataset:\", train_df[\"title\"].isnull().sum())\n",
    "print(\"Number of missing titles in the test dataset:\", test_df[\"title\"].isnull().sum())\n",
    "\n",
    "print(\"Number of missing descriptions in the train dataset:\", train_df[\"description\"].isnull().sum())\n",
    "print(\"Number of missing descriptions in the test dataset:\", test_df[\"description\"].isnull().sum())"
   ]
  },
  {
   "cell_type": "code",
   "execution_count": 7,
   "metadata": {},
   "outputs": [],
   "source": [
    "test_df.loc[test_df[\"description\"].isnull(), \"description\"] = \"\""
   ]
  },
  {
   "cell_type": "code",
   "execution_count": 8,
   "metadata": {},
   "outputs": [
    {
     "name": "stdout",
     "output_type": "stream",
     "text": [
      "Number of missing labels in the train dataset: 0\n",
      "Number of missing labels in the test dataset: 0\n"
     ]
    }
   ],
   "source": [
    "print(\"Number of missing labels in the train dataset:\", train_df[\"label\"].isnull().sum())\n",
    "print(\"Number of missing labels in the test dataset:\", test_df[\"label\"].isnull().sum())"
   ]
  },
  {
   "cell_type": "code",
   "execution_count": 9,
   "metadata": {},
   "outputs": [
    {
     "name": "stdout",
     "output_type": "stream",
     "text": [
      "Number of duplicated titles and descriptions in the train dataset: 64 (0.21%)\n",
      "Number of duplicated titles and descriptions in the test dataset: 0 (0.00%)\n"
     ]
    }
   ],
   "source": [
    "print(f\"Number of duplicated titles and descriptions in the train dataset: {train_df[[\"title\", \"description\"]].duplicated().sum()} ({train_df[[\"title\", \"description\"]].duplicated().sum()/train_df.shape[0]:.2%})\")\n",
    "print(f\"Number of duplicated titles and descriptions in the test dataset: {test_df[[\"title\", \"description\"]].duplicated().sum()} ({test_df[[\"title\", \"description\"]].duplicated().sum()/test_df.shape[0]:.2%})\")"
   ]
  },
  {
   "cell_type": "markdown",
   "metadata": {},
   "source": [
    "### Analyze distributions:"
   ]
  },
  {
   "cell_type": "code",
   "execution_count": 10,
   "metadata": {},
   "outputs": [
    {
     "data": {
      "image/png": "[encoded data removed]",
      "text/plain": [
       "<Figure size 1200x400 with 2 Axes>"
      ]
     },
     "metadata": {},
     "output_type": "display_data"
    }
   ],
   "source": [
    "fig, axes = plt.subplots(1, 2, sharey=True, figsize=(12, 4))\n",
    "sns.histplot(train_df[\"title\"].str.len(), element=\"step\", fill=False, ax=axes[0])\n",
    "sns.histplot(test_df[\"title\"].str.len(), element=\"step\", fill=False, ax=axes[0])\n",
    "axes[0].set_xlim([\n",
    "    0,\n",
    "    pd.concat([\n",
    "        train_df[\"title\"].str.len(),\n",
    "        test_df[\"title\"].str.len()\n",
    "    ], axis=1, ignore_index=True).quantile(.99).max()\n",
    "])\n",
    "axes[0].legend(labels=[\"train\", \"test\"])\n",
    "sns.histplot(train_df[\"description\"].str.len(), element=\"step\", fill=False, ax=axes[1])\n",
    "sns.histplot(test_df[\"description\"].str.len(), element=\"step\", fill=False, ax=axes[1])\n",
    "axes[1].set_xlim([\n",
    "    0,\n",
    "    pd.concat([\n",
    "        train_df[\"description\"].str.len(),\n",
    "        test_df[\"description\"].str.len()\n",
    "    ], axis=1, ignore_index=True).quantile(.99).max()\n",
    "])\n",
    "axes[1].legend(labels=[\"train\", \"test\"])\n",
    "plt.suptitle(\"Title and description lenght distributions for train and test datasets (max. p=99%)\")\n",
    "plt.show()"
   ]
  },
  {
   "cell_type": "code",
   "execution_count": 11,
   "metadata": {},
   "outputs": [
    {
     "data": {
      "text/html": [
       "<div>\n",
       "<style scoped>\n",
       "    .dataframe tbody tr th:only-of-type {\n",
       "        vertical-align: middle;\n",
       "    }\n",
       "\n",
       "    .dataframe tbody tr th {\n",
       "        vertical-align: top;\n",
       "    }\n",
       "\n",
       "    .dataframe thead th {\n",
       "        text-align: right;\n",
       "    }\n",
       "</style>\n",
       "<table border=\"1\" class=\"dataframe\">\n",
       "  <thead>\n",
       "    <tr style=\"text-align: right;\">\n",
       "      <th></th>\n",
       "      <th>train</th>\n",
       "      <th>test</th>\n",
       "      <th>all</th>\n",
       "    </tr>\n",
       "    <tr>\n",
       "      <th>label</th>\n",
       "      <th></th>\n",
       "      <th></th>\n",
       "      <th></th>\n",
       "    </tr>\n",
       "  </thead>\n",
       "  <tbody>\n",
       "    <tr>\n",
       "      <th>0</th>\n",
       "      <td>0.8</td>\n",
       "      <td>0.6</td>\n",
       "      <td>0.76</td>\n",
       "    </tr>\n",
       "    <tr>\n",
       "      <th>1</th>\n",
       "      <td>0.2</td>\n",
       "      <td>0.4</td>\n",
       "      <td>0.24</td>\n",
       "    </tr>\n",
       "  </tbody>\n",
       "</table>\n",
       "</div>"
      ],
      "text/plain": [
       "       train  test   all\n",
       "label                   \n",
       "0        0.8   0.6  0.76\n",
       "1        0.2   0.4  0.24"
      ]
     },
     "execution_count": 11,
     "metadata": {},
     "output_type": "execute_result"
    }
   ],
   "source": [
    "label_stats = pd.concat([\n",
    "    train_df[\"label\"].value_counts(dropna=False, normalize=True),\n",
    "    test_df[\"label\"].value_counts(dropna=False, normalize=True),\n",
    "    pd.concat([train_df[\"label\"], test_df[\"label\"]]).value_counts(dropna=False, normalize=True)\n",
    "], axis=1)\n",
    "label_stats.columns = [\"train\", \"test\", \"all\"]\n",
    "label_stats.round(2)"
   ]
  },
  {
   "cell_type": "markdown",
   "metadata": {},
   "source": [
    "*WARNING: The change in label proportions is attributed to datasets coming from different sources (aka projects).*"
   ]
  },
  {
   "cell_type": "markdown",
   "metadata": {},
   "source": [
    "### Prepare and persist datasets:"
   ]
  },
  {
   "cell_type": "code",
   "execution_count": 12,
   "metadata": {},
   "outputs": [],
   "source": [
    "df = pd.concat([train_df, test_df], ignore_index=True)"
   ]
  },
  {
   "cell_type": "code",
   "execution_count": 13,
   "metadata": {},
   "outputs": [],
   "source": [
    "def concat(x):\n",
    "    text = \"\"\n",
    "    if x[\"title\"] != \"\":\n",
    "        text = x[\"title\"]\n",
    "    if x[\"description\"] != \"\":\n",
    "        if text != \"\":\n",
    "            text += \".\\n\"\n",
    "        text += x[\"description\"]\n",
    "    return text\n",
    "\n",
    "df[\"text\"] = df.apply(concat, axis=1)"
   ]
  },
  {
   "cell_type": "code",
   "execution_count": 14,
   "metadata": {},
   "outputs": [
    {
     "name": "stdout",
     "output_type": "stream",
     "text": [
      "Number of duplicated texts in the entire dataset: 64 (0.17%)\n"
     ]
    }
   ],
   "source": [
    "print(f\"Number of duplicated texts in the entire dataset: {df[\"text\"].duplicated().sum()} ({df[\"text\"].duplicated().sum()/df.shape[0]:.2%})\")"
   ]
  },
  {
   "cell_type": "code",
   "execution_count": 15,
   "metadata": {},
   "outputs": [],
   "source": [
    "df[[\"id\", \"text\", \"label\"]].to_parquet(\"./bug_issue.parquet\", index=False)"
   ]
  },
  {
   "cell_type": "code",
   "execution_count": 16,
   "metadata": {},
   "outputs": [
    {
     "name": "stdout",
     "output_type": "stream",
     "text": [
      "Number of instances in the persisted dataset: 38219\n"
     ]
    }
   ],
   "source": [
    "print(\"Number of instances in the persisted dataset:\", df.shape[0])"
   ]
  },
  {
   "cell_type": "code",
   "execution_count": null,
   "metadata": {},
   "outputs": [],
   "source": []
  }
 ],
 "metadata": {
  "kernelspec": {
   "display_name": "base",
   "language": "python",
   "name": "python3"
  },
  "language_info": {
   "codemirror_mode": {
    "name": "ipython",
    "version": 3
   },
   "file_extension": ".py",
   "mimetype": "text/x-python",
   "name": "python",
   "nbconvert_exporter": "python",
   "pygments_lexer": "ipython3",
   "version": "3.12.3"
  }
 },
 "nbformat": 4,
 "nbformat_minor": 2
}
