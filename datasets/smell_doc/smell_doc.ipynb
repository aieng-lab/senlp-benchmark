{
 "cells": [
  {
   "cell_type": "code",
   "execution_count": 1,
   "metadata": {},
   "outputs": [],
   "source": [
    "import pandas as pd\n",
    "import matplotlib.pyplot as plt\n",
    "import seaborn as sns"
   ]
  },
  {
   "cell_type": "markdown",
   "metadata": {},
   "source": [
    "### Load the data:"
   ]
  },
  {
   "cell_type": "code",
   "execution_count": 2,
   "metadata": {},
   "outputs": [],
   "source": [
    "df = pd.read_excel(\"./DocumentationSmell_Benchmark_Dataset.xlsx\")"
   ]
  },
  {
   "cell_type": "code",
   "execution_count": 3,
   "metadata": {},
   "outputs": [
    {
     "name": "stdout",
     "output_type": "stream",
     "text": [
      "Number of instances: 1000\n"
     ]
    }
   ],
   "source": [
    "print(\"Number of instances:\", df.shape[0])"
   ]
  },
  {
   "cell_type": "code",
   "execution_count": 4,
   "metadata": {},
   "outputs": [
    {
     "data": {
      "text/html": [
       "<div>\n",
       "<style scoped>\n",
       "    .dataframe tbody tr th:only-of-type {\n",
       "        vertical-align: middle;\n",
       "    }\n",
       "\n",
       "    .dataframe tbody tr th {\n",
       "        vertical-align: top;\n",
       "    }\n",
       "\n",
       "    .dataframe thead th {\n",
       "        text-align: right;\n",
       "    }\n",
       "</style>\n",
       "<table border=\"1\" class=\"dataframe\">\n",
       "  <thead>\n",
       "    <tr style=\"text-align: right;\">\n",
       "      <th></th>\n",
       "      <th>Id</th>\n",
       "      <th>Method Prototype</th>\n",
       "      <th>Documentation Text</th>\n",
       "      <th>Fragmented</th>\n",
       "      <th>Tangled</th>\n",
       "      <th>Excessive Structured</th>\n",
       "      <th>Bloated</th>\n",
       "      <th>Lazy</th>\n",
       "    </tr>\n",
       "  </thead>\n",
       "  <tbody>\n",
       "    <tr>\n",
       "      <th>12</th>\n",
       "      <td>20</td>\n",
       "      <td>public Rectangle getInteriorRectangle(Componen...</td>\n",
       "      <td>public Rectangle getInteriorRectangle(Componen...</td>\n",
       "      <td>0</td>\n",
       "      <td>1</td>\n",
       "      <td>0</td>\n",
       "      <td>0</td>\n",
       "      <td>0</td>\n",
       "    </tr>\n",
       "    <tr>\n",
       "      <th>546</th>\n",
       "      <td>16088</td>\n",
       "      <td>public void setSelectionInterval(int anchor,  ...</td>\n",
       "      <td>public void setSelectionInterval(int anchor,  ...</td>\n",
       "      <td>1</td>\n",
       "      <td>0</td>\n",
       "      <td>0</td>\n",
       "      <td>0</td>\n",
       "      <td>0</td>\n",
       "    </tr>\n",
       "    <tr>\n",
       "      <th>250</th>\n",
       "      <td>6895</td>\n",
       "      <td>public void addMouseListener(MouseListener l)</td>\n",
       "      <td>public void addMouseListener(MouseListener l)_...</td>\n",
       "      <td>1</td>\n",
       "      <td>0</td>\n",
       "      <td>0</td>\n",
       "      <td>0</td>\n",
       "      <td>0</td>\n",
       "    </tr>\n",
       "    <tr>\n",
       "      <th>549</th>\n",
       "      <td>16094</td>\n",
       "      <td>public void setSelectedIndex(int index)</td>\n",
       "      <td>public void setSelectedIndex(int index)_x000D_...</td>\n",
       "      <td>1</td>\n",
       "      <td>0</td>\n",
       "      <td>0</td>\n",
       "      <td>0</td>\n",
       "      <td>0</td>\n",
       "    </tr>\n",
       "    <tr>\n",
       "      <th>194</th>\n",
       "      <td>5515</td>\n",
       "      <td>public static boolean isDigit(int codePoint)</td>\n",
       "      <td>public static boolean isDigit(int codePoint)_x...</td>\n",
       "      <td>0</td>\n",
       "      <td>0</td>\n",
       "      <td>0</td>\n",
       "      <td>0</td>\n",
       "      <td>0</td>\n",
       "    </tr>\n",
       "  </tbody>\n",
       "</table>\n",
       "</div>"
      ],
      "text/plain": [
       "        Id                                   Method Prototype  \\\n",
       "12      20  public Rectangle getInteriorRectangle(Componen...   \n",
       "546  16088  public void setSelectionInterval(int anchor,  ...   \n",
       "250   6895      public void addMouseListener(MouseListener l)   \n",
       "549  16094            public void setSelectedIndex(int index)   \n",
       "194   5515       public static boolean isDigit(int codePoint)   \n",
       "\n",
       "                                    Documentation Text  Fragmented  Tangled  \\\n",
       "12   public Rectangle getInteriorRectangle(Componen...           0        1   \n",
       "546  public void setSelectionInterval(int anchor,  ...           1        0   \n",
       "250  public void addMouseListener(MouseListener l)_...           1        0   \n",
       "549  public void setSelectedIndex(int index)_x000D_...           1        0   \n",
       "194  public static boolean isDigit(int codePoint)_x...           0        0   \n",
       "\n",
       "     Excessive Structured  Bloated  Lazy  \n",
       "12                      0        0     0  \n",
       "546                     0        0     0  \n",
       "250                     0        0     0  \n",
       "549                     0        0     0  \n",
       "194                     0        0     0  "
      ]
     },
     "execution_count": 4,
     "metadata": {},
     "output_type": "execute_result"
    }
   ],
   "source": [
    "df.sample(5)"
   ]
  },
  {
   "cell_type": "code",
   "execution_count": 5,
   "metadata": {},
   "outputs": [],
   "source": [
    "df.rename(columns={\"Id\": \"id\", \"Documentation Text\": \"text\", \"Fragmented\": \"label_fragmented\", \"Tangled\": \"label_tangled\", \"Excessive Structured\": \"label_excessive\", \"Bloated\": \"label_bloated\", \"Lazy\": \"label_lazy\"}, inplace=True)"
   ]
  },
  {
   "cell_type": "markdown",
   "metadata": {},
   "source": [
    "### Clean the data:"
   ]
  },
  {
   "cell_type": "code",
   "execution_count": 6,
   "metadata": {},
   "outputs": [
    {
     "name": "stdout",
     "output_type": "stream",
     "text": [
      "Number of missing texts: 0\n"
     ]
    }
   ],
   "source": [
    "print(\"Number of missing texts:\", df[\"text\"].isnull().sum())"
   ]
  },
  {
   "cell_type": "code",
   "execution_count": 7,
   "metadata": {},
   "outputs": [
    {
     "name": "stdout",
     "output_type": "stream",
     "text": [
      "Number of missing Fragmented labels: 0\n",
      "Number of missing Tangled labels: 0\n",
      "Number of missing Excessive Structured labels: 0\n",
      "Number of missing Bloated labels: 0\n",
      "Number of missing Lazy labels: 0\n"
     ]
    }
   ],
   "source": [
    "print(f\"Number of missing Fragmented labels:\", df[\"label_fragmented\"].isnull().sum())\n",
    "print(f\"Number of missing Tangled labels:\", df[\"label_tangled\"].isnull().sum())\n",
    "print(f\"Number of missing Excessive Structured labels:\", df[\"label_excessive\"].isnull().sum())\n",
    "print(f\"Number of missing Bloated labels:\", df[\"label_bloated\"].isnull().sum())\n",
    "print(f\"Number of missing Lazy labels:\", df[\"label_lazy\"].isnull().sum())"
   ]
  },
  {
   "cell_type": "code",
   "execution_count": 8,
   "metadata": {},
   "outputs": [
    {
     "name": "stdout",
     "output_type": "stream",
     "text": [
      "Number of duplicated texts: 56 (5.60%)\n"
     ]
    }
   ],
   "source": [
    "print(f\"Number of duplicated texts: {df[\"text\"].duplicated().sum()} ({df[\"text\"].duplicated().sum()/df.shape[0]:.2%})\")"
   ]
  },
  {
   "cell_type": "markdown",
   "metadata": {},
   "source": [
    "*WARNING: Duplicated texts is particularly high.*"
   ]
  },
  {
   "cell_type": "markdown",
   "metadata": {},
   "source": [
    "### Analyze distributions:"
   ]
  },
  {
   "cell_type": "code",
   "execution_count": 9,
   "metadata": {},
   "outputs": [
    {
     "data": {
      "image/png": "[encoded data removed]",
      "text/plain": [
       "<Figure size 600x400 with 1 Axes>"
      ]
     },
     "metadata": {},
     "output_type": "display_data"
    }
   ],
   "source": [
    "plt.figure(figsize=(6, 4))\n",
    "sns.histplot(df[\"text\"].str.len(), element=\"step\", fill=False)\n",
    "plt.xlim([0, df[\"text\"].str.len().quantile(.99)])\n",
    "plt.title(\"Text lenght distribution (p=99%)\")\n",
    "plt.show()"
   ]
  },
  {
   "cell_type": "code",
   "execution_count": 10,
   "metadata": {},
   "outputs": [
    {
     "data": {
      "text/html": [
       "<div>\n",
       "<style scoped>\n",
       "    .dataframe tbody tr th:only-of-type {\n",
       "        vertical-align: middle;\n",
       "    }\n",
       "\n",
       "    .dataframe tbody tr th {\n",
       "        vertical-align: top;\n",
       "    }\n",
       "\n",
       "    .dataframe thead th {\n",
       "        text-align: right;\n",
       "    }\n",
       "</style>\n",
       "<table border=\"1\" class=\"dataframe\">\n",
       "  <thead>\n",
       "    <tr style=\"text-align: right;\">\n",
       "      <th></th>\n",
       "      <th>Fragmented</th>\n",
       "      <th>Tangled</th>\n",
       "      <th>Excessive Structured</th>\n",
       "      <th>Bloated</th>\n",
       "      <th>Lazy</th>\n",
       "    </tr>\n",
       "  </thead>\n",
       "  <tbody>\n",
       "    <tr>\n",
       "      <th>0</th>\n",
       "      <td>0.77</td>\n",
       "      <td>0.75</td>\n",
       "      <td>0.75</td>\n",
       "      <td>0.86</td>\n",
       "      <td>0.72</td>\n",
       "    </tr>\n",
       "    <tr>\n",
       "      <th>1</th>\n",
       "      <td>0.23</td>\n",
       "      <td>0.25</td>\n",
       "      <td>0.25</td>\n",
       "      <td>0.14</td>\n",
       "      <td>0.28</td>\n",
       "    </tr>\n",
       "  </tbody>\n",
       "</table>\n",
       "</div>"
      ],
      "text/plain": [
       "   Fragmented  Tangled  Excessive Structured  Bloated  Lazy\n",
       "0        0.77     0.75                  0.75     0.86  0.72\n",
       "1        0.23     0.25                  0.25     0.14  0.28"
      ]
     },
     "execution_count": 10,
     "metadata": {},
     "output_type": "execute_result"
    }
   ],
   "source": [
    "pd.concat([\n",
    "    df[[\"label_fragmented\"]].value_counts(dropna=False, normalize=True).round(2).to_frame(\"Fragmented\"),\n",
    "    df[[\"label_tangled\"]].value_counts(dropna=False, normalize=True).round(2).to_frame(\"Tangled\"),\n",
    "    df[[\"label_excessive\"]].value_counts(dropna=False, normalize=True).round(2).to_frame(\"Excessive Structured\"),\n",
    "    df[[\"label_bloated\"]].value_counts(dropna=False, normalize=True).round(2).to_frame(\"Bloated\"),\n",
    "    df[[\"label_lazy\"]].value_counts(dropna=False, normalize=True).round(2).to_frame(\"Lazy\")\n",
    "], axis=1)"
   ]
  },
  {
   "cell_type": "code",
   "execution_count": 11,
   "metadata": {},
   "outputs": [
    {
     "data": {
      "text/plain": [
       "1    0.524\n",
       "0    0.222\n",
       "2    0.161\n",
       "3    0.074\n",
       "4    0.019\n",
       "Name: proportion, dtype: float64"
      ]
     },
     "execution_count": 11,
     "metadata": {},
     "output_type": "execute_result"
    }
   ],
   "source": [
    "df[[c for c in df.columns if c.startswith(\"label_\")]].sum(axis=1).value_counts(normalize=True)"
   ]
  },
  {
   "cell_type": "markdown",
   "metadata": {},
   "source": [
    "### Persist datasets:"
   ]
  },
  {
   "cell_type": "code",
   "execution_count": 12,
   "metadata": {},
   "outputs": [],
   "source": [
    "df[[\"id\", \"text\", \"label_fragmented\", \"label_tangled\", \"label_excessive\", \"label_bloated\", \"label_lazy\"]].to_parquet(\"./smell_doc.parquet\", index=False)"
   ]
  },
  {
   "cell_type": "code",
   "execution_count": 13,
   "metadata": {},
   "outputs": [
    {
     "name": "stdout",
     "output_type": "stream",
     "text": [
      "Number of instances in the persisted dataset: 1000\n"
     ]
    }
   ],
   "source": [
    "print(\"Number of instances in the persisted dataset:\", df.shape[0])"
   ]
  },
  {
   "cell_type": "code",
   "execution_count": null,
   "metadata": {},
   "outputs": [],
   "source": []
  }
 ],
 "metadata": {
  "kernelspec": {
   "display_name": "senlp",
   "language": "python",
   "name": "python3"
  },
  "language_info": {
   "codemirror_mode": {
    "name": "ipython",
    "version": 3
   },
   "file_extension": ".py",
   "mimetype": "text/x-python",
   "name": "python",
   "nbconvert_exporter": "python",
   "pygments_lexer": "ipython3",
   "version": "3.12.3"
  }
 },
 "nbformat": 4,
 "nbformat_minor": 2
}
