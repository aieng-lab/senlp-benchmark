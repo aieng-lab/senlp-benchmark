{
 "cells": [
  {
   "cell_type": "code",
   "execution_count": null,
   "id": "bf4cbd17",
   "metadata": {},
   "outputs": [],
   "source": [
    "import json\n",
    "import os\n",
    "\n",
    "import torch\n",
    "from transformers import (\n",
    "    AutoModelForMaskedLM,\n",
    "    AutoModelForSequenceClassification,\n",
    "    AutoModelForTokenClassification,\n",
    "    AutoTokenizer,\n",
    "    pipeline,\n",
    ")"
   ]
  },
  {
   "cell_type": "code",
   "execution_count": null,
   "id": "ac7402c1",
   "metadata": {},
   "outputs": [],
   "source": [
    "ORG_ID = \"aieng-lab\"\n",
    "RESULTS_BASE_PATH = \"./results/finetuning\"\n",
    "TEMP_BASE_PATH = \"./results/models\""
   ]
  },
  {
   "cell_type": "code",
   "execution_count": null,
   "id": "309c3536",
   "metadata": {},
   "outputs": [],
   "source": [
    "problem_type = \"fill-mask\"  # None, multi_label_classification, regression, token-classification, fill-mask\n",
    "task_name = \"requirement_completion\"\n",
    "num_labels = 1\n",
    "\n",
    "model_name = \"ModernBERT-large\"\n",
    "flash_attention = True"
   ]
  },
  {
   "cell_type": "code",
   "execution_count": null,
   "id": "4962831b",
   "metadata": {},
   "outputs": [],
   "source": [
    "model_path = os.path.join(RESULTS_BASE_PATH, task_name, model_name, \"test\", \"best\")\n",
    "model_path"
   ]
  },
  {
   "cell_type": "code",
   "execution_count": null,
   "id": "f688f32c",
   "metadata": {},
   "outputs": [],
   "source": [
    "with open(os.path.join(model_path, \"config.json\")) as f:\n",
    "    config = json.load(f)\n",
    "base_model_id = config[\"_name_or_path\"]\n",
    "base_model_id"
   ]
  },
  {
   "cell_type": "code",
   "execution_count": null,
   "id": "3c7423a6",
   "metadata": {},
   "outputs": [],
   "source": [
    "tokenizer = AutoTokenizer.from_pretrained(base_model_id)\n",
    "if problem_type == \"token-classification\":\n",
    "    model = AutoModelForTokenClassification.from_pretrained(\n",
    "        model_path,\n",
    "        torch_dtype=torch.bfloat16,\n",
    "        attn_implementation=\"flash_attention_2\" if flash_attention else None\n",
    "    )\n",
    "elif problem_type == \"fill-mask\":\n",
    "    model = AutoModelForMaskedLM.from_pretrained(\n",
    "        model_path,\n",
    "        torch_dtype=torch.bfloat16,\n",
    "        attn_implementation=\"flash_attention_2\" if flash_attention else None\n",
    "    )\n",
    "else:\n",
    "    model = AutoModelForSequenceClassification.from_pretrained(\n",
    "        model_path,\n",
    "        num_labels=num_labels,\n",
    "        problem_type=problem_type,\n",
    "        torch_dtype=torch.bfloat16,\n",
    "        attn_implementation=\"flash_attention_2\" if flash_attention else None\n",
    "    )"
   ]
  },
  {
   "cell_type": "code",
   "execution_count": null,
   "id": "40ad217f",
   "metadata": {},
   "outputs": [],
   "source": [
    "if problem_type == \"token-classification\":\n",
    "    problem_type_ = problem_type\n",
    "elif problem_type == \"fill-mask\":\n",
    "    problem_type_ = problem_type\n",
    "else:\n",
    "    problem_type_ = \"text-classification\"\n",
    "\n",
    "pipeline_ = pipeline(\n",
    "    problem_type_,\n",
    "    model=model,\n",
    "    tokenizer=tokenizer,\n",
    "    device=0\n",
    ")"
   ]
  },
  {
   "cell_type": "code",
   "execution_count": null,
   "id": "42e56076",
   "metadata": {},
   "outputs": [],
   "source": [
    "if problem_type == \"fill-mask\":\n",
    "    pipeline_(\"Hello [MASK]!\")\n",
    "else:\n",
    "    pipeline_(\"Hello world!\")"
   ]
  },
  {
   "cell_type": "code",
   "execution_count": null,
   "id": "3955185b",
   "metadata": {},
   "outputs": [],
   "source": [
    "new_model_id = f\"{model_name}_{task_name.replace(\"_\", \"-\")}\"\n",
    "new_model_id"
   ]
  },
  {
   "cell_type": "code",
   "execution_count": null,
   "id": "0f85471c",
   "metadata": {},
   "outputs": [],
   "source": [
    "new_model_path = os.path.join(TEMP_BASE_PATH, new_model_id)\n",
    "new_model_path"
   ]
  },
  {
   "cell_type": "code",
   "execution_count": null,
   "id": "a20e4aa5",
   "metadata": {},
   "outputs": [],
   "source": [
    "tokenizer.save_pretrained(new_model_path)\n",
    "model.save_pretrained(new_model_path)"
   ]
  },
  {
   "cell_type": "code",
   "execution_count": null,
   "id": "ec6fbeb7",
   "metadata": {},
   "outputs": [],
   "source": [
    "model.push_to_hub(f\"{ORG_ID}/{new_model_id}\", commit_message=\"Uploading model\")\n",
    "tokenizer.push_to_hub(f\"{ORG_ID}/{new_model_id}\", commit_message=\"Uploading tokenizer\")"
   ]
  },
  {
   "cell_type": "code",
   "execution_count": null,
   "id": "8610583d",
   "metadata": {},
   "outputs": [],
   "source": []
  }
 ],
 "metadata": {
  "kernelspec": {
   "display_name": "senlp",
   "language": "python",
   "name": "python3"
  },
  "language_info": {
   "codemirror_mode": {
    "name": "ipython",
    "version": 3
   },
   "file_extension": ".py",
   "mimetype": "text/x-python",
   "name": "python",
   "nbconvert_exporter": "python",
   "pygments_lexer": "ipython3",
   "version": "3.12.4"
  }
 },
 "nbformat": 4,
 "nbformat_minor": 5
}
